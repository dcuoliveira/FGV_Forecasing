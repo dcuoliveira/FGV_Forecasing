{
 "cells": [
  {
   "cell_type": "code",
   "execution_count": 152,
   "metadata": {},
   "outputs": [],
   "source": [
    "rm(list=ls())\n",
    "library(data.table)\n",
    "library(readr)\n",
    "library(lmtest)\n",
    "library(DescTools)\n",
    "library(strucchange)\n",
    "library(gap)\n",
    "library(ggplot2)\n",
    "library(tidyr)\n"
   ]
  },
  {
   "cell_type": "code",
   "execution_count": 93,
   "metadata": {},
   "outputs": [
    {
     "name": "stderr",
     "output_type": "stream",
     "text": [
      "Parsed with column specification:\n",
      "cols(\n",
      "  date = col_character(),\n",
      "  D2000s = col_double(),\n",
      "  Dea = col_double(),\n",
      "  ipr = col_double(),\n",
      "  pr = col_double(),\n",
      "  sr = col_double(),\n",
      "  su = col_double(),\n",
      "  y = col_double()\n",
      ")\n"
     ]
    },
    {
     "data": {
      "text/html": [
       "<table>\n",
       "<thead><tr><th scope=col>date</th><th scope=col>D2000s</th><th scope=col>Dea</th><th scope=col>ipr</th><th scope=col>pr</th><th scope=col>sr</th><th scope=col>su</th><th scope=col>y</th></tr></thead>\n",
       "<tbody>\n",
       "\t<tr><td>1/1/1996   </td><td>0          </td><td>0          </td><td>-0.4265874 </td><td>0.40000000 </td><td> 8.241198  </td><td>-4.007445  </td><td>-0.01904023</td></tr>\n",
       "\t<tr><td>4/1/1996   </td><td>0          </td><td>0          </td><td>-0.2197676 </td><td>0.13333333 </td><td> 4.946607  </td><td>-1.455733  </td><td> 0.77048056</td></tr>\n",
       "\t<tr><td>7/1/1996   </td><td>0          </td><td>0          </td><td> 0.3352411 </td><td>0.06666667 </td><td>-1.752723  </td><td> 1.208689  </td><td> 0.54469339</td></tr>\n",
       "\t<tr><td>10/1/1996  </td><td>0          </td><td>0          </td><td> 0.3801191 </td><td>0.13333333 </td><td> 7.017096  </td><td> 3.506695  </td><td> 0.30761525</td></tr>\n",
       "\t<tr><td>1/1/1997   </td><td>0          </td><td>0          </td><td> 1.1544964 </td><td>0.23333333 </td><td>13.832756  </td><td> 2.692859  </td><td> 0.34899919</td></tr>\n",
       "\t<tr><td>4/1/1997   </td><td>0          </td><td>0          </td><td> 1.8913093 </td><td>0.06666667 </td><td> 7.967459  </td><td> 2.945239  </td><td> 1.25097564</td></tr>\n",
       "</tbody>\n",
       "</table>\n"
      ],
      "text/latex": [
       "\\begin{tabular}{r|llllllll}\n",
       " date & D2000s & Dea & ipr & pr & sr & su & y\\\\\n",
       "\\hline\n",
       "\t 1/1/1996    & 0           & 0           & -0.4265874  & 0.40000000  &  8.241198   & -4.007445   & -0.01904023\\\\\n",
       "\t 4/1/1996    & 0           & 0           & -0.2197676  & 0.13333333  &  4.946607   & -1.455733   &  0.77048056\\\\\n",
       "\t 7/1/1996    & 0           & 0           &  0.3352411  & 0.06666667  & -1.752723   &  1.208689   &  0.54469339\\\\\n",
       "\t 10/1/1996   & 0           & 0           &  0.3801191  & 0.13333333  &  7.017096   &  3.506695   &  0.30761525\\\\\n",
       "\t 1/1/1997    & 0           & 0           &  1.1544964  & 0.23333333  & 13.832756   &  2.692859   &  0.34899919\\\\\n",
       "\t 4/1/1997    & 0           & 0           &  1.8913093  & 0.06666667  &  7.967459   &  2.945239   &  1.25097564\\\\\n",
       "\\end{tabular}\n"
      ],
      "text/markdown": [
       "\n",
       "| date | D2000s | Dea | ipr | pr | sr | su | y |\n",
       "|---|---|---|---|---|---|---|---|\n",
       "| 1/1/1996    | 0           | 0           | -0.4265874  | 0.40000000  |  8.241198   | -4.007445   | -0.01904023 |\n",
       "| 4/1/1996    | 0           | 0           | -0.2197676  | 0.13333333  |  4.946607   | -1.455733   |  0.77048056 |\n",
       "| 7/1/1996    | 0           | 0           |  0.3352411  | 0.06666667  | -1.752723   |  1.208689   |  0.54469339 |\n",
       "| 10/1/1996   | 0           | 0           |  0.3801191  | 0.13333333  |  7.017096   |  3.506695   |  0.30761525 |\n",
       "| 1/1/1997    | 0           | 0           |  1.1544964  | 0.23333333  | 13.832756   |  2.692859   |  0.34899919 |\n",
       "| 4/1/1997    | 0           | 0           |  1.8913093  | 0.06666667  |  7.967459   |  2.945239   |  1.25097564 |\n",
       "\n"
      ],
      "text/plain": [
       "  date      D2000s Dea ipr        pr         sr        su        y          \n",
       "1 1/1/1996  0      0   -0.4265874 0.40000000  8.241198 -4.007445 -0.01904023\n",
       "2 4/1/1996  0      0   -0.2197676 0.13333333  4.946607 -1.455733  0.77048056\n",
       "3 7/1/1996  0      0    0.3352411 0.06666667 -1.752723  1.208689  0.54469339\n",
       "4 10/1/1996 0      0    0.3801191 0.13333333  7.017096  3.506695  0.30761525\n",
       "5 1/1/1997  0      0    1.1544964 0.23333333 13.832756  2.692859  0.34899919\n",
       "6 4/1/1997  0      0    1.8913093 0.06666667  7.967459  2.945239  1.25097564"
      ]
     },
     "metadata": {},
     "output_type": "display_data"
    }
   ],
   "source": [
    "df = df_orig = readr::read_csv(\"C:/Users/daniel.oliveira/Downloads/ex2_misspecification_gdp.csv\")\n",
    "head(df)"
   ]
  },
  {
   "cell_type": "code",
   "execution_count": 51,
   "metadata": {},
   "outputs": [
    {
     "data": {
      "text/html": [
       "<ol class=list-inline>\n",
       "\t<li>70</li>\n",
       "\t<li>8</li>\n",
       "</ol>\n"
      ],
      "text/latex": [
       "\\begin{enumerate*}\n",
       "\\item 70\n",
       "\\item 8\n",
       "\\end{enumerate*}\n"
      ],
      "text/markdown": [
       "1. 70\n",
       "2. 8\n",
       "\n",
       "\n"
      ],
      "text/plain": [
       "[1] 70  8"
      ]
     },
     "metadata": {},
     "output_type": "display_data"
    }
   ],
   "source": [
    "dim(df)"
   ]
  },
  {
   "cell_type": "code",
   "execution_count": 52,
   "metadata": {},
   "outputs": [],
   "source": [
    "df_est = df[1:50,]\n",
    "df_fore = df[51:dim(df)[1],]"
   ]
  },
  {
   "cell_type": "code",
   "execution_count": 55,
   "metadata": {},
   "outputs": [
    {
     "data": {
      "text/html": [
       "<table>\n",
       "<thead><tr><th scope=col>date</th><th scope=col>D2000s</th><th scope=col>Dea</th><th scope=col>ipr</th><th scope=col>pr</th><th scope=col>sr</th><th scope=col>su</th><th scope=col>y</th></tr></thead>\n",
       "<tbody>\n",
       "\t<tr><td>7/1/2008    </td><td>0           </td><td>1           </td><td> -2.10042728</td><td> 0.00000000 </td><td>-13.7905698 </td><td> -6.7185584 </td><td>-0.61506471 </td></tr>\n",
       "\t<tr><td>10/1/2008   </td><td>0           </td><td>1           </td><td> -7.23093227</td><td>-0.20000000 </td><td>-30.4569522 </td><td>-15.5874664 </td><td>-1.72452387 </td></tr>\n",
       "\t<tr><td>1/1/2009    </td><td>0           </td><td>1           </td><td>-10.19533573</td><td> 0.00000000 </td><td>-13.1696866 </td><td>-11.0417475 </td><td>-2.88021895 </td></tr>\n",
       "\t<tr><td>4/1/2009    </td><td>0           </td><td>1           </td><td> -1.17303398</td><td> 0.23333333 </td><td>  9.6375994 </td><td>  4.7682131 </td><td>-0.28041886 </td></tr>\n",
       "\t<tr><td>7/1/2009    </td><td>0           </td><td>1           </td><td>  2.33246726</td><td>-0.13333333 </td><td> 11.5561306 </td><td> 11.1902265 </td><td> 0.39527627 </td></tr>\n",
       "\t<tr><td>10/1/2009   </td><td>0           </td><td>1           </td><td>  1.32536532</td><td> 0.20000000 </td><td>  7.9768923 </td><td>  8.7638989 </td><td> 0.44712089 </td></tr>\n",
       "\t<tr><td>1/1/2010    </td><td>0           </td><td>1           </td><td>  2.02279861</td><td> 0.20000000 </td><td> -0.1095891 </td><td>  4.9602800 </td><td> 0.40563164 </td></tr>\n",
       "\t<tr><td>4/1/2010    </td><td>0           </td><td>1           </td><td>  2.82912936</td><td> 0.16666667 </td><td> -2.3295563 </td><td>  2.9629275 </td><td> 0.89268768 </td></tr>\n",
       "\t<tr><td>7/1/2010    </td><td>0           </td><td>1           </td><td>  0.94872634</td><td> 0.03333333 </td><td> -0.7887365 </td><td>  3.0405515 </td><td> 0.41400208 </td></tr>\n",
       "\t<tr><td>10/1/2010   </td><td>0           </td><td>1           </td><td>  2.20199598</td><td> 0.33333333 </td><td>  5.1802215 </td><td>  3.4866797 </td><td> 0.52372301 </td></tr>\n",
       "\t<tr><td>1/1/2011    </td><td>0           </td><td>1           </td><td>  0.67829717</td><td> 0.36666667 </td><td>  4.4124805 </td><td>  1.4976879 </td><td> 0.75437937 </td></tr>\n",
       "\t<tr><td>4/1/2011    </td><td>0           </td><td>1           </td><td> -0.18365478</td><td> 0.20000000 </td><td> -1.4493007 </td><td> -1.6864859 </td><td> 0.07104049 </td></tr>\n",
       "\t<tr><td>7/1/2011    </td><td>0           </td><td>1           </td><td>  0.36697289</td><td> 0.10000000 </td><td>-17.3807332 </td><td> -6.4391550 </td><td> 0.07119716 </td></tr>\n",
       "\t<tr><td>10/1/2011   </td><td>0           </td><td>1           </td><td> -1.37826117</td><td> 0.26666667 </td><td> -6.1400357 </td><td> -5.0286076 </td><td>-0.20918296 </td></tr>\n",
       "\t<tr><td>1/1/2012    </td><td>0           </td><td>1           </td><td> -0.58812167</td><td> 0.33333333 </td><td>  9.0742315 </td><td>  0.6338049 </td><td>-0.09931532 </td></tr>\n",
       "\t<tr><td>4/1/2012    </td><td>0           </td><td>1           </td><td> -0.62127314</td><td> 0.10000000 </td><td> -8.2857912 </td><td> -2.8120735 </td><td>-0.31381358 </td></tr>\n",
       "\t<tr><td>7/1/2012    </td><td>0           </td><td>1           </td><td>  0.05933545</td><td> 0.20000000 </td><td>  6.3392577 </td><td> -5.4909935 </td><td>-0.12421484 </td></tr>\n",
       "\t<tr><td>10/1/2012   </td><td>0           </td><td>1           </td><td> -1.98698565</td><td> 0.13333333 </td><td>  5.3808556 </td><td> -0.7272759 </td><td>-0.50220895 </td></tr>\n",
       "\t<tr><td>1/1/2013    </td><td>0           </td><td>0           </td><td>  0.31213840</td><td> 0.20000000 </td><td>  6.0966959 </td><td>  3.7697641 </td><td>-0.22573785 </td></tr>\n",
       "\t<tr><td>4/1/2013    </td><td>0           </td><td>0           </td><td>  0.95052994</td><td> 0.03333333 </td><td>  1.3057857 </td><td> -0.3335189 </td><td> 0.26411228 </td></tr>\n",
       "</tbody>\n",
       "</table>\n"
      ],
      "text/latex": [
       "\\begin{tabular}{r|llllllll}\n",
       " date & D2000s & Dea & ipr & pr & sr & su & y\\\\\n",
       "\\hline\n",
       "\t 7/1/2008     & 0            & 1            &  -2.10042728 &  0.00000000  & -13.7905698  &  -6.7185584  & -0.61506471 \\\\\n",
       "\t 10/1/2008    & 0            & 1            &  -7.23093227 & -0.20000000  & -30.4569522  & -15.5874664  & -1.72452387 \\\\\n",
       "\t 1/1/2009     & 0            & 1            & -10.19533573 &  0.00000000  & -13.1696866  & -11.0417475  & -2.88021895 \\\\\n",
       "\t 4/1/2009     & 0            & 1            &  -1.17303398 &  0.23333333  &   9.6375994  &   4.7682131  & -0.28041886 \\\\\n",
       "\t 7/1/2009     & 0            & 1            &   2.33246726 & -0.13333333  &  11.5561306  &  11.1902265  &  0.39527627 \\\\\n",
       "\t 10/1/2009    & 0            & 1            &   1.32536532 &  0.20000000  &   7.9768923  &   8.7638989  &  0.44712089 \\\\\n",
       "\t 1/1/2010     & 0            & 1            &   2.02279861 &  0.20000000  &  -0.1095891  &   4.9602800  &  0.40563164 \\\\\n",
       "\t 4/1/2010     & 0            & 1            &   2.82912936 &  0.16666667  &  -2.3295563  &   2.9629275  &  0.89268768 \\\\\n",
       "\t 7/1/2010     & 0            & 1            &   0.94872634 &  0.03333333  &  -0.7887365  &   3.0405515  &  0.41400208 \\\\\n",
       "\t 10/1/2010    & 0            & 1            &   2.20199598 &  0.33333333  &   5.1802215  &   3.4866797  &  0.52372301 \\\\\n",
       "\t 1/1/2011     & 0            & 1            &   0.67829717 &  0.36666667  &   4.4124805  &   1.4976879  &  0.75437937 \\\\\n",
       "\t 4/1/2011     & 0            & 1            &  -0.18365478 &  0.20000000  &  -1.4493007  &  -1.6864859  &  0.07104049 \\\\\n",
       "\t 7/1/2011     & 0            & 1            &   0.36697289 &  0.10000000  & -17.3807332  &  -6.4391550  &  0.07119716 \\\\\n",
       "\t 10/1/2011    & 0            & 1            &  -1.37826117 &  0.26666667  &  -6.1400357  &  -5.0286076  & -0.20918296 \\\\\n",
       "\t 1/1/2012     & 0            & 1            &  -0.58812167 &  0.33333333  &   9.0742315  &   0.6338049  & -0.09931532 \\\\\n",
       "\t 4/1/2012     & 0            & 1            &  -0.62127314 &  0.10000000  &  -8.2857912  &  -2.8120735  & -0.31381358 \\\\\n",
       "\t 7/1/2012     & 0            & 1            &   0.05933545 &  0.20000000  &   6.3392577  &  -5.4909935  & -0.12421484 \\\\\n",
       "\t 10/1/2012    & 0            & 1            &  -1.98698565 &  0.13333333  &   5.3808556  &  -0.7272759  & -0.50220895 \\\\\n",
       "\t 1/1/2013     & 0            & 0            &   0.31213840 &  0.20000000  &   6.0966959  &   3.7697641  & -0.22573785 \\\\\n",
       "\t 4/1/2013     & 0            & 0            &   0.95052994 &  0.03333333  &   1.3057857  &  -0.3335189  &  0.26411228 \\\\\n",
       "\\end{tabular}\n"
      ],
      "text/markdown": [
       "\n",
       "| date | D2000s | Dea | ipr | pr | sr | su | y |\n",
       "|---|---|---|---|---|---|---|---|\n",
       "| 7/1/2008     | 0            | 1            |  -2.10042728 |  0.00000000  | -13.7905698  |  -6.7185584  | -0.61506471  |\n",
       "| 10/1/2008    | 0            | 1            |  -7.23093227 | -0.20000000  | -30.4569522  | -15.5874664  | -1.72452387  |\n",
       "| 1/1/2009     | 0            | 1            | -10.19533573 |  0.00000000  | -13.1696866  | -11.0417475  | -2.88021895  |\n",
       "| 4/1/2009     | 0            | 1            |  -1.17303398 |  0.23333333  |   9.6375994  |   4.7682131  | -0.28041886  |\n",
       "| 7/1/2009     | 0            | 1            |   2.33246726 | -0.13333333  |  11.5561306  |  11.1902265  |  0.39527627  |\n",
       "| 10/1/2009    | 0            | 1            |   1.32536532 |  0.20000000  |   7.9768923  |   8.7638989  |  0.44712089  |\n",
       "| 1/1/2010     | 0            | 1            |   2.02279861 |  0.20000000  |  -0.1095891  |   4.9602800  |  0.40563164  |\n",
       "| 4/1/2010     | 0            | 1            |   2.82912936 |  0.16666667  |  -2.3295563  |   2.9629275  |  0.89268768  |\n",
       "| 7/1/2010     | 0            | 1            |   0.94872634 |  0.03333333  |  -0.7887365  |   3.0405515  |  0.41400208  |\n",
       "| 10/1/2010    | 0            | 1            |   2.20199598 |  0.33333333  |   5.1802215  |   3.4866797  |  0.52372301  |\n",
       "| 1/1/2011     | 0            | 1            |   0.67829717 |  0.36666667  |   4.4124805  |   1.4976879  |  0.75437937  |\n",
       "| 4/1/2011     | 0            | 1            |  -0.18365478 |  0.20000000  |  -1.4493007  |  -1.6864859  |  0.07104049  |\n",
       "| 7/1/2011     | 0            | 1            |   0.36697289 |  0.10000000  | -17.3807332  |  -6.4391550  |  0.07119716  |\n",
       "| 10/1/2011    | 0            | 1            |  -1.37826117 |  0.26666667  |  -6.1400357  |  -5.0286076  | -0.20918296  |\n",
       "| 1/1/2012     | 0            | 1            |  -0.58812167 |  0.33333333  |   9.0742315  |   0.6338049  | -0.09931532  |\n",
       "| 4/1/2012     | 0            | 1            |  -0.62127314 |  0.10000000  |  -8.2857912  |  -2.8120735  | -0.31381358  |\n",
       "| 7/1/2012     | 0            | 1            |   0.05933545 |  0.20000000  |   6.3392577  |  -5.4909935  | -0.12421484  |\n",
       "| 10/1/2012    | 0            | 1            |  -1.98698565 |  0.13333333  |   5.3808556  |  -0.7272759  | -0.50220895  |\n",
       "| 1/1/2013     | 0            | 0            |   0.31213840 |  0.20000000  |   6.0966959  |   3.7697641  | -0.22573785  |\n",
       "| 4/1/2013     | 0            | 0            |   0.95052994 |  0.03333333  |   1.3057857  |  -0.3335189  |  0.26411228  |\n",
       "\n"
      ],
      "text/plain": [
       "   date      D2000s Dea ipr          pr          sr          su         \n",
       "1  7/1/2008  0      1    -2.10042728  0.00000000 -13.7905698  -6.7185584\n",
       "2  10/1/2008 0      1    -7.23093227 -0.20000000 -30.4569522 -15.5874664\n",
       "3  1/1/2009  0      1   -10.19533573  0.00000000 -13.1696866 -11.0417475\n",
       "4  4/1/2009  0      1    -1.17303398  0.23333333   9.6375994   4.7682131\n",
       "5  7/1/2009  0      1     2.33246726 -0.13333333  11.5561306  11.1902265\n",
       "6  10/1/2009 0      1     1.32536532  0.20000000   7.9768923   8.7638989\n",
       "7  1/1/2010  0      1     2.02279861  0.20000000  -0.1095891   4.9602800\n",
       "8  4/1/2010  0      1     2.82912936  0.16666667  -2.3295563   2.9629275\n",
       "9  7/1/2010  0      1     0.94872634  0.03333333  -0.7887365   3.0405515\n",
       "10 10/1/2010 0      1     2.20199598  0.33333333   5.1802215   3.4866797\n",
       "11 1/1/2011  0      1     0.67829717  0.36666667   4.4124805   1.4976879\n",
       "12 4/1/2011  0      1    -0.18365478  0.20000000  -1.4493007  -1.6864859\n",
       "13 7/1/2011  0      1     0.36697289  0.10000000 -17.3807332  -6.4391550\n",
       "14 10/1/2011 0      1    -1.37826117  0.26666667  -6.1400357  -5.0286076\n",
       "15 1/1/2012  0      1    -0.58812167  0.33333333   9.0742315   0.6338049\n",
       "16 4/1/2012  0      1    -0.62127314  0.10000000  -8.2857912  -2.8120735\n",
       "17 7/1/2012  0      1     0.05933545  0.20000000   6.3392577  -5.4909935\n",
       "18 10/1/2012 0      1    -1.98698565  0.13333333   5.3808556  -0.7272759\n",
       "19 1/1/2013  0      0     0.31213840  0.20000000   6.0966959   3.7697641\n",
       "20 4/1/2013  0      0     0.95052994  0.03333333   1.3057857  -0.3335189\n",
       "   y          \n",
       "1  -0.61506471\n",
       "2  -1.72452387\n",
       "3  -2.88021895\n",
       "4  -0.28041886\n",
       "5   0.39527627\n",
       "6   0.44712089\n",
       "7   0.40563164\n",
       "8   0.89268768\n",
       "9   0.41400208\n",
       "10  0.52372301\n",
       "11  0.75437937\n",
       "12  0.07104049\n",
       "13  0.07119716\n",
       "14 -0.20918296\n",
       "15 -0.09931532\n",
       "16 -0.31381358\n",
       "17 -0.12421484\n",
       "18 -0.50220895\n",
       "19 -0.22573785\n",
       "20  0.26411228"
      ]
     },
     "metadata": {},
     "output_type": "display_data"
    }
   ],
   "source": [
    "df_fore"
   ]
  },
  {
   "cell_type": "code",
   "execution_count": 62,
   "metadata": {},
   "outputs": [
    {
     "data": {
      "text/plain": [
       "\n",
       "Call:\n",
       "lm(formula = y ~ ipr + su + sr, data = df_est)\n",
       "\n",
       "Residuals:\n",
       "    Min      1Q  Median      3Q     Max \n",
       "-0.5432 -0.1664 -0.0085  0.1828  0.6480 \n",
       "\n",
       "Coefficients:\n",
       "             Estimate Std. Error t value Pr(>|t|)    \n",
       "(Intercept)  0.365212   0.052841   6.911 1.24e-08 ***\n",
       "ipr          0.321634   0.068263   4.712 2.30e-05 ***\n",
       "su          -0.011736   0.021999  -0.533    0.596    \n",
       "sr           0.007018   0.005286   1.328    0.191    \n",
       "---\n",
       "Signif. codes:  0 '***' 0.001 '**' 0.01 '*' 0.05 '.' 0.1 ' ' 1\n",
       "\n",
       "Residual standard error: 0.2617 on 46 degrees of freedom\n",
       "Multiple R-squared:  0.5087,\tAdjusted R-squared:  0.4766 \n",
       "F-statistic: 15.88 on 3 and 46 DF,  p-value: 3.186e-07\n"
      ]
     },
     "metadata": {},
     "output_type": "display_data"
    }
   ],
   "source": [
    "model2 = lm(y ~ ipr + su + sr, data = df_est)\n",
    "summary(model2)"
   ]
  },
  {
   "cell_type": "markdown",
   "metadata": {},
   "source": [
    "### Breusch-Pagan test - H0: sigma_t = sigma (homoskedasticity) => do not reject H0\n"
   ]
  },
  {
   "cell_type": "code",
   "execution_count": 9,
   "metadata": {},
   "outputs": [
    {
     "data": {
      "text/plain": [
       "\n",
       "\tstudentized Breusch-Pagan test\n",
       "\n",
       "data:  model2\n",
       "BP = 2.4511, df = 3, p-value = 0.4842\n"
      ]
     },
     "metadata": {},
     "output_type": "display_data"
    }
   ],
   "source": [
    "bptest(model2)"
   ]
  },
  {
   "cell_type": "markdown",
   "metadata": {},
   "source": [
    "### White test - H0: sigma_t = sigma (homoskedasticity) => do not reject H0"
   ]
  },
  {
   "cell_type": "code",
   "execution_count": 10,
   "metadata": {},
   "outputs": [
    {
     "data": {
      "text/plain": [
       "\n",
       "Call:\n",
       "lm(formula = residuals2_squared ~ ipr + su + sr + ipr_squared + \n",
       "    su_squared + sr_squared, data = df2)\n",
       "\n",
       "Residuals:\n",
       "     Min       1Q   Median       3Q      Max \n",
       "-0.11647 -0.06299 -0.03539  0.04095  0.46472 \n",
       "\n",
       "Coefficients:\n",
       "              Estimate Std. Error t value Pr(>|t|)   \n",
       "(Intercept)  0.0633208  0.0189430   3.343   0.0014 **\n",
       "ipr          0.0110147  0.0168328   0.654   0.5153   \n",
       "su          -0.0054646  0.0059879  -0.913   0.3649   \n",
       "sr           0.0029561  0.0019825   1.491   0.1409   \n",
       "ipr_squared -0.0005696  0.0018238  -0.312   0.7558   \n",
       "su_squared   0.0003406  0.0005811   0.586   0.5599   \n",
       "sr_squared   0.0000745  0.0001183   0.630   0.5311   \n",
       "---\n",
       "Signif. codes:  0 '***' 0.001 '**' 0.01 '*' 0.05 '.' 0.1 ' ' 1\n",
       "\n",
       "Residual standard error: 0.1084 on 63 degrees of freedom\n",
       "Multiple R-squared:  0.05703,\tAdjusted R-squared:  -0.03277 \n",
       "F-statistic: 0.6351 on 6 and 63 DF,  p-value: 0.7017\n"
      ]
     },
     "metadata": {},
     "output_type": "display_data"
    }
   ],
   "source": [
    "residuals2_squared = (model2$residuals)^2\n",
    "ipr_squared = df$ipr^2\n",
    "su_squared = df$su^2\n",
    "sr_squared = df$sr^2\n",
    "df2 = cbind(df, residuals2_squared, ipr_squared, su_squared, sr_squared)\n",
    "model2_white_adj = lm(residuals2_squared ~ ipr + su + sr + ipr_squared + su_squared + sr_squared, data = df2) \n",
    "summary(model2_white_adj)"
   ]
  },
  {
   "cell_type": "markdown",
   "metadata": {},
   "source": [
    "### Durbin watson test - H0: e_t uncorrelated => reject H0"
   ]
  },
  {
   "cell_type": "code",
   "execution_count": 13,
   "metadata": {},
   "outputs": [
    {
     "data": {
      "text/plain": [
       "\n",
       "\tDurbin-Watson test\n",
       "\n",
       "data:  model2\n",
       "DW = 1.4337, p-value = 0.004866\n",
       "alternative hypothesis: true autocorrelation is greater than 0\n"
      ]
     },
     "metadata": {},
     "output_type": "display_data"
    }
   ],
   "source": [
    "dwtest(model2) "
   ]
  },
  {
   "cell_type": "markdown",
   "metadata": {},
   "source": [
    "### Jarque-Bera test of normality - H0: skew and kurtosis close to normal => do not reject H0"
   ]
  },
  {
   "cell_type": "code",
   "execution_count": 14,
   "metadata": {},
   "outputs": [
    {
     "data": {
      "text/plain": [
       "\n",
       "\tRobust Jarque Bera Test\n",
       "\n",
       "data:  model2$residuals\n",
       "X-squared = 0.32972, df = 2, p-value = 0.848\n"
      ]
     },
     "metadata": {},
     "output_type": "display_data"
    }
   ],
   "source": [
    "JarqueBeraTest(model2$residuals)"
   ]
  },
  {
   "cell_type": "markdown",
   "metadata": {},
   "source": [
    "### Breusch-Godfrey LM test - H0:     => reject H0"
   ]
  },
  {
   "cell_type": "code",
   "execution_count": 16,
   "metadata": {},
   "outputs": [
    {
     "data": {
      "text/plain": [
       "\n",
       "\tBreusch-Godfrey test for serial correlation of order up to 1\n",
       "\n",
       "data:  model2\n",
       "LM test = 5.0031, df = 1, p-value = 0.0253\n"
      ]
     },
     "metadata": {},
     "output_type": "display_data"
    }
   ],
   "source": [
    "bgtest(model2)"
   ]
  },
  {
   "cell_type": "markdown",
   "metadata": {},
   "source": [
    "### Chow breakpoint test - H0:     => reject H0"
   ]
  },
  {
   "cell_type": "code",
   "execution_count": 17,
   "metadata": {},
   "outputs": [
    {
     "data": {
      "image/png": "[encoded data removed]",
      "text/plain": [
       "plot without title"
      ]
     },
     "metadata": {},
     "output_type": "display_data"
    }
   ],
   "source": [
    "ts.plot(df_est$y)"
   ]
  },
  {
   "cell_type": "code",
   "execution_count": 18,
   "metadata": {},
   "outputs": [
    {
     "data": {
      "text/plain": [
       "\n",
       "\tChow test\n",
       "\n",
       "data:  y ~ ipr + su + sr\n",
       "F = 2.2577, p-value = 0.07296\n"
      ]
     },
     "metadata": {},
     "output_type": "display_data"
    }
   ],
   "source": [
    "sctest(y ~ ipr + su + sr, data = df_est, type = 'Chow', from = 50, to = 55)"
   ]
  },
  {
   "cell_type": "markdown",
   "metadata": {},
   "source": [
    "### Chow forecast test"
   ]
  },
  {
   "cell_type": "code",
   "execution_count": 33,
   "metadata": {},
   "outputs": [],
   "source": [
    "df_est1 = df_est[1:25,]\n",
    "df_est2 = df_est[26:50,]"
   ]
  },
  {
   "cell_type": "code",
   "execution_count": 35,
   "metadata": {},
   "outputs": [
    {
     "data": {
      "text/html": [
       "<dl class=dl-horizontal>\n",
       "\t<dt>F value</dt>\n",
       "\t\t<dd>1.51130580183633</dd>\n",
       "\t<dt>d.f.1</dt>\n",
       "\t\t<dd>4</dd>\n",
       "\t<dt>d.f.2</dt>\n",
       "\t\t<dd>42</dd>\n",
       "\t<dt>P value</dt>\n",
       "\t\t<dd>0.2162498319227</dd>\n",
       "</dl>\n"
      ],
      "text/latex": [
       "\\begin{description*}\n",
       "\\item[F value] 1.51130580183633\n",
       "\\item[d.f.1] 4\n",
       "\\item[d.f.2] 42\n",
       "\\item[P value] 0.2162498319227\n",
       "\\end{description*}\n"
      ],
      "text/markdown": [
       "F value\n",
       ":   1.51130580183633d.f.1\n",
       ":   4d.f.2\n",
       ":   42P value\n",
       ":   0.2162498319227\n",
       "\n"
      ],
      "text/plain": [
       "   F value      d.f.1      d.f.2    P value \n",
       " 1.5113058  4.0000000 42.0000000  0.2162498 "
      ]
     },
     "metadata": {},
     "output_type": "display_data"
    }
   ],
   "source": [
    "chow.test(df_est1$y, cbind(df_est1$ipr, df_est1$su, df_est1$sr), df_est2$y, cbind(df_est2$ipr, df_est2$su, df_est2$sr))"
   ]
  },
  {
   "cell_type": "code",
   "execution_count": null,
   "metadata": {},
   "outputs": [],
   "source": [
    "### "
   ]
  },
  {
   "cell_type": "code",
   "execution_count": 53,
   "metadata": {},
   "outputs": [
    {
     "data": {
      "text/plain": [
       "\n",
       "Call:\n",
       "lm(formula = y ~ D2000s + ipr + su + sr + D2000s * ipr + D2000s * \n",
       "    su + D2000s * sr, data = df_est)\n",
       "\n",
       "Residuals:\n",
       "     Min       1Q   Median       3Q      Max \n",
       "-0.54848 -0.14816  0.02646  0.16432  0.50730 \n",
       "\n",
       "Coefficients:\n",
       "             Estimate Std. Error t value Pr(>|t|)    \n",
       "(Intercept)  0.306385   0.053538   5.723 9.94e-07 ***\n",
       "D2000s       0.523145   0.205147   2.550   0.0145 *  \n",
       "ipr          0.396918   0.072041   5.510 2.01e-06 ***\n",
       "su          -0.014864   0.023049  -0.645   0.5225    \n",
       "sr           0.004526   0.005252   0.862   0.3937    \n",
       "D2000s:ipr  -0.474532   0.198359  -2.392   0.0213 *  \n",
       "D2000s:su    0.124518   0.079825   1.560   0.1263    \n",
       "D2000s:sr   -0.002443   0.018223  -0.134   0.8940    \n",
       "---\n",
       "Signif. codes:  0 '***' 0.001 '**' 0.01 '*' 0.05 '.' 0.1 ' ' 1\n",
       "\n",
       "Residual standard error: 0.244 on 42 degrees of freedom\n",
       "Multiple R-squared:  0.6102,\tAdjusted R-squared:  0.5452 \n",
       "F-statistic: 9.393 on 7 and 42 DF,  p-value: 5.933e-07\n"
      ]
     },
     "metadata": {},
     "output_type": "display_data"
    }
   ],
   "source": [
    "model2_D = lm(y ~ D2000s +  ipr + su + sr + D2000s*ipr + D2000s*su + D2000s*sr, data = df_est)\n",
    "summary(model2_D)"
   ]
  },
  {
   "cell_type": "code",
   "execution_count": 64,
   "metadata": {},
   "outputs": [
    {
     "name": "stderr",
     "output_type": "stream",
     "text": [
      "Warning message in df_fore$ipr * df_est$D2000s:\n",
      "\"longer object length is not a multiple of shorter object length\"Warning message in df_fore$su * df_est$D2000s:\n",
      "\"longer object length is not a multiple of shorter object length\"Warning message in df_fore$sr * df_est$D2000s:\n",
      "\"longer object length is not a multiple of shorter object length\"Warning message in cbind(df_est$D2000s, df_fore$ipr, df_fore$su, df_fore$sr, df_fore$ipr * :\n",
      "\"number of rows of result is not a multiple of vector length (arg 2)\""
     ]
    }
   ],
   "source": [
    "predit_model2_df = as.data.frame(cbind(df_est$ipr, df_est$su, df_est$sr))\n",
    "colnames(predit_model2_df) = c('ipr', 'su', 'sr')\n",
    "predit_model2_D_df = as.data.frame(cbind(df_est$D2000s, df_fore$ipr, df_fore$su, df_fore$sr,\n",
    "                                       df_fore$ipr*df_est$D2000s, df_fore$su*df_est$D2000s,\n",
    "                                       df_fore$sr*df_est$D2000s))\n",
    "colnames(predit_model2_D_df) = c('D2000s', 'ipr', 'su', 'sr', 'D2000s:ipr', 'D2000s:su', 'D2000s:sr')"
   ]
  },
  {
   "cell_type": "code",
   "execution_count": 66,
   "metadata": {},
   "outputs": [
    {
     "data": {
      "text/html": [
       "<table>\n",
       "<thead><tr><th scope=col>D2000s</th><th scope=col>ipr</th><th scope=col>su</th><th scope=col>sr</th><th scope=col>D2000s:ipr</th><th scope=col>D2000s:su</th><th scope=col>D2000s:sr</th></tr></thead>\n",
       "<tbody>\n",
       "\t<tr><td>0         </td><td> -2.100427</td><td> -6.718558</td><td>-13.790570</td><td>0         </td><td>0         </td><td>0         </td></tr>\n",
       "\t<tr><td>0         </td><td> -7.230932</td><td>-15.587466</td><td>-30.456952</td><td>0         </td><td>0         </td><td>0         </td></tr>\n",
       "\t<tr><td>0         </td><td>-10.195336</td><td>-11.041747</td><td>-13.169687</td><td>0         </td><td>0         </td><td>0         </td></tr>\n",
       "\t<tr><td>0         </td><td> -1.173034</td><td>  4.768213</td><td>  9.637599</td><td>0         </td><td>0         </td><td>0         </td></tr>\n",
       "\t<tr><td>0         </td><td>  2.332467</td><td> 11.190226</td><td> 11.556131</td><td>0         </td><td>0         </td><td>0         </td></tr>\n",
       "\t<tr><td>0         </td><td>  1.325365</td><td>  8.763899</td><td>  7.976892</td><td>0         </td><td>0         </td><td>0         </td></tr>\n",
       "</tbody>\n",
       "</table>\n"
      ],
      "text/latex": [
       "\\begin{tabular}{r|lllllll}\n",
       " D2000s & ipr & su & sr & D2000s:ipr & D2000s:su & D2000s:sr\\\\\n",
       "\\hline\n",
       "\t 0          &  -2.100427 &  -6.718558 & -13.790570 & 0          & 0          & 0         \\\\\n",
       "\t 0          &  -7.230932 & -15.587466 & -30.456952 & 0          & 0          & 0         \\\\\n",
       "\t 0          & -10.195336 & -11.041747 & -13.169687 & 0          & 0          & 0         \\\\\n",
       "\t 0          &  -1.173034 &   4.768213 &   9.637599 & 0          & 0          & 0         \\\\\n",
       "\t 0          &   2.332467 &  11.190226 &  11.556131 & 0          & 0          & 0         \\\\\n",
       "\t 0          &   1.325365 &   8.763899 &   7.976892 & 0          & 0          & 0         \\\\\n",
       "\\end{tabular}\n"
      ],
      "text/markdown": [
       "\n",
       "| D2000s | ipr | su | sr | D2000s:ipr | D2000s:su | D2000s:sr |\n",
       "|---|---|---|---|---|---|---|\n",
       "| 0          |  -2.100427 |  -6.718558 | -13.790570 | 0          | 0          | 0          |\n",
       "| 0          |  -7.230932 | -15.587466 | -30.456952 | 0          | 0          | 0          |\n",
       "| 0          | -10.195336 | -11.041747 | -13.169687 | 0          | 0          | 0          |\n",
       "| 0          |  -1.173034 |   4.768213 |   9.637599 | 0          | 0          | 0          |\n",
       "| 0          |   2.332467 |  11.190226 |  11.556131 | 0          | 0          | 0          |\n",
       "| 0          |   1.325365 |   8.763899 |   7.976892 | 0          | 0          | 0          |\n",
       "\n"
      ],
      "text/plain": [
       "  D2000s ipr        su         sr         D2000s:ipr D2000s:su D2000s:sr\n",
       "1 0       -2.100427  -6.718558 -13.790570 0          0         0        \n",
       "2 0       -7.230932 -15.587466 -30.456952 0          0         0        \n",
       "3 0      -10.195336 -11.041747 -13.169687 0          0         0        \n",
       "4 0       -1.173034   4.768213   9.637599 0          0         0        \n",
       "5 0        2.332467  11.190226  11.556131 0          0         0        \n",
       "6 0        1.325365   8.763899   7.976892 0          0         0        "
      ]
     },
     "metadata": {},
     "output_type": "display_data"
    }
   ],
   "source": [
    "head(predit_model2_D_df)"
   ]
  },
  {
   "cell_type": "code",
   "execution_count": 67,
   "metadata": {},
   "outputs": [],
   "source": [
    "yhat = list()\n",
    "yhat$y = predict(model2, newdata = predit_model2_df) # no dummy\n",
    "yhat$yD = predict(model2_D, newdata = predit_model2_D_df) # with dummy\n",
    "\n",
    "yhat$yD.se = sqrt(sum(model2_D$residuals^2) / 198)\n",
    "yhat$yD.up = yhat$yD + 1.96 * yhat$yD.se\n",
    "yhat$yD.low = yhat$yD - 1.96 * yhat$yD.se"
   ]
  },
  {
   "cell_type": "code",
   "execution_count": 69,
   "metadata": {},
   "outputs": [
    {
     "name": "stderr",
     "output_type": "stream",
     "text": [
      "Warning message in data.table(yhat = rbindlist(list(data.table(df_fore$y), data.table(yhat$y), :\n",
      "\"Item 1 is of size 120 but maximum size is 300 (recycled leaving remainder of 60 items)\""
     ]
    }
   ],
   "source": [
    "yhat.plot <- data.table('yhat' = rbindlist(list(data.table(df_fore$y),\n",
    "                                                data.table(yhat$y),\n",
    "                                                data.table(yhat$yD))),\n",
    "                        'label' = rep(c('Y', 'YHAT_OLS', 'YHAT_OLSD'), each = 100))\n",
    "\n",
    "#ggplot(yhat.plot, aes(x = rep(302:401, 3), y = yhat.plot$yhat.V1, linetype = label)) +\n",
    "#  geom_line() + xlab('') + ylab('') + theme(legend.title = element_blank()) "
   ]
  },
  {
   "cell_type": "code",
   "execution_count": 72,
   "metadata": {},
   "outputs": [
    {
     "name": "stderr",
     "output_type": "stream",
     "text": [
      "Warning message in cbind(df_fore$y, yhat$y, yhat$yD):\n",
      "\"number of rows of result is not a multiple of vector length (arg 1)\""
     ]
    },
    {
     "data": {
      "text/html": [
       "<table>\n",
       "<thead><tr><th scope=col>Y</th><th scope=col>YHAT_OLS</th><th scope=col>YHAT_OLSD</th></tr></thead>\n",
       "<tbody>\n",
       "\t<tr><td>-0.6150647</td><td>0.3328780 </td><td>-0.4898642</td></tr>\n",
       "\t<tr><td>-1.7245239</td><td>0.3463290 </td><td>-2.4698597</td></tr>\n",
       "\t<tr><td>-2.8802190</td><td>0.4465504 </td><td>-3.6358107</td></tr>\n",
       "\t<tr><td>-0.2804189</td><td>0.4955662 </td><td>-0.1864682</td></tr>\n",
       "\t<tr><td> 0.3952763</td><td>0.8020182 </td><td> 1.1181558</td></tr>\n",
       "\t<tr><td> 0.4471209</td><td>0.9948748 </td><td> 0.7382839</td></tr>\n",
       "</tbody>\n",
       "</table>\n"
      ],
      "text/latex": [
       "\\begin{tabular}{r|lll}\n",
       " Y & YHAT\\_OLS & YHAT\\_OLSD\\\\\n",
       "\\hline\n",
       "\t -0.6150647 & 0.3328780  & -0.4898642\\\\\n",
       "\t -1.7245239 & 0.3463290  & -2.4698597\\\\\n",
       "\t -2.8802190 & 0.4465504  & -3.6358107\\\\\n",
       "\t -0.2804189 & 0.4955662  & -0.1864682\\\\\n",
       "\t  0.3952763 & 0.8020182  &  1.1181558\\\\\n",
       "\t  0.4471209 & 0.9948748  &  0.7382839\\\\\n",
       "\\end{tabular}\n"
      ],
      "text/markdown": [
       "\n",
       "| Y | YHAT_OLS | YHAT_OLSD |\n",
       "|---|---|---|\n",
       "| -0.6150647 | 0.3328780  | -0.4898642 |\n",
       "| -1.7245239 | 0.3463290  | -2.4698597 |\n",
       "| -2.8802190 | 0.4465504  | -3.6358107 |\n",
       "| -0.2804189 | 0.4955662  | -0.1864682 |\n",
       "|  0.3952763 | 0.8020182  |  1.1181558 |\n",
       "|  0.4471209 | 0.9948748  |  0.7382839 |\n",
       "\n"
      ],
      "text/plain": [
       "  Y          YHAT_OLS  YHAT_OLSD \n",
       "1 -0.6150647 0.3328780 -0.4898642\n",
       "2 -1.7245239 0.3463290 -2.4698597\n",
       "3 -2.8802190 0.4465504 -3.6358107\n",
       "4 -0.2804189 0.4955662 -0.1864682\n",
       "5  0.3952763 0.8020182  1.1181558\n",
       "6  0.4471209 0.9948748  0.7382839"
      ]
     },
     "metadata": {},
     "output_type": "display_data"
    }
   ],
   "source": [
    "yhat_plot_df = cbind(df_fore$y, yhat$y,yhat$yD)\n",
    "colnames(yhat_plot_df) = c('Y', 'YHAT_OLS', 'YHAT_OLSD')\n",
    "head(yhat_plot_df)"
   ]
  },
  {
   "cell_type": "code",
   "execution_count": 86,
   "metadata": {},
   "outputs": [
    {
     "data": {
      "image/png": "[encoded data removed]",
      "text/plain": [
       "plot without title"
      ]
     },
     "metadata": {},
     "output_type": "display_data"
    }
   ],
   "source": [
    "ts.plot(yhat_plot_df, col=c(\"blue\", \"red\", \"green\"))\n",
    "legend(1, -2.5, c(\"Y\", \"YHAT_OLS\", \"YHAT_OLSD\"), col = 1:3, lty = 1:3)"
   ]
  },
  {
   "cell_type": "code",
   "execution_count": 94,
   "metadata": {},
   "outputs": [],
   "source": [
    "df = as.data.frame(cbind(df_orig$ipr, df_orig$su, df_orig$sr))\n",
    "colnames(df) = c('ipr', 'su', 'sr')\n",
    "df_y = as.data.frame(cbind(df_orig$y, df_orig$ipr, df_orig$su, df_orig$sr))\n",
    "colnames(df_y) = c('y', 'ipr', 'su', 'sr')\n",
    "\n",
    "df_D = as.data.frame(cbind(df_orig$D2000s, df_orig$ipr, df_orig$su, df_orig$sr,\n",
    "                                       df_orig$ipr*df_orig$D2000s, df_orig$su*df_orig$D2000s,\n",
    "                                       df_orig$sr*df_orig$D2000s))\n",
    "colnames(df_D) = c('D2000s', 'ipr', 'su', 'sr', 'D2000s:ipr', 'D2000s:su', 'D2000s:sr')\n",
    "\n",
    "df_D_y = as.data.frame(cbind(df_orig$y, df_orig$D2000s, df_orig$ipr, df_orig$su, df_orig$sr,\n",
    "                                       df_orig$ipr*df_orig$D2000s, df_orig$su*df_orig$D2000s,\n",
    "                                       df_orig$sr*df_orig$D2000s))\n",
    "colnames(df_D_y) = c('y', 'D2000s', 'ipr', 'su', 'sr', 'D2000s:ipr', 'D2000s:su', 'D2000s:sr')\n"
   ]
  },
  {
   "cell_type": "code",
   "execution_count": 135,
   "metadata": {},
   "outputs": [],
   "source": [
    "y_real = list()\n",
    "for (i in (dim(df_orig)[1]/2):(dim(df_orig)[1]-1)) {\n",
    "    ols.rec = lm(y ~ ipr + su + sr, data = df_y[1:i,])\n",
    "    yhat$y.rec[i] = predict(ols.rec, newdata = df_orig[i + 1,])\n",
    "    y_real[i] = df_y$y[i+1]\n",
    "\n",
    "    olsD.rec = lm(y ~ D2000s +  ipr + su + sr + D2000s*ipr + D2000s*su + D2000s*sr, data = df_D_y[1:i,])\n",
    "    yhat$yD.rec[i] <- predict(olsD.rec, newdata = df_D[i + 1,])\n",
    "    #yhat$yD.recse[i] <- sqrt(sum(olsD.rec$residuals^2) / (197 + i))\n",
    "}"
   ]
  },
  {
   "cell_type": "code",
   "execution_count": 126,
   "metadata": {},
   "outputs": [
    {
     "name": "stderr",
     "output_type": "stream",
     "text": [
      "Warning message:\n",
      "\"package 'DataCombine' was built under R version 3.6.3\"\n",
      "Attaching package: 'DataCombine'\n",
      "\n",
      "The following object is masked from 'package:data.table':\n",
      "\n",
      "    shift\n",
      "\n"
     ]
    }
   ],
   "source": [
    "library(DataCombine)"
   ]
  },
  {
   "cell_type": "code",
   "execution_count": 149,
   "metadata": {},
   "outputs": [],
   "source": [
    "yhay_rec_df = cbind(y_real, yhat$y.rec, yhat$yD.rec) %>% as.data.frame() %>% drop_na()\n",
    "colnames(yhay_rec_df) = c('y_real', 'yhat_rec', 'yhatD_rec')"
   ]
  },
  {
   "cell_type": "code",
   "execution_count": 151,
   "metadata": {},
   "outputs": [
    {
     "data": {
      "image/png": "[encoded data removed]",
      "text/plain": [
       "plot without title"
      ]
     },
     "metadata": {},
     "output_type": "display_data"
    }
   ],
   "source": [
    "ts.plot(yhay_rec_df, col=c(\"blue\", \"red\", \"green\"))\n",
    "legend(1, -2, c('Y',\"YHAT\", \"YHATD\"), col = 1:3, lty = 1:3)"
   ]
  },
  {
   "cell_type": "code",
   "execution_count": null,
   "metadata": {},
   "outputs": [],
   "source": []
  }
 ],
 "metadata": {
  "kernelspec": {
   "display_name": "R",
   "language": "R",
   "name": "ir"
  },
  "language_info": {
   "codemirror_mode": "r",
   "file_extension": ".r",
   "mimetype": "text/x-r-source",
   "name": "R",
   "pygments_lexer": "r",
   "version": "3.6.1"
  }
 },
 "nbformat": 4,
 "nbformat_minor": 4
}
