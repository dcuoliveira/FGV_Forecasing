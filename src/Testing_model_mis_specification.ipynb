{
 "cells": [
  {
   "cell_type": "markdown",
   "metadata": {},
   "source": [
    "# Exercise 2\n",
    "\n",
    "**(1)** Test for model mis-specification:\n",
    "> **(a)** Violations of normality\n",
    "\n",
    "> **(b)** Heteroskedasticity and correlated errors\n",
    "\n",
    ">> **(i)** Tests for homoskedasticity and uncorrelated error terms\n",
    "\n",
    ">> **(ii)** Apply heteroskedasticity robust methods + corrections\n",
    "\n",
    "> **(c)** Parameter instability\n",
    "\n",
    ">> **(i)** Tests for parameter instability\n",
    "\n",
    ">> **(ii)** Forecast with/without dummy variables + batch and recursive method"
   ]
  },
  {
   "cell_type": "code",
   "execution_count": 43,
   "metadata": {},
   "outputs": [],
   "source": [
    "rm(list=ls())\n",
    "library(data.table)\n",
    "library(readr)\n",
    "library(lmtest)\n",
    "library(DescTools)\n",
    "library(strucchange)\n",
    "library(gap)\n",
    "library(ggplot2)\n",
    "library(tidyr)\n",
    "library(here)\n",
    "library(Hmisc)\n",
    "library(nlme)"
   ]
  },
  {
   "cell_type": "code",
   "execution_count": 44,
   "metadata": {},
   "outputs": [
    {
     "name": "stderr",
     "output_type": "stream",
     "text": [
      "Parsed with column specification:\n",
      "cols(\n",
      "  date = col_character(),\n",
      "  D2000s = col_double(),\n",
      "  Dea = col_double(),\n",
      "  ipr = col_double(),\n",
      "  pr = col_double(),\n",
      "  sr = col_double(),\n",
      "  su = col_double(),\n",
      "  y = col_double()\n",
      ")\n"
     ]
    },
    {
     "data": {
      "text/html": [
       "<table>\n",
       "<thead><tr><th scope=col>date</th><th scope=col>D2000s</th><th scope=col>Dea</th><th scope=col>ipr</th><th scope=col>pr</th><th scope=col>sr</th><th scope=col>su</th><th scope=col>y</th></tr></thead>\n",
       "<tbody>\n",
       "\t<tr><td>1/1/1996   </td><td>0          </td><td>0          </td><td>-0.4265874 </td><td>0.40000000 </td><td> 8.241198  </td><td>-4.007445  </td><td>-0.01904023</td></tr>\n",
       "\t<tr><td>4/1/1996   </td><td>0          </td><td>0          </td><td>-0.2197676 </td><td>0.13333333 </td><td> 4.946607  </td><td>-1.455733  </td><td> 0.77048056</td></tr>\n",
       "\t<tr><td>7/1/1996   </td><td>0          </td><td>0          </td><td> 0.3352411 </td><td>0.06666667 </td><td>-1.752723  </td><td> 1.208689  </td><td> 0.54469339</td></tr>\n",
       "\t<tr><td>10/1/1996  </td><td>0          </td><td>0          </td><td> 0.3801191 </td><td>0.13333333 </td><td> 7.017096  </td><td> 3.506695  </td><td> 0.30761525</td></tr>\n",
       "\t<tr><td>1/1/1997   </td><td>0          </td><td>0          </td><td> 1.1544964 </td><td>0.23333333 </td><td>13.832756  </td><td> 2.692859  </td><td> 0.34899919</td></tr>\n",
       "\t<tr><td>4/1/1997   </td><td>0          </td><td>0          </td><td> 1.8913093 </td><td>0.06666667 </td><td> 7.967459  </td><td> 2.945239  </td><td> 1.25097564</td></tr>\n",
       "</tbody>\n",
       "</table>\n"
      ],
      "text/latex": [
       "\\begin{tabular}{r|llllllll}\n",
       " date & D2000s & Dea & ipr & pr & sr & su & y\\\\\n",
       "\\hline\n",
       "\t 1/1/1996    & 0           & 0           & -0.4265874  & 0.40000000  &  8.241198   & -4.007445   & -0.01904023\\\\\n",
       "\t 4/1/1996    & 0           & 0           & -0.2197676  & 0.13333333  &  4.946607   & -1.455733   &  0.77048056\\\\\n",
       "\t 7/1/1996    & 0           & 0           &  0.3352411  & 0.06666667  & -1.752723   &  1.208689   &  0.54469339\\\\\n",
       "\t 10/1/1996   & 0           & 0           &  0.3801191  & 0.13333333  &  7.017096   &  3.506695   &  0.30761525\\\\\n",
       "\t 1/1/1997    & 0           & 0           &  1.1544964  & 0.23333333  & 13.832756   &  2.692859   &  0.34899919\\\\\n",
       "\t 4/1/1997    & 0           & 0           &  1.8913093  & 0.06666667  &  7.967459   &  2.945239   &  1.25097564\\\\\n",
       "\\end{tabular}\n"
      ],
      "text/markdown": [
       "\n",
       "| date | D2000s | Dea | ipr | pr | sr | su | y |\n",
       "|---|---|---|---|---|---|---|---|\n",
       "| 1/1/1996    | 0           | 0           | -0.4265874  | 0.40000000  |  8.241198   | -4.007445   | -0.01904023 |\n",
       "| 4/1/1996    | 0           | 0           | -0.2197676  | 0.13333333  |  4.946607   | -1.455733   |  0.77048056 |\n",
       "| 7/1/1996    | 0           | 0           |  0.3352411  | 0.06666667  | -1.752723   |  1.208689   |  0.54469339 |\n",
       "| 10/1/1996   | 0           | 0           |  0.3801191  | 0.13333333  |  7.017096   |  3.506695   |  0.30761525 |\n",
       "| 1/1/1997    | 0           | 0           |  1.1544964  | 0.23333333  | 13.832756   |  2.692859   |  0.34899919 |\n",
       "| 4/1/1997    | 0           | 0           |  1.8913093  | 0.06666667  |  7.967459   |  2.945239   |  1.25097564 |\n",
       "\n"
      ],
      "text/plain": [
       "  date      D2000s Dea ipr        pr         sr        su        y          \n",
       "1 1/1/1996  0      0   -0.4265874 0.40000000  8.241198 -4.007445 -0.01904023\n",
       "2 4/1/1996  0      0   -0.2197676 0.13333333  4.946607 -1.455733  0.77048056\n",
       "3 7/1/1996  0      0    0.3352411 0.06666667 -1.752723  1.208689  0.54469339\n",
       "4 10/1/1996 0      0    0.3801191 0.13333333  7.017096  3.506695  0.30761525\n",
       "5 1/1/1997  0      0    1.1544964 0.23333333 13.832756  2.692859  0.34899919\n",
       "6 4/1/1997  0      0    1.8913093 0.06666667  7.967459  2.945239  1.25097564"
      ]
     },
     "metadata": {},
     "output_type": "display_data"
    }
   ],
   "source": [
    "df = df_orig = readr::read_csv(here(\"src\", \"data\", \"ex2_misspecification_gdp.csv\"))\n",
    "head(df)"
   ]
  },
  {
   "cell_type": "code",
   "execution_count": 45,
   "metadata": {},
   "outputs": [],
   "source": [
    "df_est = df[1:50,]\n",
    "df_fore = df[51:dim(df)[1],]"
   ]
  },
  {
   "cell_type": "markdown",
   "metadata": {},
   "source": [
    "Recall the description of the variables of interest:\n",
    "\n",
    "> $ipr_t$ is the industrial production for the euro area at time $t$\n",
    "\n",
    "> $su_t$ is the Eurostoxx returns at $t$\n",
    "\n",
    "> $pr_t$ is the euro area inflation rate at $t$\n",
    "\n",
    "> $sr_t$ is the euro area consumer sentiment index at $t$\n",
    "\n",
    "Lets choose the following model specification:\n",
    "\n",
    "$\n",
    "gdp_t = \\beta_1 ipr_t + \\beta_2 su_t + \\beta_3 sr_t + \\epsilon_t\n",
    "$\n",
    "\n",
    "Lets also divide the sample into the estimation period (1-50), and forecasting period (51-end). Once more we estimate the OLS estimator for the LRM:"
   ]
  },
  {
   "cell_type": "code",
   "execution_count": 46,
   "metadata": {},
   "outputs": [
    {
     "data": {
      "text/plain": [
       "\n",
       "Call:\n",
       "lm(formula = y ~ ipr + su + sr, data = df_est)\n",
       "\n",
       "Residuals:\n",
       "    Min      1Q  Median      3Q     Max \n",
       "-0.5432 -0.1664 -0.0085  0.1828  0.6480 \n",
       "\n",
       "Coefficients:\n",
       "             Estimate Std. Error t value Pr(>|t|)    \n",
       "(Intercept)  0.365212   0.052841   6.911 1.24e-08 ***\n",
       "ipr          0.321634   0.068263   4.712 2.30e-05 ***\n",
       "su          -0.011736   0.021999  -0.533    0.596    \n",
       "sr           0.007018   0.005286   1.328    0.191    \n",
       "---\n",
       "Signif. codes:  0 '***' 0.001 '**' 0.01 '*' 0.05 '.' 0.1 ' ' 1\n",
       "\n",
       "Residual standard error: 0.2617 on 46 degrees of freedom\n",
       "Multiple R-squared:  0.5087,\tAdjusted R-squared:  0.4766 \n",
       "F-statistic: 15.88 on 3 and 46 DF,  p-value: 3.186e-07\n"
      ]
     },
     "metadata": {},
     "output_type": "display_data"
    }
   ],
   "source": [
    "model2_full = lm(y ~ ipr + su + sr, data = df)\n",
    "model2 = lm(y ~ ipr + su + sr, data = df_est)\n",
    "summary(model2)"
   ]
  },
  {
   "cell_type": "markdown",
   "metadata": {},
   "source": [
    "## (a) Violations of normality"
   ]
  },
  {
   "cell_type": "markdown",
   "metadata": {},
   "source": [
    "The most popular test for normality was developed by Jarque and Bera (1980). Their approach seeks to test whether sample data have skewness and kurtosis matching a normal distribution.\n",
    "\n",
    "The test statistics is given by:\n",
    "\n",
    "$\n",
    "JB = \\frac{T-k}{6}(S^2 + \\frac{1}{4}(K-3)^2)\n",
    "$\n",
    "\n",
    "where $S$ is the sample skewness, $K$ the sample kurtosis, $T$ is the sample size, and $k$ is the number of regressors. If the data was generated by a normal distribution, then:\n",
    "\n",
    "$\n",
    "JB \\sim \\chi^2(2)\n",
    "$\n",
    "\n",
    "asymptotically. The null hypothesis of the Jarque-Bera test is as follows:\n",
    "\n",
    "$\n",
    "H_0 : H^{'}_0 \\cup H^{''}_0  \\quad where \\quad H^{'}_0: S=0 \\quad H^{''}_0: K=0\n",
    "$"
   ]
  },
  {
   "cell_type": "code",
   "execution_count": 47,
   "metadata": {},
   "outputs": [
    {
     "data": {
      "text/plain": [
       "\n",
       "\tRobust Jarque Bera Test\n",
       "\n",
       "data:  model2$residuals\n",
       "X-squared = 0.38176, df = 2, p-value = 0.8262\n"
      ]
     },
     "metadata": {},
     "output_type": "display_data"
    }
   ],
   "source": [
    "JarqueBeraTest(model2$residuals)"
   ]
  },
  {
   "cell_type": "markdown",
   "metadata": {},
   "source": [
    "The p-value of the Jarque-Bera test does not provide evidence that the distribution of the residuals of the linear regression model is different from the normal distribution. Therefore, we do not reject the null hypothesis."
   ]
  },
  {
   "cell_type": "markdown",
   "metadata": {},
   "source": [
    "## (b) Heteroskedasticity and correlated errors\n",
    "\n"
   ]
  },
  {
   "cell_type": "markdown",
   "metadata": {},
   "source": [
    "Recall the second LRM hypothesis:\n",
    "\n",
    "> A2. $\\mathbf{E}[\\mathbf{\\epsilon}^{'}\\mathbf{\\epsilon}]=\\sigma^2\\mathbf{I}$\n",
    "\n",
    "which can be divided into two hypothesis:\n",
    "\n",
    "> A2a. $Var(\\epsilon_t) = 0$\n",
    "\n",
    "> A2b. $Cov(\\epsilon_t, \\epsilon_{t-j}) = 0$\n",
    "\n",
    "Violations of the A2 hypothesis has the following consequences:\n",
    "\n",
    "> 1. The OLS estimator is no longer efficient, as theres another estimator with lower variance called generalized least squares (GLS) estimator\n",
    "\n",
    "> 2. The OLS estimator for $\\beta$ is still consistent, but its variance covariance matrix requires an adjustment \n",
    "\n",
    "> 3. The OLS estimator for $\\sigma^2$ will be biased and inconsistent $\\implies$ p-values and confidence intervals are useless\n"
   ]
  },
  {
   "cell_type": "markdown",
   "metadata": {},
   "source": [
    "### (i) Tests for homoskedasticity and uncorrelated error terms"
   ]
  },
  {
   "cell_type": "markdown",
   "metadata": {},
   "source": [
    "A first heuristic method to check for homoskedasticity and uncorrelated error terms is to plot the square of the estimated residuals through time and the estimated residuals against its own lag, respectively."
   ]
  },
  {
   "cell_type": "code",
   "execution_count": 48,
   "metadata": {},
   "outputs": [
    {
     "data": {
      "image/png": "[encoded data removed]",
      "text/plain": [
       "Plot with title \"Square or the LRM residuals\""
      ]
     },
     "metadata": {},
     "output_type": "display_data"
    }
   ],
   "source": [
    "ts.plot(model2$residuals^2)\n",
    "title('Square or the LRM residuals')"
   ]
  },
  {
   "cell_type": "code",
   "execution_count": 49,
   "metadata": {},
   "outputs": [
    {
     "data": {
      "image/png": "[encoded data removed]",
      "text/plain": [
       "Plot with title \"residuals ~ residuals_lag1\""
      ]
     },
     "metadata": {},
     "output_type": "display_data"
    }
   ],
   "source": [
    "plot(x = Lag(model2$residuals, 1), y = model2$residuals )\n",
    "title('residuals ~ residuals_lag1')"
   ]
  },
  {
   "cell_type": "markdown",
   "metadata": {},
   "source": [
    "The first plot gives us preliminary evidence that it seems that the variance of the residuals are a function of time, which implies that A2a was violated. \n",
    "\n",
    "In the second plot we can see that theres no relationship between the residuals and its first lag, which means that we dont have any evidence that A2b was violted.\n",
    "\n",
    "Further tests must be made."
   ]
  },
  {
   "cell_type": "markdown",
   "metadata": {},
   "source": [
    "#### Goldfeld-Quandt (1965) test\n",
    "Assume that we have a sample of size T. The Goldfeld-Quandt test consists in splitting the sample into two parts, T1 and T2. The linear regression model is estimated in each of the samples, and the residual variances are calulated. \n",
    "\n",
    "The hypothesis of the test is as follows:\n",
    "\n",
    "$\n",
    "H_0: \\sigma^2_1 = \\sigma^2_2 \\\\\n",
    "H_1: \\sigma^2_1 \\neq \\sigma^2_2\n",
    "$\n",
    "\n",
    "The test statistics, denoted GQ, is given by:\n",
    "\n",
    "$\n",
    "GQ = \\frac{max(s^2_1, s^2_2)}{min(s^2_1, s^2_2)}\n",
    "$\n",
    "\n",
    "Where:\n",
    "\n",
    "$\n",
    "s^2_1 = \\frac{\\hat{u}^{'}_1\\hat{u}_1}{T_1-k} \\quad s^2_2 = \\frac{\\hat{u}^{'}_2\\hat{u}_2}{T_2-k} \n",
    "$\n",
    "\n",
    "Under the null hypothesis we have that:\n",
    "\n",
    "$\n",
    "GQ \\sim F(T_1-k, T_2-k)\n",
    "$\n"
   ]
  },
  {
   "cell_type": "code",
   "execution_count": 50,
   "metadata": {},
   "outputs": [
    {
     "data": {
      "text/plain": [
       "\n",
       "\tGoldfeld-Quandt test\n",
       "\n",
       "data:  df$y ~ df$ipr + df$su + df$sr\n",
       "GQ = 0.99865, df1 = 31, df2 = 31, p-value = 0.997\n",
       "alternative hypothesis: variance changes from segment 1 to 2\n"
      ]
     },
     "metadata": {},
     "output_type": "display_data"
    }
   ],
   "source": [
    "# model2 = lm(y ~ ipr + su + sr, data = df_est)\n",
    "gqtest(df$y ~ df$ipr + df$su + df$sr, alternative = 'two.sided')"
   ]
  },
  {
   "cell_type": "markdown",
   "metadata": {},
   "source": [
    "The p-value of the test does not give us evidence that the variance across the two samples have changed. Therefore, we do not reject the null hypothesis."
   ]
  },
  {
   "cell_type": "markdown",
   "metadata": {},
   "source": [
    "#### Breusch-Pagan-Godfrey test\n",
    "Their approach seeks to test whether the variance of the residuals are a linear function of a set of variables $Z$, where $Z$ could be equal to the independent variables. To do that, we need to first fit a LRM using the OLS estimator, than we regress the square of the residuals against $Z$, finally we calculate the test statistics that is a function of the second regression $R^2$.\n",
    "\n",
    "The hypothesis of the test is as follows:\n",
    "\n",
    "$\n",
    "H_0: \\sigma^2_t = \\sigma^2 \\\\\n",
    "H_1: \\sigma^2_t = \\gamma + \\delta Z_t\n",
    "$\n",
    "\n",
    "The test statistics, denoted GQ, is given by:\n",
    "\n",
    "$\n",
    "BPG = TR^2\n",
    "$\n",
    "\n",
    "Under the null hypothesis we have that:\n",
    "\n",
    "$\n",
    "BPG \\sim \\chi^2(k)\n",
    "$\n",
    "\n",
    "where $k$ is the number of regressors."
   ]
  },
  {
   "cell_type": "code",
   "execution_count": 51,
   "metadata": {},
   "outputs": [
    {
     "data": {
      "text/plain": [
       "\n",
       "\tstudentized Breusch-Pagan test\n",
       "\n",
       "data:  model2\n",
       "BP = 2.2395, df = 3, p-value = 0.5242\n"
      ]
     },
     "metadata": {},
     "output_type": "display_data"
    }
   ],
   "source": [
    "bptest(model2)"
   ]
  },
  {
   "cell_type": "markdown",
   "metadata": {},
   "source": [
    "Again, the test does not provide us evidence that the homoskedasticity assumtion has beem violated."
   ]
  },
  {
   "cell_type": "markdown",
   "metadata": {},
   "source": [
    "#### White (1980) test\n",
    "The white test consists of a two-step procedure. First estimate a linear regression model (assuming two independent variables):\n",
    "\n",
    "$\n",
    "y_t = \\beta_1 + \\beta_2 x_{2,t} + \\beta_3 x_{3,t} + u_t\n",
    "$\n",
    "\n",
    "Second, run the auxiliary regression model given by:\n",
    "\n",
    "$\n",
    "\\hat{u}^2_t = \\alpha_1 + \\alpha_2 x_{2,t} + \\alpha_3 x_{3,t} + \\alpha_4 x^2_{2,t} + \\alpha_5 x^2_{3,t} + \\alpha_6 x_{2,t}x_{3,t} + v_t\n",
    "$\n",
    "\n",
    "The hypothesis of the test is as follows:\n",
    "\n",
    "$\n",
    "H_0: \\sigma^2_t = \\sigma^2 \\\\\n",
    "H_1: \\sigma^2_t = \\mathcal{f}(X_t, Z_t)\n",
    "$\n",
    "\n",
    "where $Z_t$ are interactions between the independent variables.\n",
    "\n",
    "The test statistics, denoted W, is given by:\n",
    "\n",
    "$\n",
    "W = TR^2\n",
    "$\n",
    "\n",
    "Under the null hypothesis we have that:\n",
    "\n",
    "$\n",
    "W \\sim \\chi^2(k)\n",
    "$"
   ]
  },
  {
   "cell_type": "code",
   "execution_count": 52,
   "metadata": {},
   "outputs": [],
   "source": [
    "residuals2_squared = (model2_full$residuals)^2\n",
    "ipr_squared = df$ipr^2\n",
    "su_squared = df$su^2\n",
    "sr_squared = df$sr^2\n",
    "df2 = cbind(df, residuals2_squared, ipr_squared, su_squared, sr_squared)\n",
    "model2_white_adj = lm(residuals2_squared ~ ipr + su + sr + ipr_squared + su_squared + sr_squared, data = df) "
   ]
  },
  {
   "cell_type": "markdown",
   "metadata": {},
   "source": [
    "The model statistics shows that there is no evidence that any of the regressors or its interations are significative to explain the square of the residuals. Therefore, we do not reject the null hypothesis."
   ]
  },
  {
   "cell_type": "markdown",
   "metadata": {},
   "source": [
    "#### Durbin-Watson test\n",
    "\n",
    "The hypothesis of the test is as follows:\n",
    "\n",
    "$\n",
    "H_0: \\epsilon_t \\quad uncorrelated \\\\\n",
    "H_1: \\epsilon_t = \\rho\\epsilon_{t-1} + u_t\n",
    "$\n",
    "\n",
    "The test statistics is based on the OLS residuals and is given by:\n",
    "\n",
    "$\n",
    "DW = \\frac{\\sum_{t=2}^{T}(\\hat{\\epsilon}_t-\\hat{\\epsilon}_{t-1})^2}{\\sum_{t=1}^{T}\\hat{\\epsilon}^2_t}\n",
    "$"
   ]
  },
  {
   "cell_type": "code",
   "execution_count": 58,
   "metadata": {},
   "outputs": [
    {
     "data": {
      "text/plain": [
       "\n",
       "\tDurbin-Watson test\n",
       "\n",
       "data:  model2_full\n",
       "DW = 1.4337, p-value = 0.004866\n",
       "alternative hypothesis: true autocorrelation is greater than 0\n"
      ]
     },
     "metadata": {},
     "output_type": "display_data"
    }
   ],
   "source": [
    "dwtest(model2_full)"
   ]
  },
  {
   "cell_type": "code",
   "execution_count": null,
   "metadata": {},
   "outputs": [],
   "source": [
    "Given the p-value of the regression, we have strong evidence to reject the null of uncorrelated error terms."
   ]
  },
  {
   "cell_type": "markdown",
   "metadata": {},
   "source": [
    "#### Breusch-Godfrey test\n",
    "\n",
    "The hypothesis of the test is as follows:\n",
    "\n",
    "\n",
    "$H_0$: $\\epsilon_t$ is uncorrelated \n",
    "\n",
    "$H_1$: $\\epsilon_t$ is correlated up to order m\n",
    "$\n",
    "\n",
    "The test statistics is also based on the OLS residuals and is given by:\n",
    "\n",
    "$\n",
    "LM = T(\\sum_{j=1}^{m}r^2_j) \\quad where \\quad r_j = \\frac{\\sum_{t=j+1}^{T}(\\hat{\\epsilon}_t-\\hat{\\epsilon}_{t-1})^2}{\\sum_{t=1}^{T}\\hat{\\epsilon}^2_t}\n",
    "$\n",
    "\n",
    "Under the null hypothesis the LM statistics has a $\\chi^2(m)$ distribution."
   ]
  },
  {
   "cell_type": "code",
   "execution_count": 60,
   "metadata": {},
   "outputs": [
    {
     "data": {
      "text/plain": [
       "\n",
       "\tBreusch-Godfrey test for serial correlation of order up to 1\n",
       "\n",
       "data:  model2_full\n",
       "LM test = 5.0031, df = 1, p-value = 0.0253\n"
      ]
     },
     "metadata": {},
     "output_type": "display_data"
    }
   ],
   "source": [
    "bgtest(model2_full)"
   ]
  },
  {
   "cell_type": "markdown",
   "metadata": {},
   "source": [
    "In line with the Durbin-Watson test, the LM statistics provide us evidence that we can reject the null of uncorrelated errors"
   ]
  },
  {
   "cell_type": "markdown",
   "metadata": {},
   "source": [
    "## (ii) Apply heteroskedasticity robust methods + corrections\n"
   ]
  },
  {
   "cell_type": "markdown",
   "metadata": {},
   "source": [
    "#### Generalized least squares estimator (GLS)\n",
    "\n",
    "One convenient way to define heteroskedasticity is as follows. Let $\\Omega$ be the positive definite covariance matrix of the residuals. Since $\\Omega$ is positive definite, the following deocmposition is possible:\n",
    "\n",
    "$\n",
    "H \\Omega H^{'} = \\mathbf{I} \\Leftrightarrow \\Omega = H^{-1}(H^{'})^{-1} = (H^{'}H)^{-1}\n",
    "$\n",
    "\n",
    "In particular, for a heteroskedastic process and assuming T=3 we have:\n",
    "\n",
    "$\n",
    "H = \n",
    "\\begin{bmatrix}\n",
    "1/\\sigma^2_1 & 0 & 0\\\\\n",
    "0 & 1/\\sigma^2_2 & 0\\\\\n",
    "0 & 0 & 1/\\sigma^2_T\n",
    "\\end{bmatrix}\n",
    "$\n",
    "\n",
    "One way to correct for heteroskedastic error terms is to derive the GLS estimator, which is robust to structure on the variance covariance matrix of the errors. Recall the LRM and apply the variance decomposition showed before:\n",
    "\n",
    "$\n",
    "\\mathbf{y} = X\\mathbf{\\beta} + \\mathbf{\\epsilon} \\Leftrightarrow H\\mathbf{y} = H X\\mathbf{\\beta} + H\\mathbf{\\epsilon} \\Leftrightarrow \\tilde{Y} = \\tilde{X}\\mathbf{\\beta} + \\tilde{\\mathbf{\\epsilon}}\n",
    "$\n",
    "\n",
    "where\n",
    "\n",
    "$\n",
    "\\mathbf{E}[\\tilde{\\mathbf{\\epsilon}}\\tilde{\\mathbf{\\epsilon}}^{'}] = H \\Omega H^{'} = \\mathbf{I}\n",
    "$\n",
    "\n",
    "It is possible to show that the resulting adjusted OLS estimator, namely GLS estimator, is given by:\n",
    "\n",
    "$\n",
    "\\hat{\\beta}_{GLS} = (\\tilde{X}^{'}\\tilde{X})^{-1}\\tilde{X}^{'}\\tilde{Y} = (X^{'}\\Omega^{-1}X)^{-1}X^{'}\\Omega^{-1}Y\n",
    "$\n",
    "\n",
    "The GLS estimator is BLUE in the presence of heteroskedasticity."
   ]
  },
  {
   "cell_type": "code",
   "execution_count": 55,
   "metadata": {},
   "outputs": [
    {
     "data": {
      "text/plain": [
       "Generalized least squares fit by REML\n",
       "  Model: y ~ ipr + su + sr \n",
       "  Data: df \n",
       "       AIC      BIC    logLik\n",
       "  58.26314 69.21142 -24.13157\n",
       "\n",
       "Coefficients:\n",
       "                 Value  Std.Error   t-value p-value\n",
       "(Intercept)  0.2694644 0.03602064  7.480834  0.0000\n",
       "ipr          0.3255164 0.02786254 11.682939  0.0000\n",
       "su          -0.0291289 0.01470688 -1.980631  0.0518\n",
       "sr           0.0096267 0.00508870  1.891783  0.0629\n",
       "\n",
       " Correlation: \n",
       "    (Intr) ipr    su    \n",
       "ipr -0.201              \n",
       "su   0.234 -0.645       \n",
       "sr  -0.181  0.052 -0.543\n",
       "\n",
       "Standardized residuals:\n",
       "        Min          Q1         Med          Q3         Max \n",
       "-2.18213870 -0.63740564 -0.06395407  0.66838544  2.48615612 \n",
       "\n",
       "Residual standard error: 0.2905255 \n",
       "Degrees of freedom: 70 total; 66 residual"
      ]
     },
     "metadata": {},
     "output_type": "display_data"
    }
   ],
   "source": [
    "model2_full_gls = gls(y ~ ipr + su + sr, df)\n",
    "summary(model2_full_gls)"
   ]
  },
  {
   "cell_type": "code",
   "execution_count": 56,
   "metadata": {},
   "outputs": [
    {
     "data": {
      "text/plain": [
       "\n",
       "Call:\n",
       "lm(formula = y ~ ipr + su + sr, data = df)\n",
       "\n",
       "Residuals:\n",
       "     Min       1Q   Median       3Q      Max \n",
       "-0.63397 -0.18518 -0.01858  0.19418  0.72229 \n",
       "\n",
       "Coefficients:\n",
       "             Estimate Std. Error t value Pr(>|t|)    \n",
       "(Intercept)  0.269464   0.036021   7.481 2.25e-10 ***\n",
       "ipr          0.325516   0.027863  11.683  < 2e-16 ***\n",
       "su          -0.029129   0.014707  -1.981   0.0518 .  \n",
       "sr           0.009627   0.005089   1.892   0.0629 .  \n",
       "---\n",
       "Signif. codes:  0 '***' 0.001 '**' 0.01 '*' 0.05 '.' 0.1 ' ' 1\n",
       "\n",
       "Residual standard error: 0.2905 on 66 degrees of freedom\n",
       "Multiple R-squared:  0.7959,\tAdjusted R-squared:  0.7866 \n",
       "F-statistic: 85.77 on 3 and 66 DF,  p-value: < 2.2e-16\n"
      ]
     },
     "metadata": {},
     "output_type": "display_data"
    }
   ],
   "source": [
    "summary(model2_full)"
   ]
  },
  {
   "cell_type": "markdown",
   "metadata": {},
   "source": [
    "Since our previous test did not suppot the hypothesis of heteroskedasticity in the error terms, we expect that the OLS and GLS estimates should be the same. This is what the above summaries shows."
   ]
  },
  {
   "cell_type": "markdown",
   "metadata": {},
   "source": [
    "#### Heteroskedasticity and Autocorrelation Consistent variance estimators (HAC)\n",
    "\n",
    "Another way to adjust your estimates in the presence of heteeroskedasticity is to use the HAC variance estimator. This procedure consists of estimating the LRM parameters using the OLS estimator and than adjusting the stnadard error estimates.\n"
   ]
  },
  {
   "cell_type": "markdown",
   "metadata": {},
   "source": [
    "#### (c) Parameter instability\n",
    "\n",
    "It is possible to add a sixth hypothesis to the LRM, which is:\n",
    "\n",
    "> A6. The parameters are stable acoss time, that is, $\\beta_{it} = \\beta_i$\n",
    "\n",
    "We now consider a violation of this hypothesis. Lets re-write the LRM with timevarying coefficients:\n",
    "\n",
    "$\n",
    "\\mathbf{y}_t = X_{1t}\\mathbf{\\beta}_{1t} + ... + X_{kt}\\mathbf{\\beta_{kt}} + \\mathbf{\\epsilon}_t\n",
    "$\n",
    "\n",
    "If we by mistake have represented the parameters as constant, the OLS estimator in the sample period will be biased and inconsistent. Furthermore, mis-representation will also induce bias in the forecasst sample.\n",
    "\n",
    "#### (i) Tests for parameter instability"
   ]
  },
  {
   "cell_type": "markdown",
   "metadata": {},
   "source": [
    "#### Chow test\n",
    "\n",
    "Assume that we splitted a sample o size $T$ into $T_1$ and $T_2$. Let us consider the following set of hypothesis:\n",
    "\n",
    "$\n",
    "H_0: H^{'}_0 \\cup H^{''}_0 \\quad where \\quad H^{'}_0: \\beta_1 = \\beta_2 \\quad and \\quad H^{''}_0: \\sigma^2_1 = \\sigma^2_2\\\\\n",
    "H_1: H^{'}_1 \\cup H^{''}_1 \\quad where \\quad H^{'}_1: \\beta_1 \\neq \\beta_2 \\quad and \\quad H^{''}_1: \\sigma^2_1 \\neq \\sigma^2_2\\\\\n",
    "$\n",
    "\n",
    "If $T_2 > k$, the procedure is to estimate three models, one in the whole sample $T$, another in the first sample $T_1$, and finally the last one in the sample $T_2$. Let $RSS_j$ be the sum of the squared residuals, where $j \\in \\{T, T_1, T_2\\}$, then the Chow test is given by:\n",
    "\n",
    "$\n",
    "CH_1 = (\\frac{RSS_T - RSS_{T_1} - RSS_{T_2}}{RSS_{T_1} + RSS_{T_2}}) \\frac{T-2k}{k}\n",
    "$\n",
    "\n",
    "Under the null we have that $CH_1 \\sim F(k, T-2k)$.\n",
    "\n",
    "The argument of the test is that, if the parameters are stable between samples, then $RSS_T$ will probably be close to $RSS_{T_1} + RSS_{T_2}$, otherwise the paremeters will be unstable.\n"
   ]
  },
  {
   "cell_type": "code",
   "execution_count": 65,
   "metadata": {},
   "outputs": [
    {
     "data": {
      "text/plain": [
       "\n",
       "\tChow test\n",
       "\n",
       "data:  y ~ ipr + su + sr\n",
       "F = 2.2577, p-value = 0.07296\n"
      ]
     },
     "metadata": {},
     "output_type": "display_data"
    }
   ],
   "source": [
    "sctest(y ~ ipr + su + sr, data = df, type = 'Chow', from = 50, to = 55)"
   ]
  },
  {
   "cell_type": "markdown",
   "metadata": {},
   "source": [
    "Despite the statistics of the Chow test been greater than the typicall significance level used on empirical research (0.05), it tell us that we have a low probability of type I error. Its wise to require further tests to reject the hypothesis of parameter instability."
   ]
  },
  {
   "cell_type": "markdown",
   "metadata": {},
   "source": [
    "#### Chow forecast test"
   ]
  },
  {
   "cell_type": "code",
   "execution_count": 68,
   "metadata": {},
   "outputs": [
    {
     "data": {
      "text/html": [
       "<dl class=dl-horizontal>\n",
       "\t<dt>F value</dt>\n",
       "\t\t<dd>7.03027070182075</dd>\n",
       "\t<dt>d.f.1</dt>\n",
       "\t\t<dd>4</dd>\n",
       "\t<dt>d.f.2</dt>\n",
       "\t\t<dd>62</dd>\n",
       "\t<dt>P value</dt>\n",
       "\t\t<dd>9.83594330864299e-05</dd>\n",
       "</dl>\n"
      ],
      "text/latex": [
       "\\begin{description*}\n",
       "\\item[F value] 7.03027070182075\n",
       "\\item[d.f.1] 4\n",
       "\\item[d.f.2] 62\n",
       "\\item[P value] 9.83594330864299e-05\n",
       "\\end{description*}\n"
      ],
      "text/markdown": [
       "F value\n",
       ":   7.03027070182075d.f.1\n",
       ":   4d.f.2\n",
       ":   62P value\n",
       ":   9.83594330864299e-05\n",
       "\n"
      ],
      "text/plain": [
       "     F value        d.f.1        d.f.2      P value \n",
       "7.030271e+00 4.000000e+00 6.200000e+01 9.835943e-05 "
      ]
     },
     "metadata": {},
     "output_type": "display_data"
    }
   ],
   "source": [
    "chow.test(df_est$y, cbind(df_est$ipr, df_est$su, df_est$sr), df_fore$y, cbind(df_fore$ipr, df_fore$su, df_fore$sr))"
   ]
  },
  {
   "cell_type": "markdown",
   "metadata": {},
   "source": [
    "#### Recursive forecast test for parameter instability\n",
    "\n",
    "The strategy here is recursevevly estimate the OLS estimator and plot it in time. If $\\beta$ is constant over time, then $\\hat{\\beta}_t$ should quickly settle down to a common value.\n"
   ]
  },
  {
   "cell_type": "code",
   "execution_count": null,
   "metadata": {},
   "outputs": [],
   "source": []
  },
  {
   "cell_type": "code",
   "execution_count": null,
   "metadata": {},
   "outputs": [],
   "source": [
    "#>> **(ii)** Forecast with/without dummy variables + batch and recursive method"
   ]
  },
  {
   "cell_type": "code",
   "execution_count": null,
   "metadata": {},
   "outputs": [],
   "source": []
  },
  {
   "cell_type": "code",
   "execution_count": null,
   "metadata": {},
   "outputs": [],
   "source": []
  },
  {
   "cell_type": "code",
   "execution_count": null,
   "metadata": {},
   "outputs": [],
   "source": []
  },
  {
   "cell_type": "code",
   "execution_count": null,
   "metadata": {},
   "outputs": [],
   "source": []
  },
  {
   "cell_type": "code",
   "execution_count": null,
   "metadata": {},
   "outputs": [],
   "source": []
  },
  {
   "cell_type": "code",
   "execution_count": null,
   "metadata": {},
   "outputs": [],
   "source": []
  },
  {
   "cell_type": "code",
   "execution_count": null,
   "metadata": {},
   "outputs": [],
   "source": []
  },
  {
   "cell_type": "code",
   "execution_count": null,
   "metadata": {},
   "outputs": [],
   "source": []
  },
  {
   "cell_type": "code",
   "execution_count": null,
   "metadata": {},
   "outputs": [],
   "source": []
  },
  {
   "cell_type": "code",
   "execution_count": 53,
   "metadata": {},
   "outputs": [
    {
     "data": {
      "text/plain": [
       "\n",
       "Call:\n",
       "lm(formula = y ~ D2000s + ipr + su + sr + D2000s * ipr + D2000s * \n",
       "    su + D2000s * sr, data = df_est)\n",
       "\n",
       "Residuals:\n",
       "     Min       1Q   Median       3Q      Max \n",
       "-0.54848 -0.14816  0.02646  0.16432  0.50730 \n",
       "\n",
       "Coefficients:\n",
       "             Estimate Std. Error t value Pr(>|t|)    \n",
       "(Intercept)  0.306385   0.053538   5.723 9.94e-07 ***\n",
       "D2000s       0.523145   0.205147   2.550   0.0145 *  \n",
       "ipr          0.396918   0.072041   5.510 2.01e-06 ***\n",
       "su          -0.014864   0.023049  -0.645   0.5225    \n",
       "sr           0.004526   0.005252   0.862   0.3937    \n",
       "D2000s:ipr  -0.474532   0.198359  -2.392   0.0213 *  \n",
       "D2000s:su    0.124518   0.079825   1.560   0.1263    \n",
       "D2000s:sr   -0.002443   0.018223  -0.134   0.8940    \n",
       "---\n",
       "Signif. codes:  0 '***' 0.001 '**' 0.01 '*' 0.05 '.' 0.1 ' ' 1\n",
       "\n",
       "Residual standard error: 0.244 on 42 degrees of freedom\n",
       "Multiple R-squared:  0.6102,\tAdjusted R-squared:  0.5452 \n",
       "F-statistic: 9.393 on 7 and 42 DF,  p-value: 5.933e-07\n"
      ]
     },
     "metadata": {},
     "output_type": "display_data"
    }
   ],
   "source": [
    "model2_D = lm(y ~ D2000s +  ipr + su + sr + D2000s*ipr + D2000s*su + D2000s*sr, data = df_est)\n",
    "summary(model2_D)"
   ]
  },
  {
   "cell_type": "code",
   "execution_count": 64,
   "metadata": {},
   "outputs": [
    {
     "name": "stderr",
     "output_type": "stream",
     "text": [
      "Warning message in df_fore$ipr * df_est$D2000s:\n",
      "\"longer object length is not a multiple of shorter object length\"Warning message in df_fore$su * df_est$D2000s:\n",
      "\"longer object length is not a multiple of shorter object length\"Warning message in df_fore$sr * df_est$D2000s:\n",
      "\"longer object length is not a multiple of shorter object length\"Warning message in cbind(df_est$D2000s, df_fore$ipr, df_fore$su, df_fore$sr, df_fore$ipr * :\n",
      "\"number of rows of result is not a multiple of vector length (arg 2)\""
     ]
    }
   ],
   "source": [
    "predit_model2_df = as.data.frame(cbind(df_est$ipr, df_est$su, df_est$sr))\n",
    "colnames(predit_model2_df) = c('ipr', 'su', 'sr')\n",
    "predit_model2_D_df = as.data.frame(cbind(df_est$D2000s, df_fore$ipr, df_fore$su, df_fore$sr,\n",
    "                                       df_fore$ipr*df_est$D2000s, df_fore$su*df_est$D2000s,\n",
    "                                       df_fore$sr*df_est$D2000s))\n",
    "colnames(predit_model2_D_df) = c('D2000s', 'ipr', 'su', 'sr', 'D2000s:ipr', 'D2000s:su', 'D2000s:sr')"
   ]
  },
  {
   "cell_type": "code",
   "execution_count": 66,
   "metadata": {},
   "outputs": [
    {
     "data": {
      "text/html": [
       "<table>\n",
       "<thead><tr><th scope=col>D2000s</th><th scope=col>ipr</th><th scope=col>su</th><th scope=col>sr</th><th scope=col>D2000s:ipr</th><th scope=col>D2000s:su</th><th scope=col>D2000s:sr</th></tr></thead>\n",
       "<tbody>\n",
       "\t<tr><td>0         </td><td> -2.100427</td><td> -6.718558</td><td>-13.790570</td><td>0         </td><td>0         </td><td>0         </td></tr>\n",
       "\t<tr><td>0         </td><td> -7.230932</td><td>-15.587466</td><td>-30.456952</td><td>0         </td><td>0         </td><td>0         </td></tr>\n",
       "\t<tr><td>0         </td><td>-10.195336</td><td>-11.041747</td><td>-13.169687</td><td>0         </td><td>0         </td><td>0         </td></tr>\n",
       "\t<tr><td>0         </td><td> -1.173034</td><td>  4.768213</td><td>  9.637599</td><td>0         </td><td>0         </td><td>0         </td></tr>\n",
       "\t<tr><td>0         </td><td>  2.332467</td><td> 11.190226</td><td> 11.556131</td><td>0         </td><td>0         </td><td>0         </td></tr>\n",
       "\t<tr><td>0         </td><td>  1.325365</td><td>  8.763899</td><td>  7.976892</td><td>0         </td><td>0         </td><td>0         </td></tr>\n",
       "</tbody>\n",
       "</table>\n"
      ],
      "text/latex": [
       "\\begin{tabular}{r|lllllll}\n",
       " D2000s & ipr & su & sr & D2000s:ipr & D2000s:su & D2000s:sr\\\\\n",
       "\\hline\n",
       "\t 0          &  -2.100427 &  -6.718558 & -13.790570 & 0          & 0          & 0         \\\\\n",
       "\t 0          &  -7.230932 & -15.587466 & -30.456952 & 0          & 0          & 0         \\\\\n",
       "\t 0          & -10.195336 & -11.041747 & -13.169687 & 0          & 0          & 0         \\\\\n",
       "\t 0          &  -1.173034 &   4.768213 &   9.637599 & 0          & 0          & 0         \\\\\n",
       "\t 0          &   2.332467 &  11.190226 &  11.556131 & 0          & 0          & 0         \\\\\n",
       "\t 0          &   1.325365 &   8.763899 &   7.976892 & 0          & 0          & 0         \\\\\n",
       "\\end{tabular}\n"
      ],
      "text/markdown": [
       "\n",
       "| D2000s | ipr | su | sr | D2000s:ipr | D2000s:su | D2000s:sr |\n",
       "|---|---|---|---|---|---|---|\n",
       "| 0          |  -2.100427 |  -6.718558 | -13.790570 | 0          | 0          | 0          |\n",
       "| 0          |  -7.230932 | -15.587466 | -30.456952 | 0          | 0          | 0          |\n",
       "| 0          | -10.195336 | -11.041747 | -13.169687 | 0          | 0          | 0          |\n",
       "| 0          |  -1.173034 |   4.768213 |   9.637599 | 0          | 0          | 0          |\n",
       "| 0          |   2.332467 |  11.190226 |  11.556131 | 0          | 0          | 0          |\n",
       "| 0          |   1.325365 |   8.763899 |   7.976892 | 0          | 0          | 0          |\n",
       "\n"
      ],
      "text/plain": [
       "  D2000s ipr        su         sr         D2000s:ipr D2000s:su D2000s:sr\n",
       "1 0       -2.100427  -6.718558 -13.790570 0          0         0        \n",
       "2 0       -7.230932 -15.587466 -30.456952 0          0         0        \n",
       "3 0      -10.195336 -11.041747 -13.169687 0          0         0        \n",
       "4 0       -1.173034   4.768213   9.637599 0          0         0        \n",
       "5 0        2.332467  11.190226  11.556131 0          0         0        \n",
       "6 0        1.325365   8.763899   7.976892 0          0         0        "
      ]
     },
     "metadata": {},
     "output_type": "display_data"
    }
   ],
   "source": [
    "head(predit_model2_D_df)"
   ]
  },
  {
   "cell_type": "code",
   "execution_count": 67,
   "metadata": {},
   "outputs": [],
   "source": [
    "yhat = list()\n",
    "yhat$y = predict(model2, newdata = predit_model2_df) # no dummy\n",
    "yhat$yD = predict(model2_D, newdata = predit_model2_D_df) # with dummy\n",
    "\n",
    "yhat$yD.se = sqrt(sum(model2_D$residuals^2) / 198)\n",
    "yhat$yD.up = yhat$yD + 1.96 * yhat$yD.se\n",
    "yhat$yD.low = yhat$yD - 1.96 * yhat$yD.se"
   ]
  },
  {
   "cell_type": "code",
   "execution_count": 69,
   "metadata": {},
   "outputs": [
    {
     "name": "stderr",
     "output_type": "stream",
     "text": [
      "Warning message in data.table(yhat = rbindlist(list(data.table(df_fore$y), data.table(yhat$y), :\n",
      "\"Item 1 is of size 120 but maximum size is 300 (recycled leaving remainder of 60 items)\""
     ]
    }
   ],
   "source": [
    "yhat.plot <- data.table('yhat' = rbindlist(list(data.table(df_fore$y),\n",
    "                                                data.table(yhat$y),\n",
    "                                                data.table(yhat$yD))),\n",
    "                        'label' = rep(c('Y', 'YHAT_OLS', 'YHAT_OLSD'), each = 100))\n",
    "\n",
    "#ggplot(yhat.plot, aes(x = rep(302:401, 3), y = yhat.plot$yhat.V1, linetype = label)) +\n",
    "#  geom_line() + xlab('') + ylab('') + theme(legend.title = element_blank()) "
   ]
  },
  {
   "cell_type": "code",
   "execution_count": 72,
   "metadata": {},
   "outputs": [
    {
     "name": "stderr",
     "output_type": "stream",
     "text": [
      "Warning message in cbind(df_fore$y, yhat$y, yhat$yD):\n",
      "\"number of rows of result is not a multiple of vector length (arg 1)\""
     ]
    },
    {
     "data": {
      "text/html": [
       "<table>\n",
       "<thead><tr><th scope=col>Y</th><th scope=col>YHAT_OLS</th><th scope=col>YHAT_OLSD</th></tr></thead>\n",
       "<tbody>\n",
       "\t<tr><td>-0.6150647</td><td>0.3328780 </td><td>-0.4898642</td></tr>\n",
       "\t<tr><td>-1.7245239</td><td>0.3463290 </td><td>-2.4698597</td></tr>\n",
       "\t<tr><td>-2.8802190</td><td>0.4465504 </td><td>-3.6358107</td></tr>\n",
       "\t<tr><td>-0.2804189</td><td>0.4955662 </td><td>-0.1864682</td></tr>\n",
       "\t<tr><td> 0.3952763</td><td>0.8020182 </td><td> 1.1181558</td></tr>\n",
       "\t<tr><td> 0.4471209</td><td>0.9948748 </td><td> 0.7382839</td></tr>\n",
       "</tbody>\n",
       "</table>\n"
      ],
      "text/latex": [
       "\\begin{tabular}{r|lll}\n",
       " Y & YHAT\\_OLS & YHAT\\_OLSD\\\\\n",
       "\\hline\n",
       "\t -0.6150647 & 0.3328780  & -0.4898642\\\\\n",
       "\t -1.7245239 & 0.3463290  & -2.4698597\\\\\n",
       "\t -2.8802190 & 0.4465504  & -3.6358107\\\\\n",
       "\t -0.2804189 & 0.4955662  & -0.1864682\\\\\n",
       "\t  0.3952763 & 0.8020182  &  1.1181558\\\\\n",
       "\t  0.4471209 & 0.9948748  &  0.7382839\\\\\n",
       "\\end{tabular}\n"
      ],
      "text/markdown": [
       "\n",
       "| Y | YHAT_OLS | YHAT_OLSD |\n",
       "|---|---|---|\n",
       "| -0.6150647 | 0.3328780  | -0.4898642 |\n",
       "| -1.7245239 | 0.3463290  | -2.4698597 |\n",
       "| -2.8802190 | 0.4465504  | -3.6358107 |\n",
       "| -0.2804189 | 0.4955662  | -0.1864682 |\n",
       "|  0.3952763 | 0.8020182  |  1.1181558 |\n",
       "|  0.4471209 | 0.9948748  |  0.7382839 |\n",
       "\n"
      ],
      "text/plain": [
       "  Y          YHAT_OLS  YHAT_OLSD \n",
       "1 -0.6150647 0.3328780 -0.4898642\n",
       "2 -1.7245239 0.3463290 -2.4698597\n",
       "3 -2.8802190 0.4465504 -3.6358107\n",
       "4 -0.2804189 0.4955662 -0.1864682\n",
       "5  0.3952763 0.8020182  1.1181558\n",
       "6  0.4471209 0.9948748  0.7382839"
      ]
     },
     "metadata": {},
     "output_type": "display_data"
    }
   ],
   "source": [
    "yhat_plot_df = cbind(df_fore$y, yhat$y,yhat$yD)\n",
    "colnames(yhat_plot_df) = c('Y', 'YHAT_OLS', 'YHAT_OLSD')\n",
    "head(yhat_plot_df)"
   ]
  },
  {
   "cell_type": "code",
   "execution_count": 86,
   "metadata": {},
   "outputs": [
    {
     "data": {
      "image/png": "[encoded data removed]",
      "text/plain": [
       "plot without title"
      ]
     },
     "metadata": {},
     "output_type": "display_data"
    }
   ],
   "source": [
    "ts.plot(yhat_plot_df, col=c(\"blue\", \"red\", \"green\"))\n",
    "legend(1, -2.5, c(\"Y\", \"YHAT_OLS\", \"YHAT_OLSD\"), col = 1:3, lty = 1:3)"
   ]
  },
  {
   "cell_type": "code",
   "execution_count": 94,
   "metadata": {},
   "outputs": [],
   "source": [
    "df = as.data.frame(cbind(df_orig$ipr, df_orig$su, df_orig$sr))\n",
    "colnames(df) = c('ipr', 'su', 'sr')\n",
    "df_y = as.data.frame(cbind(df_orig$y, df_orig$ipr, df_orig$su, df_orig$sr))\n",
    "colnames(df_y) = c('y', 'ipr', 'su', 'sr')\n",
    "\n",
    "df_D = as.data.frame(cbind(df_orig$D2000s, df_orig$ipr, df_orig$su, df_orig$sr,\n",
    "                                       df_orig$ipr*df_orig$D2000s, df_orig$su*df_orig$D2000s,\n",
    "                                       df_orig$sr*df_orig$D2000s))\n",
    "colnames(df_D) = c('D2000s', 'ipr', 'su', 'sr', 'D2000s:ipr', 'D2000s:su', 'D2000s:sr')\n",
    "\n",
    "df_D_y = as.data.frame(cbind(df_orig$y, df_orig$D2000s, df_orig$ipr, df_orig$su, df_orig$sr,\n",
    "                                       df_orig$ipr*df_orig$D2000s, df_orig$su*df_orig$D2000s,\n",
    "                                       df_orig$sr*df_orig$D2000s))\n",
    "colnames(df_D_y) = c('y', 'D2000s', 'ipr', 'su', 'sr', 'D2000s:ipr', 'D2000s:su', 'D2000s:sr')\n"
   ]
  },
  {
   "cell_type": "code",
   "execution_count": 135,
   "metadata": {},
   "outputs": [],
   "source": [
    "y_real = list()\n",
    "for (i in (dim(df_orig)[1]/2):(dim(df_orig)[1]-1)) {\n",
    "    ols.rec = lm(y ~ ipr + su + sr, data = df_y[1:i,])\n",
    "    yhat$y.rec[i] = predict(ols.rec, newdata = df_orig[i + 1,])\n",
    "    y_real[i] = df_y$y[i+1]\n",
    "\n",
    "    olsD.rec = lm(y ~ D2000s +  ipr + su + sr + D2000s*ipr + D2000s*su + D2000s*sr, data = df_D_y[1:i,])\n",
    "    yhat$yD.rec[i] <- predict(olsD.rec, newdata = df_D[i + 1,])\n",
    "    #yhat$yD.recse[i] <- sqrt(sum(olsD.rec$residuals^2) / (197 + i))\n",
    "}"
   ]
  },
  {
   "cell_type": "code",
   "execution_count": 126,
   "metadata": {},
   "outputs": [
    {
     "name": "stderr",
     "output_type": "stream",
     "text": [
      "Warning message:\n",
      "\"package 'DataCombine' was built under R version 3.6.3\"\n",
      "Attaching package: 'DataCombine'\n",
      "\n",
      "The following object is masked from 'package:data.table':\n",
      "\n",
      "    shift\n",
      "\n"
     ]
    }
   ],
   "source": [
    "library(DataCombine)"
   ]
  },
  {
   "cell_type": "code",
   "execution_count": 149,
   "metadata": {},
   "outputs": [],
   "source": [
    "yhay_rec_df = cbind(y_real, yhat$y.rec, yhat$yD.rec) %>% as.data.frame() %>% drop_na()\n",
    "colnames(yhay_rec_df) = c('y_real', 'yhat_rec', 'yhatD_rec')"
   ]
  },
  {
   "cell_type": "code",
   "execution_count": 151,
   "metadata": {},
   "outputs": [
    {
     "data": {
      "image/png": "[encoded data removed]",
      "text/plain": [
       "plot without title"
      ]
     },
     "metadata": {},
     "output_type": "display_data"
    }
   ],
   "source": [
    "ts.plot(yhay_rec_df, col=c(\"blue\", \"red\", \"green\"))\n",
    "legend(1, -2, c('Y',\"YHAT\", \"YHATD\"), col = 1:3, lty = 1:3)"
   ]
  },
  {
   "cell_type": "code",
   "execution_count": null,
   "metadata": {},
   "outputs": [],
   "source": []
  }
 ],
 "metadata": {
  "kernelspec": {
   "display_name": "R",
   "language": "R",
   "name": "ir"
  },
  "language_info": {
   "codemirror_mode": "r",
   "file_extension": ".r",
   "mimetype": "text/x-r-source",
   "name": "R",
   "pygments_lexer": "r",
   "version": "3.6.1"
  }
 },
 "nbformat": 4,
 "nbformat_minor": 4
}
