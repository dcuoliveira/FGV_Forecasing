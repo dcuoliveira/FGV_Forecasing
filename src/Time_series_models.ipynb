{
 "cells": [
  {
   "cell_type": "code",
   "execution_count": 84,
   "metadata": {},
   "outputs": [
    {
     "ename": "ERROR",
     "evalue": "Error in library(devtools): there is no package called 'devtools'\n",
     "output_type": "error",
     "traceback": [
      "Error in library(devtools): there is no package called 'devtools'\nTraceback:\n",
      "1. library(devtools)"
     ]
    }
   ],
   "source": [
    "library(readr)\n",
    "library(here)\n",
    "library(aTSA)\n",
    "library(data.table)\n",
    "library(xtable)"
   ]
  },
  {
   "cell_type": "markdown",
   "metadata": {},
   "source": [
    "### Simulated data"
   ]
  },
  {
   "cell_type": "code",
   "execution_count": 88,
   "metadata": {},
   "outputs": [
    {
     "name": "stderr",
     "output_type": "stream",
     "text": [
      "Warning message:\n",
      "\"Missing column names filled in: 'X1' [1]\"Parsed with column specification:\n",
      "cols(\n",
      "  X1 = col_double(),\n",
      "  y1 = col_double(),\n",
      "  y2 = col_double(),\n",
      "  y3 = col_double()\n",
      ")\n"
     ]
    },
    {
     "data": {
      "text/html": [
       "<table>\n",
       "<thead><tr><th scope=col>X1</th><th scope=col>y1</th><th scope=col>y2</th><th scope=col>y3</th></tr></thead>\n",
       "<tbody>\n",
       "\t<tr><td>1          </td><td>-0.29019744</td><td> 0.6271137 </td><td> 0.1446046 </td></tr>\n",
       "\t<tr><td>2          </td><td> 1.00266243</td><td>-0.6859215 </td><td> 2.0023816 </td></tr>\n",
       "\t<tr><td>3          </td><td> 1.84632721</td><td>-0.5799288 </td><td> 0.5160091 </td></tr>\n",
       "\t<tr><td>4          </td><td> 1.27193530</td><td> 1.3152954 </td><td>-1.8554488 </td></tr>\n",
       "\t<tr><td>5          </td><td> 0.02559086</td><td> 1.8196497 </td><td>-1.7592665 </td></tr>\n",
       "\t<tr><td>6          </td><td> 1.58093573</td><td>-0.4237137 </td><td>-1.0224557 </td></tr>\n",
       "</tbody>\n",
       "</table>\n"
      ],
      "text/latex": [
       "\\begin{tabular}{r|llll}\n",
       " X1 & y1 & y2 & y3\\\\\n",
       "\\hline\n",
       "\t 1           & -0.29019744 &  0.6271137  &  0.1446046 \\\\\n",
       "\t 2           &  1.00266243 & -0.6859215  &  2.0023816 \\\\\n",
       "\t 3           &  1.84632721 & -0.5799288  &  0.5160091 \\\\\n",
       "\t 4           &  1.27193530 &  1.3152954  & -1.8554488 \\\\\n",
       "\t 5           &  0.02559086 &  1.8196497  & -1.7592665 \\\\\n",
       "\t 6           &  1.58093573 & -0.4237137  & -1.0224557 \\\\\n",
       "\\end{tabular}\n"
      ],
      "text/markdown": [
       "\n",
       "| X1 | y1 | y2 | y3 |\n",
       "|---|---|---|---|\n",
       "| 1           | -0.29019744 |  0.6271137  |  0.1446046  |\n",
       "| 2           |  1.00266243 | -0.6859215  |  2.0023816  |\n",
       "| 3           |  1.84632721 | -0.5799288  |  0.5160091  |\n",
       "| 4           |  1.27193530 |  1.3152954  | -1.8554488  |\n",
       "| 5           |  0.02559086 |  1.8196497  | -1.7592665  |\n",
       "| 6           |  1.58093573 | -0.4237137  | -1.0224557  |\n",
       "\n"
      ],
      "text/plain": [
       "  X1 y1          y2         y3        \n",
       "1 1  -0.29019744  0.6271137  0.1446046\n",
       "2 2   1.00266243 -0.6859215  2.0023816\n",
       "3 3   1.84632721 -0.5799288  0.5160091\n",
       "4 4   1.27193530  1.3152954 -1.8554488\n",
       "5 5   0.02559086  1.8196497 -1.7592665\n",
       "6 6   1.58093573 -0.4237137 -1.0224557"
      ]
     },
     "metadata": {},
     "output_type": "display_data"
    }
   ],
   "source": [
    "simu_df = read_delim(here('src', 'data', 'simu_data_lecture5.csv'), \";\", escape_double = FALSE, trim_ws = TRUE)\n",
    "head(simu_df)"
   ]
  },
  {
   "cell_type": "code",
   "execution_count": 89,
   "metadata": {},
   "outputs": [],
   "source": [
    "y1 = simu_df$y1"
   ]
  },
  {
   "cell_type": "code",
   "execution_count": 90,
   "metadata": {},
   "outputs": [
    {
     "data": {
      "image/png": "[encoded data removed]",
      "text/plain": [
       "Plot with title \" PACF for y1\""
      ]
     },
     "metadata": {},
     "output_type": "display_data"
    }
   ],
   "source": [
    "par(mfrow=c(2,1))\n",
    "acf.inven <- list('acf' = acf(y1, lag.max = 15, main=\" ACF for y1\"),\n",
    "                  'pacf' = pacf(y1, lag.max = 15, main=\" PACF for y1\"))"
   ]
  },
  {
   "cell_type": "code",
   "execution_count": 91,
   "metadata": {},
   "outputs": [
    {
     "name": "stdout",
     "output_type": "stream",
     "text": [
      "Augmented Dickey-Fuller Test \n",
      "alternative: stationary \n",
      " \n",
      "Type 1: no drift no trend \n",
      "     lag    ADF p.value\n",
      "[1,]   0 -17.58    0.01\n",
      "[2,]   1 -10.75    0.01\n",
      "[3,]   2  -9.99    0.01\n",
      "[4,]   3  -8.99    0.01\n",
      "[5,]   4  -8.40    0.01\n",
      "[6,]   5  -7.89    0.01\n",
      "Type 2: with drift no trend \n",
      "     lag    ADF p.value\n",
      "[1,]   0 -17.62    0.01\n",
      "[2,]   1 -10.78    0.01\n",
      "[3,]   2 -10.01    0.01\n",
      "[4,]   3  -9.01    0.01\n",
      "[5,]   4  -8.42    0.01\n",
      "[6,]   5  -7.91    0.01\n",
      "Type 3: with drift and trend \n",
      "     lag    ADF p.value\n",
      "[1,]   0 -17.74    0.01\n",
      "[2,]   1 -10.87    0.01\n",
      "[3,]   2 -10.14    0.01\n",
      "[4,]   3  -9.15    0.01\n",
      "[5,]   4  -8.56    0.01\n",
      "[6,]   5  -8.08    0.01\n",
      "---- \n",
      "Note: in fact, p.value = 0.01 means p.value <= 0.01 \n"
     ]
    }
   ],
   "source": [
    "adf.inven <- adf.test(y1)"
   ]
  },
  {
   "cell_type": "code",
   "execution_count": 92,
   "metadata": {},
   "outputs": [
    {
     "name": "stderr",
     "output_type": "stream",
     "text": [
      "Warning message in arima(y1, order = c(ar.lag, 0, ma.lag)):\n",
      "\"possible convergence problem: optim gave code = 1\"Warning message in arima(y1, order = c(ar.lag, 0, ma.lag)):\n",
      "\"possible convergence problem: optim gave code = 1\"Warning message in arima(y1, order = c(ar.lag, 0, ma.lag)):\n",
      "\"possible convergence problem: optim gave code = 1\"Warning message in arima(y1, order = c(ar.lag, 0, ma.lag)):\n",
      "\"possible convergence problem: optim gave code = 1\"Warning message in log(s2):\n",
      "\"NaNs produced\"Warning message in arima(y1, order = c(ar.lag, 0, ma.lag)):\n",
      "\"possible convergence problem: optim gave code = 1\"Warning message in arima(y1, order = c(ar.lag, 0, ma.lag)):\n",
      "\"possible convergence problem: optim gave code = 1\"Warning message in arima(y1, order = c(ar.lag, 0, ma.lag)):\n",
      "\"possible convergence problem: optim gave code = 1\"Warning message in arima(y1, order = c(ar.lag, 0, ma.lag)):\n",
      "\"possible convergence problem: optim gave code = 1\"Warning message in arima(y1, order = c(ar.lag, 0, ma.lag)):\n",
      "\"possible convergence problem: optim gave code = 1\"Warning message in arima(y1, order = c(ar.lag, 0, ma.lag)):\n",
      "\"possible convergence problem: optim gave code = 1\""
     ]
    },
    {
     "name": "stdout",
     "output_type": "stream",
     "text": [
      "% latex table generated in R 3.6.1 by xtable 1.8-4 package\n",
      "% Fri Nov 06 11:32:29 2020\n",
      "\\begin{table}[ht]\n",
      "\\centering\n",
      "\\begin{tabular}{rrrrr}\n",
      "  \\hline\n",
      " & MA0 & MA1 & MA2 & AR \\\\ \n",
      "  \\hline\n",
      "1 & 1797.47 & 1764.61 & 1715.23 &   0 \\\\ \n",
      "  2 & 1740.89 & 1714.47 & 1710.97 &   1 \\\\ \n",
      "  3 & 1701.19 & 1707.47 & 1713.36 &   2 \\\\ \n",
      "  4 & 1707.49 & 1713.71 & 1719.76 &   3 \\\\ \n",
      "  5 & 1713.42 & 1717.39 & 1723.73 &   4 \\\\ \n",
      "  6 & 1719.82 & 1723.88 & 1731.81 &   5 \\\\ \n",
      "  7 & 1726.16 & 1732.34 & 1734.21 &   6 \\\\ \n",
      "  8 & 1731.79 & 1738.01 & 1741.21 &   7 \\\\ \n",
      "  9 & 1737.86 & 1744.26 & 1747.01 &   8 \\\\ \n",
      "  10 & 1744.26 & 1748.03 & 1749.79 &   9 \\\\ \n",
      "  11 & 1749.69 & 1755.54 & 1759.78 &  10 \\\\ \n",
      "  12 & 1754.60 & 1760.87 & 1762.39 &  11 \\\\ \n",
      "   \\hline\n",
      "\\end{tabular}\n",
      "\\end{table}\n"
     ]
    }
   ],
   "source": [
    "ic.inven <- list('AIC' = data.table(), 'BIC' = data.table())\n",
    "for (ar.lag in 0:11) {\n",
    "  arma.stat <- rep(0, 6)\n",
    "  for (ma.lag in 0:2) {\n",
    "    arma.fit <- arima(y1, order = c(ar.lag, 0, ma.lag))\n",
    "    # arma.fit\n",
    "    # AIC\n",
    "    arma.stat[ma.lag + 1] <- arma.fit$aic\n",
    "    # BIC\n",
    "    arma.stat[ma.lag + 4] <- -2 * arma.fit$loglik + (ar.lag + ma.lag) * log(length(y1))\n",
    "  }\n",
    "  ic.inven$AIC <- rbindlist(list(ic.inven$AIC, data.table(t(arma.stat[1:3]))))\n",
    "  ic.inven$BIC <- rbindlist(list(ic.inven$BIC, data.table(t(arma.stat[4:6]))))\n",
    "}\n",
    "setnames(ic.inven$AIC, c('MA0', 'MA1', 'MA2'))\n",
    "ic.inven$AIC[, AR := 0:11]\n",
    "setnames(ic.inven$BIC, c('MA0', 'MA1', 'MA2'))\n",
    "ic.inven$BIC[, AR := (0:11)]\n",
    "\n",
    "\n",
    "BIC_selec.mat <- rbind(ic.inven$BIC[, AR := (0:11)])\n",
    "print(xtable(BIC_selec.mat))"
   ]
  },
  {
   "cell_type": "code",
   "execution_count": 132,
   "metadata": {},
   "outputs": [],
   "source": [
    "arma_y1 <- arima(simu_df$y1, order = c(2, 0, 0))"
   ]
  },
  {
   "cell_type": "code",
   "execution_count": 136,
   "metadata": {},
   "outputs": [
    {
     "name": "stderr",
     "output_type": "stream",
     "text": [
      "Warning message:\n",
      "\"package 'xts' was built under R version 3.6.3\"Loading required package: zoo\n",
      "\n",
      "Attaching package: 'zoo'\n",
      "\n",
      "The following objects are masked from 'package:base':\n",
      "\n",
      "    as.Date, as.Date.numeric\n",
      "\n",
      "\n",
      "Attaching package: 'xts'\n",
      "\n",
      "The following objects are masked from 'package:data.table':\n",
      "\n",
      "    first, last\n",
      "\n"
     ]
    }
   ],
   "source": [
    "library('xts')"
   ]
  },
  {
   "cell_type": "code",
   "execution_count": 139,
   "metadata": {},
   "outputs": [
    {
     "name": "stderr",
     "output_type": "stream",
     "text": [
      "ERROR while rich displaying an object: Error in if (many_rows) {: argument is of length zero\n",
      "\n",
      "Traceback:\n",
      "1. FUN(X[[i]], ...)\n",
      "2. tryCatch(withCallingHandlers({\n",
      " .     if (!mime %in% names(repr::mime2repr)) \n",
      " .         stop(\"No repr_* for mimetype \", mime, \" in repr::mime2repr\")\n",
      " .     rpr <- repr::mime2repr[[mime]](obj)\n",
      " .     if (is.null(rpr)) \n",
      " .         return(NULL)\n",
      " .     prepare_content(is.raw(rpr), rpr)\n",
      " . }, error = error_handler), error = outer_handler)\n",
      "3. tryCatchList(expr, classes, parentenv, handlers)\n",
      "4. tryCatchOne(expr, names, parentenv, handlers[[1L]])\n",
      "5. doTryCatch(return(expr), name, parentenv, handler)\n",
      "6. withCallingHandlers({\n",
      " .     if (!mime %in% names(repr::mime2repr)) \n",
      " .         stop(\"No repr_* for mimetype \", mime, \" in repr::mime2repr\")\n",
      " .     rpr <- repr::mime2repr[[mime]](obj)\n",
      " .     if (is.null(rpr)) \n",
      " .         return(NULL)\n",
      " .     prepare_content(is.raw(rpr), rpr)\n",
      " . }, error = error_handler)\n",
      "7. repr::mime2repr[[mime]](obj)\n",
      "8. repr_text.ts(obj)\n",
      "9. repr_ts_generic(obj, repr_text.matrix, ...)\n",
      "10. repr_func(m, ..., rows = nrow(m), cols = ncol(m))\n",
      "11. ellip_limit_arr(obj, ...)\n",
      "12. arr_partition(a, rows, cols)\n"
     ]
    }
   ],
   "source": [
    "as.ts(simu_df$y1)"
   ]
  },
  {
   "cell_type": "code",
   "execution_count": 131,
   "metadata": {},
   "outputs": [
    {
     "name": "stderr",
     "output_type": "stream",
     "text": [
      "also installing the dependencies 'jsonlite', 'rlang'\n",
      "\n"
     ]
    },
    {
     "name": "stdout",
     "output_type": "stream",
     "text": [
      "package 'jsonlite' successfully unpacked and MD5 sums checked\n"
     ]
    },
    {
     "name": "stderr",
     "output_type": "stream",
     "text": [
      "Warning message:\n",
      "\"cannot remove prior installation of package 'jsonlite'\"Warning message in file.copy(savedcopy, lib, recursive = TRUE):\n",
      "\"problem copying C:\\Users\\daniel.oliveira\\.conda\\envs\\quant2\\Lib\\R\\library\\00LOCK\\jsonlite\\libs\\x64\\jsonlite.dll to C:\\Users\\daniel.oliveira\\.conda\\envs\\quant2\\Lib\\R\\library\\jsonlite\\libs\\x64\\jsonlite.dll: Permission denied\"Warning message:\n",
      "\"restored 'jsonlite'\""
     ]
    },
    {
     "name": "stdout",
     "output_type": "stream",
     "text": [
      "package 'rlang' successfully unpacked and MD5 sums checked\n"
     ]
    },
    {
     "name": "stderr",
     "output_type": "stream",
     "text": [
      "Warning message:\n",
      "\"cannot remove prior installation of package 'rlang'\"Warning message in file.copy(savedcopy, lib, recursive = TRUE):\n",
      "\"problem copying C:\\Users\\daniel.oliveira\\.conda\\envs\\quant2\\Lib\\R\\library\\00LOCK\\rlang\\libs\\x64\\rlang.dll to C:\\Users\\daniel.oliveira\\.conda\\envs\\quant2\\Lib\\R\\library\\rlang\\libs\\x64\\rlang.dll: Permission denied\"Warning message:\n",
      "\"restored 'rlang'\""
     ]
    },
    {
     "name": "stdout",
     "output_type": "stream",
     "text": [
      "package 'devtools' successfully unpacked and MD5 sums checked\n",
      "\n",
      "The downloaded binary packages are in\n",
      "\tC:\\Users\\daniel.oliveira\\AppData\\Local\\Temp\\Rtmp4UleVG\\downloaded_packages\n"
     ]
    }
   ],
   "source": [
    "install.packages(\"devtools\") "
   ]
  },
  {
   "cell_type": "code",
   "execution_count": 127,
   "metadata": {},
   "outputs": [
    {
     "ename": "ERROR",
     "evalue": "Error: .onLoad failed in loadNamespace() for 'pkgload', details:\n  call: loadNamespace(i, c(lib.loc, .libPaths()), versionCheck = vI[[i]])\n  error: namespace 'rlang' 0.3.4 is already loaded, but >= 0.4.1 is required\n",
     "output_type": "error",
     "traceback": [
      "Error: .onLoad failed in loadNamespace() for 'pkgload', details:\n  call: loadNamespace(i, c(lib.loc, .libPaths()), versionCheck = vI[[i]])\n  error: namespace 'rlang' 0.3.4 is already loaded, but >= 0.4.1 is required\nTraceback:\n",
      "1. devtools::install_github",
      "2. getExportedValue(pkg, name)",
      "3. asNamespace(ns)",
      "4. getNamespace(ns)",
      "5. loadNamespace(name)",
      "6. namespaceImportFrom(ns, loadNamespace(j <- i[[1L]], c(lib.loc, \n .     .libPaths()), versionCheck = vI[[j]]), i[[2L]], from = package)",
      "7. asNamespace(ns)",
      "8. loadNamespace(j <- i[[1L]], c(lib.loc, .libPaths()), versionCheck = vI[[j]])",
      "9. runHook(\".onLoad\", env, package.lib, package)",
      "10. stop(gettextf(\"%s failed in %s() for '%s', details:\\n  call: %s\\n  error: %s\", \n  .     hookname, \"loadNamespace\", pkgname, deparse(conditionCall(res))[1L], \n  .     conditionMessage(res)), call. = FALSE, domain = NA)"
     ]
    }
   ],
   "source": [
    "devtools::install_github('IRkernel/repr')"
   ]
  },
  {
   "cell_type": "code",
   "execution_count": 111,
   "metadata": {},
   "outputs": [
    {
     "name": "stdout",
     "output_type": "stream",
     "text": [
      "package 'rlang' successfully unpacked and MD5 sums checked\n"
     ]
    },
    {
     "name": "stderr",
     "output_type": "stream",
     "text": [
      "Warning message:\n",
      "\"cannot remove prior installation of package 'rlang'\"Warning message in file.copy(savedcopy, lib, recursive = TRUE):\n",
      "\"problem copying C:\\Users\\daniel.oliveira\\.conda\\envs\\quant2\\Lib\\R\\library\\00LOCK\\rlang\\libs\\x64\\rlang.dll to C:\\Users\\daniel.oliveira\\.conda\\envs\\quant2\\Lib\\R\\library\\rlang\\libs\\x64\\rlang.dll: Permission denied\"Warning message:\n",
      "\"restored 'rlang'\""
     ]
    },
    {
     "name": "stdout",
     "output_type": "stream",
     "text": [
      "\n",
      "The downloaded binary packages are in\n",
      "\tC:\\Users\\daniel.oliveira\\AppData\\Local\\Temp\\Rtmp4UleVG\\downloaded_packages\n"
     ]
    }
   ],
   "source": [
    "install.packages('rlang')"
   ]
  },
  {
   "cell_type": "code",
   "execution_count": null,
   "metadata": {},
   "outputs": [],
   "source": []
  },
  {
   "cell_type": "markdown",
   "metadata": {},
   "source": [
    "### Model diagnostic"
   ]
  },
  {
   "cell_type": "code",
   "execution_count": 44,
   "metadata": {},
   "outputs": [
    {
     "data": {
      "image/png": "[encoded data removed]",
      "text/plain": [
       "Plot with title \"ACF for Residual ARMA(2,0) for y1\""
      ]
     },
     "metadata": {},
     "output_type": "display_data"
    },
    {
     "data": {
      "image/png": "[encoded data removed]",
      "text/plain": [
       "Plot with title \"PACF for Residual ARMA(2,0) for y1\""
      ]
     },
     "metadata": {},
     "output_type": "display_data"
    }
   ],
   "source": [
    "acf.inven$resid <- list('acf' = acf(arma_y1$residuals, lag.max = 12, main=\"ACF for Residual ARMA(2,0) for y1\"),\n",
    "                        'pacf' = pacf(arma_y1$residuals, lag.max = 12, main=\"PACF for Residual ARMA(2,0) for y1\"))"
   ]
  },
  {
   "cell_type": "code",
   "execution_count": null,
   "metadata": {},
   "outputs": [],
   "source": [
    "white_test_df = cbind()\n",
    "\n",
    "arima.inven[1:72, eps := as.numeric(arma.fit$rcpi$residuals)]\n",
    "arima.inven[2:72, 'eps1' := diff(arima.inven[1:72, eps], 1)]\n",
    "arima.inven[3:72, 'eps2' := diff(arima.inven[2:72, eps1], 1)]"
   ]
  },
  {
   "cell_type": "code",
   "execution_count": null,
   "metadata": {},
   "outputs": [],
   "source": [
    "summary(lm(eps ~ eps1 + eps2, data = arima.inven[3:72]))"
   ]
  },
  {
   "cell_type": "code",
   "execution_count": null,
   "metadata": {},
   "outputs": [],
   "source": [
    "white.test(arma.fit$rcpi$residuals)"
   ]
  }
 ],
 "metadata": {
  "kernelspec": {
   "display_name": "R",
   "language": "R",
   "name": "ir"
  },
  "language_info": {
   "codemirror_mode": "r",
   "file_extension": ".r",
   "mimetype": "text/x-r-source",
   "name": "R",
   "pygments_lexer": "r",
   "version": "3.6.1"
  }
 },
 "nbformat": 4,
 "nbformat_minor": 4
}
