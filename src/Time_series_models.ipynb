{
 "cells": [
  {
   "cell_type": "markdown",
   "metadata": {},
   "source": [
    "# Exercise 4\n",
    "\n",
    "**(1)** Test for autocorrelation on the series of interest:\n",
    "> **(a)** Autocorrelation function (ACF)\n",
    "\n",
    "> **(b)** Partial autocorrelation function (PACF)\n",
    "\n",
    "**(2)** Test for stationarity of the process\n",
    "\n",
    "**(3)** Find the optimal p and q for the ARMA(p,q) model:\n",
    "    \n",
    "**(4)** Run a model diagnostic on the residuals of the ARMA(p,q):\n",
    "> **(a)** Autocorrelation function (ACF)\n",
    "\n",
    "> **(b)** Partial autocorrelation function (PACF)\n",
    "\n",
    "> **(c)** Serial correlation tests:\n",
    ">> **(i)** Breusch-Godfrey test\n",
    "\n",
    ">> **(ii)** ARCH test\n",
    "\n",
    "**(5)** Run forecasts and evaluate the results:\n",
    "> **(a)** 1-step ahead and evaluate using RMSE and MAE\n",
    "\n",
    "> **(b)** 2-steps ahead and evaluate using RMSE and MAE"
   ]
  },
  {
   "cell_type": "code",
   "execution_count": 3,
   "metadata": {},
   "outputs": [
    {
     "name": "stderr",
     "output_type": "stream",
     "text": [
      "Warning message:\n",
      "\"package 'FinTS' was built under R version 3.6.3\""
     ]
    }
   ],
   "source": [
    "rm(list=ls())\n",
    "library(readr)\n",
    "library(here)\n",
    "library(aTSA)\n",
    "library(data.table)\n",
    "library(xtable)\n",
    "library(dplyr)\n",
    "library(Hmisc)\n",
    "library(lmtest)\n",
    "library(FinTS)"
   ]
  },
  {
   "cell_type": "code",
   "execution_count": 4,
   "metadata": {},
   "outputs": [
    {
     "name": "stderr",
     "output_type": "stream",
     "text": [
      "Warning message:\n",
      "\"Missing column names filled in: 'X1' [1]\"Parsed with column specification:\n",
      "cols(\n",
      "  X1 = col_double(),\n",
      "  y1 = col_double(),\n",
      "  y2 = col_double(),\n",
      "  y3 = col_double()\n",
      ")\n"
     ]
    },
    {
     "data": {
      "text/html": [
       "<table>\n",
       "<thead><tr><th scope=col>X1</th><th scope=col>y1</th><th scope=col>y2</th><th scope=col>y3</th></tr></thead>\n",
       "<tbody>\n",
       "\t<tr><td>1          </td><td>-0.29019744</td><td> 0.6271137 </td><td> 0.1446046 </td></tr>\n",
       "\t<tr><td>2          </td><td> 1.00266243</td><td>-0.6859215 </td><td> 2.0023816 </td></tr>\n",
       "\t<tr><td>3          </td><td> 1.84632721</td><td>-0.5799288 </td><td> 0.5160091 </td></tr>\n",
       "\t<tr><td>4          </td><td> 1.27193530</td><td> 1.3152954 </td><td>-1.8554488 </td></tr>\n",
       "\t<tr><td>5          </td><td> 0.02559086</td><td> 1.8196497 </td><td>-1.7592665 </td></tr>\n",
       "\t<tr><td>6          </td><td> 1.58093573</td><td>-0.4237137 </td><td>-1.0224557 </td></tr>\n",
       "</tbody>\n",
       "</table>\n"
      ],
      "text/latex": [
       "\\begin{tabular}{r|llll}\n",
       " X1 & y1 & y2 & y3\\\\\n",
       "\\hline\n",
       "\t 1           & -0.29019744 &  0.6271137  &  0.1446046 \\\\\n",
       "\t 2           &  1.00266243 & -0.6859215  &  2.0023816 \\\\\n",
       "\t 3           &  1.84632721 & -0.5799288  &  0.5160091 \\\\\n",
       "\t 4           &  1.27193530 &  1.3152954  & -1.8554488 \\\\\n",
       "\t 5           &  0.02559086 &  1.8196497  & -1.7592665 \\\\\n",
       "\t 6           &  1.58093573 & -0.4237137  & -1.0224557 \\\\\n",
       "\\end{tabular}\n"
      ],
      "text/markdown": [
       "\n",
       "| X1 | y1 | y2 | y3 |\n",
       "|---|---|---|---|\n",
       "| 1           | -0.29019744 |  0.6271137  |  0.1446046  |\n",
       "| 2           |  1.00266243 | -0.6859215  |  2.0023816  |\n",
       "| 3           |  1.84632721 | -0.5799288  |  0.5160091  |\n",
       "| 4           |  1.27193530 |  1.3152954  | -1.8554488  |\n",
       "| 5           |  0.02559086 |  1.8196497  | -1.7592665  |\n",
       "| 6           |  1.58093573 | -0.4237137  | -1.0224557  |\n",
       "\n"
      ],
      "text/plain": [
       "  X1 y1          y2         y3        \n",
       "1 1  -0.29019744  0.6271137  0.1446046\n",
       "2 2   1.00266243 -0.6859215  2.0023816\n",
       "3 3   1.84632721 -0.5799288  0.5160091\n",
       "4 4   1.27193530  1.3152954 -1.8554488\n",
       "5 5   0.02559086  1.8196497 -1.7592665\n",
       "6 6   1.58093573 -0.4237137 -1.0224557"
      ]
     },
     "metadata": {},
     "output_type": "display_data"
    }
   ],
   "source": [
    "simu_df = read_delim(here('src', 'data', 'simu_data_lecture5.csv'), \";\", escape_double = FALSE, trim_ws = TRUE)\n",
    "head(simu_df)"
   ]
  },
  {
   "cell_type": "code",
   "execution_count": 5,
   "metadata": {},
   "outputs": [],
   "source": [
    "y1 = simu_df$y1"
   ]
  },
  {
   "cell_type": "markdown",
   "metadata": {},
   "source": [
    "## **(1)** Test for autocorrelation on the series of interest:\n",
    "\n",
    "Assuming a stochastic process of the form $\\{y_t\\}_{t=1}^{T}$, the autocorrelation function is simply given by:\n",
    "\n",
    "$\n",
    "Cov(y_t, y_{t-k}) = \\gamma(k)\n",
    "$\n",
    "\n",
    "Therefore, the autocorrelation function (ACF) is defined as\n",
    "\n",
    "$\n",
    "AC(k) = \\frac{\\gamma(k)}{\\gamma(0)} = \\frac{Cov(y_t, y_{t-k})}{\\sqrt{Var(y_t)}\\sqrt{Var(y_{t-k})}}\n",
    "$\n",
    "\n",
    "and the partial autocorrelation function (PACF) is defined as the correlation between $y_t$ and $y_{t-k}$ conditional on $Y_{-t, -(t-k)}$, which is the set of all available $y_i$ except for $y_t$ and $y_{t-k}$. This means that we can estimate the PACF using the LRM:\n",
    "\n",
    "$\n",
    "y_t = \\rho_k y_{t-k} + \\epsilon_t \\quad where \\quad PAC(k) = \\rho_k\n",
    "$\n"
   ]
  },
  {
   "cell_type": "markdown",
   "metadata": {},
   "source": [
    "### **(a)** Autocorrelation function (ACF)\n",
    "\n",
    "### +\n",
    "\n",
    "### **(b)** Partial autocorrelation function (PACF)"
   ]
  },
  {
   "cell_type": "code",
   "execution_count": 6,
   "metadata": {},
   "outputs": [
    {
     "data": {
      "image/png": "[encoded data removed]",
      "text/plain": [
       "Plot with title \" PACF for y1\""
      ]
     },
     "metadata": {},
     "output_type": "display_data"
    }
   ],
   "source": [
    "par(mfrow=c(2,1))\n",
    "acf.inven <- list('acf' = acf(y1, lag.max = 15, main=\" ACF for y1\"),\n",
    "                  'pacf' = pacf(y1, lag.max = 15, main=\" PACF for y1\"))"
   ]
  },
  {
   "cell_type": "markdown",
   "metadata": {},
   "source": [
    "Note that the AC function decays almost exponentially, while the PAC function has two peaks and then vanishes. This present evidence that our process is probably an AR(2) one."
   ]
  },
  {
   "cell_type": "markdown",
   "metadata": {},
   "source": [
    "## **(2)** Test for stationarity of the process\n",
    "\n",
    "#### Dickey-Fuller test\n",
    "\n",
    "To illustrate the Dickey-Fuller test, lets consider the following model:\n",
    "\n",
    "$\n",
    "y_t = T_t + z_t\\\\\n",
    "T_t = \\nu_0 + \\nu_1 t\\\\\n",
    "z_t = \\rho z_{t-1} + \\epsilon_t \\quad \\epsilon_t \\sim WN(0, \\sigma^2)\n",
    "$\n",
    "\n",
    "where $T_t$ is a deterministic linear trend. We have that, if $\\rho < 1$, then $y_t$ is $I(0)$ about the deterministic trend, whereas if $\\rho=1$ and $\\nu_1=0$, then $z_t$ is a random walk and $y_t$ in $I(1)$ with drift.\n",
    "\n",
    "Suppose $\\nu_0=\\nu_1=0 \\implies T_t=0$, and therefore:\n",
    "\n",
    "$\n",
    "y_t = z_t = \\rho z_{t-1} + \\epsilon_t \\quad (**)\n",
    "$\n",
    "\n",
    "We are interested in testing for unit root processes, that is, if $\\rho=1$, which implies that $y_t$ in $I(1)$. We can define the hypotheses of intereset in the following way:\n",
    "\n",
    "$\n",
    "H_0: \\rho=1\\\\\n",
    "H_1: |\\rho|<1\n",
    "$\n",
    "\n",
    "The problem is that, to construct the test statistics to test the above hypotheses we would need the sample moments of $y_t$, which under the null is a unit root process, but unfortunatly they do not converge to fixed constants. Dickey and Fuller (1979) derived statistics that converge in distribution to the sample moments of $y_t$ under the alternative, while Phillips (1978) derived sample statistics that also converge in probability for the null. The limiting distribution for the t-test($\\rho=1$) is called the Dickey-Fueller distribution and it does not have a closed form representation.\n",
    "\n",
    "Its important to note that the DF distributuon is sensitive to the form of the deterministic component. There are two most common representations for this deterministic component:\n",
    "\n",
    "**(1)** Constant only: The test model is given by:\n",
    "\n",
    "$\n",
    "\\Delta y_t = \\nu_0 + (\\rho-1) y_{t-1} + \\epsilon_t\n",
    "$\n",
    "\n",
    "with the following hypotheses:\n",
    "\n",
    "$\n",
    "H_0: \\rho=1 \\quad \\nu_0=0\\\\\n",
    "H_1: |\\rho|<1 \\quad \\nu_0 \\neq 0\n",
    "$\n",
    "\n",
    "**(2)** Constant and time trend: The test model is given by:\n",
    "\n",
    "$\n",
    "\\Delta y_t = \\nu_0 + \\nu_1 t + (\\rho-1) y_{t-1} + \\epsilon_t\n",
    "$\n",
    "\n",
    "with the following hypotheses:\n",
    "\n",
    "$\n",
    "H_0: \\rho=1 \\quad \\nu_1=0\\\\\n",
    "H_1: |\\rho|<1 \\quad \\nu_1 \\neq 0\n",
    "$\n",
    "\n",
    "\n",
    "Furthermore, the Augmented Dickey-Fuller test expands the above model (**) to account for more autoregressive terms.\n"
   ]
  },
  {
   "cell_type": "code",
   "execution_count": 7,
   "metadata": {},
   "outputs": [
    {
     "name": "stdout",
     "output_type": "stream",
     "text": [
      "Augmented Dickey-Fuller Test \n",
      "alternative: stationary \n",
      " \n",
      "Type 1: no drift no trend \n",
      "     lag    ADF p.value\n",
      "[1,]   0 -17.58    0.01\n",
      "[2,]   1 -10.75    0.01\n",
      "[3,]   2  -9.99    0.01\n",
      "[4,]   3  -8.99    0.01\n",
      "[5,]   4  -8.40    0.01\n",
      "[6,]   5  -7.89    0.01\n",
      "Type 2: with drift no trend \n",
      "     lag    ADF p.value\n",
      "[1,]   0 -17.62    0.01\n",
      "[2,]   1 -10.78    0.01\n",
      "[3,]   2 -10.01    0.01\n",
      "[4,]   3  -9.01    0.01\n",
      "[5,]   4  -8.42    0.01\n",
      "[6,]   5  -7.91    0.01\n",
      "Type 3: with drift and trend \n",
      "     lag    ADF p.value\n",
      "[1,]   0 -17.74    0.01\n",
      "[2,]   1 -10.87    0.01\n",
      "[3,]   2 -10.14    0.01\n",
      "[4,]   3  -9.15    0.01\n",
      "[5,]   4  -8.56    0.01\n",
      "[6,]   5  -8.08    0.01\n",
      "---- \n",
      "Note: in fact, p.value = 0.01 means p.value <= 0.01 \n"
     ]
    }
   ],
   "source": [
    "adf.test(y1)"
   ]
  },
  {
   "cell_type": "markdown",
   "metadata": {},
   "source": [
    "The ADF test reject the null hypothesis of unit root process for all the possible specifications. Therefore, we have evidence that our process should be stationary."
   ]
  },
  {
   "cell_type": "markdown",
   "metadata": {},
   "source": [
    "## **(3)** Find the optimal p and q for the ARMA(p,q) model:\n",
    "\n",
    "Recall that the AIC and BIC are measures of model fitness defined as:\n",
    "\n",
    "$\n",
    "AIC = 2k - 2\\log(\\hat{L})\\\\\n",
    "BIC = k\\log(T)-2\\log(\\hat{L})\n",
    "$\n",
    "\n",
    "where $\\hat{L}$ is the maximum value that the model likelihood function achieves, $k$ is the number of variables in the model, and $T$ is the number of observations.\n",
    "\n",
    "We can use both AIC and BIC to find the best p and q parameters for the ARMA(p,q) model."
   ]
  },
  {
   "cell_type": "code",
   "execution_count": 8,
   "metadata": {},
   "outputs": [
    {
     "name": "stderr",
     "output_type": "stream",
     "text": [
      "Warning message in arima(y1, order = c(ar.lag, 0, ma.lag)):\n",
      "\"possible convergence problem: optim gave code = 1\"Warning message in arima(y1, order = c(ar.lag, 0, ma.lag)):\n",
      "\"possible convergence problem: optim gave code = 1\"Warning message in arima(y1, order = c(ar.lag, 0, ma.lag)):\n",
      "\"possible convergence problem: optim gave code = 1\"Warning message in arima(y1, order = c(ar.lag, 0, ma.lag)):\n",
      "\"possible convergence problem: optim gave code = 1\"Warning message in log(s2):\n",
      "\"NaNs produced\"Warning message in arima(y1, order = c(ar.lag, 0, ma.lag)):\n",
      "\"possible convergence problem: optim gave code = 1\"Warning message in arima(y1, order = c(ar.lag, 0, ma.lag)):\n",
      "\"possible convergence problem: optim gave code = 1\"Warning message in arima(y1, order = c(ar.lag, 0, ma.lag)):\n",
      "\"possible convergence problem: optim gave code = 1\"Warning message in arima(y1, order = c(ar.lag, 0, ma.lag)):\n",
      "\"possible convergence problem: optim gave code = 1\"Warning message in arima(y1, order = c(ar.lag, 0, ma.lag)):\n",
      "\"possible convergence problem: optim gave code = 1\"Warning message in arima(y1, order = c(ar.lag, 0, ma.lag)):\n",
      "\"possible convergence problem: optim gave code = 1\""
     ]
    },
    {
     "name": "stdout",
     "output_type": "stream",
     "text": [
      "% latex table generated in R 3.6.1 by xtable 1.8-4 package\n",
      "% Sun Nov 15 08:45:37 2020\n",
      "\\begin{table}[ht]\n",
      "\\centering\n",
      "\\begin{tabular}{rrrrr}\n",
      "  \\hline\n",
      " & MA0 & MA1 & MA2 & AR \\\\ \n",
      "  \\hline\n",
      "1 & 1797.47 & 1764.61 & 1715.23 &   0 \\\\ \n",
      "  2 & 1740.89 & 1714.47 & 1710.97 &   1 \\\\ \n",
      "  3 & 1701.19 & 1707.47 & 1713.36 &   2 \\\\ \n",
      "  4 & 1707.49 & 1713.71 & 1719.76 &   3 \\\\ \n",
      "  5 & 1713.42 & 1717.39 & 1723.73 &   4 \\\\ \n",
      "  6 & 1719.82 & 1723.88 & 1731.81 &   5 \\\\ \n",
      "  7 & 1726.16 & 1732.34 & 1734.21 &   6 \\\\ \n",
      "  8 & 1731.79 & 1738.01 & 1741.21 &   7 \\\\ \n",
      "  9 & 1737.86 & 1744.26 & 1747.01 &   8 \\\\ \n",
      "  10 & 1744.26 & 1748.03 & 1749.79 &   9 \\\\ \n",
      "  11 & 1749.69 & 1755.54 & 1759.78 &  10 \\\\ \n",
      "  12 & 1754.60 & 1760.87 & 1762.39 &  11 \\\\ \n",
      "   \\hline\n",
      "\\end{tabular}\n",
      "\\end{table}\n"
     ]
    }
   ],
   "source": [
    "ic.inven <- list('AIC' = data.table(), 'BIC' = data.table())\n",
    "for (ar.lag in 0:11) {\n",
    "  arma.stat <- rep(0, 6)\n",
    "  for (ma.lag in 0:2) {\n",
    "    arma.fit <- arima(y1, order = c(ar.lag, 0, ma.lag))\n",
    "    # arma.fit\n",
    "    # AIC\n",
    "    arma.stat[ma.lag + 1] <- arma.fit$aic\n",
    "    # BIC\n",
    "    arma.stat[ma.lag + 4] <- -2 * arma.fit$loglik + (ar.lag + ma.lag) * log(length(y1))\n",
    "  }\n",
    "  ic.inven$AIC <- rbindlist(list(ic.inven$AIC, data.table(t(arma.stat[1:3]))))\n",
    "  ic.inven$BIC <- rbindlist(list(ic.inven$BIC, data.table(t(arma.stat[4:6]))))\n",
    "}\n",
    "setnames(ic.inven$AIC, c('MA0', 'MA1', 'MA2'))\n",
    "ic.inven$AIC[, AR := 0:11]\n",
    "setnames(ic.inven$BIC, c('MA0', 'MA1', 'MA2'))\n",
    "ic.inven$BIC[, AR := (0:11)]\n",
    "\n",
    "\n",
    "BIC_selec.mat <- rbind(ic.inven$BIC[, AR := (0:11)])\n",
    "print(xtable(BIC_selec.mat))"
   ]
  },
  {
   "cell_type": "markdown",
   "metadata": {},
   "source": [
    "Using both of the information criterion we see that the optimal parameters would be ARMA(2,0)."
   ]
  },
  {
   "cell_type": "markdown",
   "metadata": {},
   "source": [
    "## **(4)** Run a model diagnostic on the residuals of the ARMA(p,q):\n",
    "### **(a)** Autocorrelation function (ACF)\n",
    "### + \n",
    "### **(b)** Partial autocorrelation function (PACF)"
   ]
  },
  {
   "cell_type": "code",
   "execution_count": 9,
   "metadata": {},
   "outputs": [],
   "source": [
    "arma_y1 = arima(simu_df$y1, order = c(2, 0, 0))"
   ]
  },
  {
   "cell_type": "code",
   "execution_count": 10,
   "metadata": {},
   "outputs": [
    {
     "data": {
      "image/png": "[encoded data removed]",
      "text/plain": [
       "Plot with title \" PACF for ARMA(2,0) residuals\""
      ]
     },
     "metadata": {},
     "output_type": "display_data"
    }
   ],
   "source": [
    "par(mfrow=c(2,1))\n",
    "acf.inven <- list('acf' = acf(arma_y1$residuals, lag.max = 15, main=\" ACF for ARMA(2,0) residuals\"),\n",
    "                  'pacf' = pacf(arma_y1$residuals, lag.max = 15, main=\" PACF for ARMA(2,0) residuals\"))"
   ]
  },
  {
   "cell_type": "markdown",
   "metadata": {},
   "source": [
    "Using the correct specification of the ARMA process we can see that the PACF has no significant terms. Furthermore, the ACF rapidly vanishes, which is further evidence of proper model specification."
   ]
  },
  {
   "cell_type": "markdown",
   "metadata": {},
   "source": [
    "## **(c)** Serial correlation tests:\n"
   ]
  },
  {
   "cell_type": "markdown",
   "metadata": {},
   "source": [
    "#### Breusch-Godfrey test"
   ]
  },
  {
   "cell_type": "code",
   "execution_count": 15,
   "metadata": {},
   "outputs": [
    {
     "data": {
      "text/plain": [
       "\n",
       "Call:\n",
       "lm(formula = e ~ e_l1 + e_l2, data = df_bg)\n",
       "\n",
       "Residuals:\n",
       "    Min      1Q  Median      3Q     Max \n",
       "-3.8139 -0.6772  0.0554  0.6647  2.6477 \n",
       "\n",
       "Coefficients:\n",
       "             Estimate Std. Error t value Pr(>|t|)\n",
       "(Intercept) -0.001247   0.040529  -0.031    0.975\n",
       "e_l1         0.004706   0.040962   0.115    0.909\n",
       "e_l2        -0.003081   0.041048  -0.075    0.940\n",
       "\n",
       "Residual standard error: 0.9911 on 595 degrees of freedom\n",
       "  (2 observations deleted due to missingness)\n",
       "Multiple R-squared:  3.155e-05,\tAdjusted R-squared:  -0.00333 \n",
       "F-statistic: 0.009387 on 2 and 595 DF,  p-value: 0.9907\n"
      ]
     },
     "metadata": {},
     "output_type": "display_data"
    }
   ],
   "source": [
    "df_bg = as.data.frame(cbind(arma_y1$residuals, Lag(arma_y1$residuals, 1), Lag(arma_y1$residuals, 2)))\n",
    "colnames(df_bg) = c('e', 'e_l1', 'e_l2')\n",
    "summary(lm(e ~ e_l1 + e_l2, data = df_bg))"
   ]
  },
  {
   "cell_type": "markdown",
   "metadata": {},
   "source": [
    "For both the first and second lag of the residuals of the ARMA(2,0) model we can raise the significance level up to .90 without rejecting the null hypothesis of uncorrelated error terms. Therefore, we have evidence of no serial correltaion on the ARMA model."
   ]
  },
  {
   "cell_type": "markdown",
   "metadata": {},
   "source": [
    "#### ARCH test"
   ]
  },
  {
   "cell_type": "code",
   "execution_count": 16,
   "metadata": {},
   "outputs": [
    {
     "data": {
      "text/plain": [
       "\n",
       "\tARCH LM-test; Null hypothesis: no ARCH effects\n",
       "\n",
       "data:  arma_y1$residuals\n",
       "Chi-squared = 0.0015185, df = 1, p-value = 0.9689\n"
      ]
     },
     "metadata": {},
     "output_type": "display_data"
    }
   ],
   "source": [
    "ArchTest(arma_y1$residuals, lags = 1)"
   ]
  },
  {
   "cell_type": "markdown",
   "metadata": {},
   "source": [
    "The statistics of the ARCH test says that we can increase the significance level up to 96% and still not reject the null hypothesis of no ARCH effect. Therefore, we have evidence that the residuals of our ARMA(2,0) model follows an ARCH process."
   ]
  },
  {
   "cell_type": "markdown",
   "metadata": {},
   "source": [
    "## **(5)** Run forecasts and evaluate the results:\n",
    "### **(a)** 1-step ahead and evaluate using RMSE and MAE"
   ]
  },
  {
   "cell_type": "code",
   "execution_count": null,
   "metadata": {},
   "outputs": [],
   "source": [
    "forecast.inven = list()"
   ]
  },
  {
   "cell_type": "code",
   "execution_count": 20,
   "metadata": {},
   "outputs": [
    {
     "name": "stderr",
     "output_type": "stream",
     "text": [
      "ERROR while rich displaying an object: Error in if (many_rows) {: argument is of length zero\n",
      "\n",
      "Traceback:\n",
      "1. FUN(X[[i]], ...)\n",
      "2. tryCatch(withCallingHandlers({\n",
      " .     if (!mime %in% names(repr::mime2repr)) \n",
      " .         stop(\"No repr_* for mimetype \", mime, \" in repr::mime2repr\")\n",
      " .     rpr <- repr::mime2repr[[mime]](obj)\n",
      " .     if (is.null(rpr)) \n",
      " .         return(NULL)\n",
      " .     prepare_content(is.raw(rpr), rpr)\n",
      " . }, error = error_handler), error = outer_handler)\n",
      "3. tryCatchList(expr, classes, parentenv, handlers)\n",
      "4. tryCatchOne(expr, names, parentenv, handlers[[1L]])\n",
      "5. doTryCatch(return(expr), name, parentenv, handler)\n",
      "6. withCallingHandlers({\n",
      " .     if (!mime %in% names(repr::mime2repr)) \n",
      " .         stop(\"No repr_* for mimetype \", mime, \" in repr::mime2repr\")\n",
      " .     rpr <- repr::mime2repr[[mime]](obj)\n",
      " .     if (is.null(rpr)) \n",
      " .         return(NULL)\n",
      " .     prepare_content(is.raw(rpr), rpr)\n",
      " . }, error = error_handler)\n",
      "7. repr::mime2repr[[mime]](obj)\n",
      "8. repr_html.list(obj)\n",
      "9. repr_list_generic(obj, \"html\", \"\\t<li>%s</li>\\n\", \"\\t<dt>$%s</dt>\\n\\t\\t<dd>%s</dd>\\n\", \n",
      " .     \"<strong>$%s</strong> = %s\", \"<ol>\\n%s</ol>\\n\", \"<dl>\\n%s</dl>\\n\", \n",
      " .     numeric_item = \"\\t<dt>[[%s]]</dt>\\n\\t\\t<dd>%s</dd>\\n\", escape_fun = html_escape)\n",
      "10. lapply(vec, format2repr[[fmt]])\n",
      "11. FUN(X[[i]], ...)\n",
      "12. repr_html.ts(X[[i]], ...)\n",
      "13. repr_ts_generic(obj, repr_html.matrix, ...)\n",
      "14. repr_func(m, ..., rows = nrow(m), cols = ncol(m))\n",
      "15. repr_matrix_generic(obj, \"<table>\\n%s%s</table>\\n\", \"<thead><tr>%s</tr></thead>\\n\", \n",
      "  .     \"<th></th>\", \"<th scope=col>%s</th>\", \"<tbody>\\n%s</tbody>\\n\", \n",
      "  .     \"\\t<tr>%s</tr>\\n\", \"<th scope=row>%s</th>\", \"<td>%s</td>\", \n",
      "  .     escape_fun = html_escape_vec, ...)\n",
      "16. ellip_limit_arr(flatten(x), rows, cols)\n",
      "17. arr_partition(a, rows, cols)\n",
      "ERROR while rich displaying an object: Error in repr_matrix_generic(obj, \"\\n%s%s\\n\", sprintf(\"|%%s\\n|%s|\\n\", : formal argument \"cols\" matched by multiple actual arguments\n",
      "\n",
      "Traceback:\n",
      "1. FUN(X[[i]], ...)\n",
      "2. tryCatch(withCallingHandlers({\n",
      " .     if (!mime %in% names(repr::mime2repr)) \n",
      " .         stop(\"No repr_* for mimetype \", mime, \" in repr::mime2repr\")\n",
      " .     rpr <- repr::mime2repr[[mime]](obj)\n",
      " .     if (is.null(rpr)) \n",
      " .         return(NULL)\n",
      " .     prepare_content(is.raw(rpr), rpr)\n",
      " . }, error = error_handler), error = outer_handler)\n",
      "3. tryCatchList(expr, classes, parentenv, handlers)\n",
      "4. tryCatchOne(expr, names, parentenv, handlers[[1L]])\n",
      "5. doTryCatch(return(expr), name, parentenv, handler)\n",
      "6. withCallingHandlers({\n",
      " .     if (!mime %in% names(repr::mime2repr)) \n",
      " .         stop(\"No repr_* for mimetype \", mime, \" in repr::mime2repr\")\n",
      " .     rpr <- repr::mime2repr[[mime]](obj)\n",
      " .     if (is.null(rpr)) \n",
      " .         return(NULL)\n",
      " .     prepare_content(is.raw(rpr), rpr)\n",
      " . }, error = error_handler)\n",
      "7. repr::mime2repr[[mime]](obj)\n",
      "8. repr_markdown.list(obj)\n",
      "9. repr_list_generic(obj, \"markdown\", \"%s. %s\\n\", \"$%s\\n:   %s\\n\", \n",
      " .     \"**$%s** = %s\", \"%s\\n\\n\", numeric_item = \"[[%s]]\\n:   %s\\n\", \n",
      " .     item_uses_numbers = TRUE, escape_fun = html_escape)\n",
      "10. lapply(vec, format2repr[[fmt]])\n",
      "11. FUN(X[[i]], ...)\n",
      "12. repr_markdown.ts(X[[i]], ...)\n",
      "13. repr_ts_generic(obj, repr_markdown.matrix, ...)\n",
      "14. repr_func(m, ..., rows = nrow(m), cols = ncol(m))\n",
      "ERROR while rich displaying an object: Error in rep(colspec$col, ncol(obj)): invalid 'times' argument\n",
      "\n",
      "Traceback:\n",
      "1. FUN(X[[i]], ...)\n",
      "2. tryCatch(withCallingHandlers({\n",
      " .     if (!mime %in% names(repr::mime2repr)) \n",
      " .         stop(\"No repr_* for mimetype \", mime, \" in repr::mime2repr\")\n",
      " .     rpr <- repr::mime2repr[[mime]](obj)\n",
      " .     if (is.null(rpr)) \n",
      " .         return(NULL)\n",
      " .     prepare_content(is.raw(rpr), rpr)\n",
      " . }, error = error_handler), error = outer_handler)\n",
      "3. tryCatchList(expr, classes, parentenv, handlers)\n",
      "4. tryCatchOne(expr, names, parentenv, handlers[[1L]])\n",
      "5. doTryCatch(return(expr), name, parentenv, handler)\n",
      "6. withCallingHandlers({\n",
      " .     if (!mime %in% names(repr::mime2repr)) \n",
      " .         stop(\"No repr_* for mimetype \", mime, \" in repr::mime2repr\")\n",
      " .     rpr <- repr::mime2repr[[mime]](obj)\n",
      " .     if (is.null(rpr)) \n",
      " .         return(NULL)\n",
      " .     prepare_content(is.raw(rpr), rpr)\n",
      " . }, error = error_handler)\n",
      "7. repr::mime2repr[[mime]](obj)\n",
      "8. repr_latex.list(obj)\n",
      "9. repr_list_generic(obj, \"latex\", \"\\\\item %s\\n\", \"\\\\item[\\\\$%s] %s\\n\", \n",
      " .     \"\\\\textbf{\\\\$%s} = %s\", enum_wrap = \"\\\\begin{enumerate}\\n%s\\\\end{enumerate}\\n\", \n",
      " .     named_wrap = \"\\\\begin{description}\\n%s\\\\end{description}\\n\", \n",
      " .     numeric_item = \"\\\\item[{[[%s]]}] %s\\n\", escape_fun = latex_escape)\n",
      "10. lapply(vec, format2repr[[fmt]])\n",
      "11. FUN(X[[i]], ...)\n",
      "12. repr_latex.ts(X[[i]], ...)\n",
      "13. repr_ts_generic(obj, repr_latex.matrix, ..., colspec = colspec)\n",
      "14. repr_func(m, ..., rows = nrow(m), cols = ncol(m))\n",
      "15. paste0(paste(rep(colspec$col, ncol(obj)), collapse = \"\"), colspec$end)\n",
      "16. paste(rep(colspec$col, ncol(obj)), collapse = \"\")\n"
     ]
    },
    {
     "data": {
      "text/plain": [
       "$pred\n",
       "Time Series:\n",
       "Start = 601 \n",
       "End = 616 \n",
       "Frequency = 1 \n",
       " [1] -0.338043160 -0.086614368 -0.079854941 -0.009900820  0.007978625\n",
       " [6]  0.031110226  0.041278611  0.049903446  0.054647548  0.058081858\n",
       "[11]  0.060160034  0.061570904  0.062459808  0.063047478  0.063424067\n",
       "[16]  0.063670302\n",
       "\n",
       "$se\n",
       "Time Series:\n",
       "Start = 601 \n",
       "End = 616 \n",
       "Frequency = 1 \n",
       " [1] 0.9879191 1.0135580 1.0630899 1.0716488 1.0781531 1.0800445 1.0810589\n",
       " [8] 1.0814245 1.0815947 1.0816618 1.0816912 1.0817033 1.0817084 1.0817106\n",
       "[15] 1.0817115 1.0817119\n"
      ]
     },
     "metadata": {},
     "output_type": "display_data"
    }
   ],
   "source": [
    "predict(arma_y1, n.ahead = 16)"
   ]
  },
  {
   "cell_type": "code",
   "execution_count": null,
   "metadata": {},
   "outputs": [],
   "source": [
    "forecast.inven$rcpi$dynamic = as.numeric(predict(arma_y1,\n",
    "                                                  n.ahead = 16)$pred)\n",
    "forecast.inven$rcpi$static = rep(0, 16)\n",
    "for (c in 1:16) {\n",
    "  inven.fit = arima(arima.inven[1:(71 + c), rcpi], order = c(3, 0, 2))\n",
    "  forecast.inven$rcpi$static[c] = predict(inven.fit, n.ahead = 1)$pred\n",
    "}"
   ]
  },
  {
   "cell_type": "code",
   "execution_count": null,
   "metadata": {},
   "outputs": [],
   "source": []
  },
  {
   "cell_type": "markdown",
   "metadata": {},
   "source": [
    "### **(b)** 2-steps ahead and evaluate using RMSE and MAE"
   ]
  },
  {
   "cell_type": "code",
   "execution_count": null,
   "metadata": {},
   "outputs": [],
   "source": [
    "forecast.inven$rcpi$multi = rep(0, 16)\n",
    "for (c in 1:16) {\n",
    "  inven.fit = arima(arima.inven[1:(70 + c), rcpi], order = c(3, 0, 2))\n",
    "  forecast.inven$rcpi$multi[c] = predict(inven.fit, n.ahead = 2)$pred[2]\n",
    "}"
   ]
  },
  {
   "cell_type": "code",
   "execution_count": null,
   "metadata": {},
   "outputs": [],
   "source": []
  }
 ],
 "metadata": {
  "kernelspec": {
   "display_name": "R",
   "language": "R",
   "name": "ir"
  },
  "language_info": {
   "codemirror_mode": "r",
   "file_extension": ".r",
   "mimetype": "text/x-r-source",
   "name": "R",
   "pygments_lexer": "r",
   "version": "3.6.1"
  }
 },
 "nbformat": 4,
 "nbformat_minor": 4
}
