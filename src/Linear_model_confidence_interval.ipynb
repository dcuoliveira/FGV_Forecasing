{
 "cells": [
  {
   "cell_type": "markdown",
   "metadata": {},
   "source": [
    "# Exercise 1\n",
    "\n",
    "**(1)** Forecasting with linear models:\n",
    "> **(a)** Estimate four linear models unsing the OLS estimator\n",
    "\n",
    "> **(b)** Forecast n steps ahead using the estimated models\n",
    "\n",
    "> **(c)** Forecast n steps ahead (recursively) using the estimated models\n",
    "\n",
    "> **(d)** Compute confidence intervals for both **(b)** and **(c)** forecasts"
   ]
  },
  {
   "cell_type": "code",
   "execution_count": 11,
   "metadata": {},
   "outputs": [],
   "source": [
    "library(data.table)\n",
    "library(readr)\n",
    "library(here)"
   ]
  },
  {
   "cell_type": "markdown",
   "metadata": {},
   "source": [
    "**(a)** Estimate four linear models unsing the OLS estimator"
   ]
  },
  {
   "cell_type": "code",
   "execution_count": 4,
   "metadata": {},
   "outputs": [
    {
     "name": "stderr",
     "output_type": "stream",
     "text": [
      "Warning message:\n",
      "\"package 'here' was built under R version 3.6.3\"here() starts at C:/Users/Daniel/Desktop/Daniel/codes/python/FGV_Forecasing\n",
      "Parsed with column specification:\n",
      "cols(\n",
      "  date = col_character(),\n",
      "  ea_esi = col_double(),\n",
      "  ea_gdp = col_double(),\n",
      "  ea_ip = col_double(),\n",
      "  ea_prodpr = col_double(),\n",
      "  eurostoxx = col_double(),\n",
      "  ipr = col_double(),\n",
      "  pr = col_double(),\n",
      "  sr = col_double(),\n",
      "  su = col_double(),\n",
      "  y = col_double()\n",
      ")\n"
     ]
    },
    {
     "data": {
      "text/html": [
       "<table>\n",
       "<thead><tr><th scope=col>date</th><th scope=col>ea_esi</th><th scope=col>ea_gdp</th><th scope=col>ea_ip</th><th scope=col>ea_prodpr</th><th scope=col>eurostoxx</th><th scope=col>ipr</th><th scope=col>pr</th><th scope=col>sr</th><th scope=col>su</th><th scope=col>y</th></tr></thead>\n",
       "<tbody>\n",
       "\t<tr><td>1/1/1996   </td><td> 94.56667  </td><td>1493012    </td><td>86.55      </td><td>77.13      </td><td>49.3       </td><td>-0.4265874 </td><td>0.40000000 </td><td> 8.241198  </td><td>-4.007445  </td><td>-0.01904023</td></tr>\n",
       "\t<tr><td>4/1/1996   </td><td> 93.20000  </td><td>1504560    </td><td>86.36      </td><td>77.15      </td><td>51.8       </td><td>-0.2197676 </td><td>0.13333333 </td><td> 4.946607  </td><td>-1.455733  </td><td> 0.77048056</td></tr>\n",
       "\t<tr><td>7/1/1996   </td><td> 94.33333  </td><td>1512778    </td><td>86.65      </td><td>77.09      </td><td>50.9       </td><td> 0.3352411 </td><td>0.06666667 </td><td>-1.752723  </td><td> 1.208689  </td><td> 0.54469339</td></tr>\n",
       "\t<tr><td>10/1/1996  </td><td> 97.70000  </td><td>1517439    </td><td>86.98      </td><td>77.40      </td><td>54.6       </td><td> 0.3801191 </td><td>0.13333333 </td><td> 7.017096  </td><td> 3.506695  </td><td> 0.30761525</td></tr>\n",
       "\t<tr><td>1/1/1997   </td><td>100.36667  </td><td>1522744    </td><td>87.99      </td><td>77.62      </td><td>62.7       </td><td> 1.1544964 </td><td>0.23333333 </td><td>13.832756  </td><td> 2.692859  </td><td> 0.34899919</td></tr>\n",
       "\t<tr><td>4/1/1997   </td><td>103.36667  </td><td>1541912    </td><td>89.67      </td><td>77.86      </td><td>67.9       </td><td> 1.8913093 </td><td>0.06666667 </td><td> 7.967459  </td><td> 2.945239  </td><td> 1.25097564</td></tr>\n",
       "</tbody>\n",
       "</table>\n"
      ],
      "text/latex": [
       "\\begin{tabular}{r|lllllllllll}\n",
       " date & ea\\_esi & ea\\_gdp & ea\\_ip & ea\\_prodpr & eurostoxx & ipr & pr & sr & su & y\\\\\n",
       "\\hline\n",
       "\t 1/1/1996    &  94.56667   & 1493012     & 86.55       & 77.13       & 49.3        & -0.4265874  & 0.40000000  &  8.241198   & -4.007445   & -0.01904023\\\\\n",
       "\t 4/1/1996    &  93.20000   & 1504560     & 86.36       & 77.15       & 51.8        & -0.2197676  & 0.13333333  &  4.946607   & -1.455733   &  0.77048056\\\\\n",
       "\t 7/1/1996    &  94.33333   & 1512778     & 86.65       & 77.09       & 50.9        &  0.3352411  & 0.06666667  & -1.752723   &  1.208689   &  0.54469339\\\\\n",
       "\t 10/1/1996   &  97.70000   & 1517439     & 86.98       & 77.40       & 54.6        &  0.3801191  & 0.13333333  &  7.017096   &  3.506695   &  0.30761525\\\\\n",
       "\t 1/1/1997    & 100.36667   & 1522744     & 87.99       & 77.62       & 62.7        &  1.1544964  & 0.23333333  & 13.832756   &  2.692859   &  0.34899919\\\\\n",
       "\t 4/1/1997    & 103.36667   & 1541912     & 89.67       & 77.86       & 67.9        &  1.8913093  & 0.06666667  &  7.967459   &  2.945239   &  1.25097564\\\\\n",
       "\\end{tabular}\n"
      ],
      "text/markdown": [
       "\n",
       "| date | ea_esi | ea_gdp | ea_ip | ea_prodpr | eurostoxx | ipr | pr | sr | su | y |\n",
       "|---|---|---|---|---|---|---|---|---|---|---|\n",
       "| 1/1/1996    |  94.56667   | 1493012     | 86.55       | 77.13       | 49.3        | -0.4265874  | 0.40000000  |  8.241198   | -4.007445   | -0.01904023 |\n",
       "| 4/1/1996    |  93.20000   | 1504560     | 86.36       | 77.15       | 51.8        | -0.2197676  | 0.13333333  |  4.946607   | -1.455733   |  0.77048056 |\n",
       "| 7/1/1996    |  94.33333   | 1512778     | 86.65       | 77.09       | 50.9        |  0.3352411  | 0.06666667  | -1.752723   |  1.208689   |  0.54469339 |\n",
       "| 10/1/1996   |  97.70000   | 1517439     | 86.98       | 77.40       | 54.6        |  0.3801191  | 0.13333333  |  7.017096   |  3.506695   |  0.30761525 |\n",
       "| 1/1/1997    | 100.36667   | 1522744     | 87.99       | 77.62       | 62.7        |  1.1544964  | 0.23333333  | 13.832756   |  2.692859   |  0.34899919 |\n",
       "| 4/1/1997    | 103.36667   | 1541912     | 89.67       | 77.86       | 67.9        |  1.8913093  | 0.06666667  |  7.967459   |  2.945239   |  1.25097564 |\n",
       "\n"
      ],
      "text/plain": [
       "  date      ea_esi    ea_gdp  ea_ip ea_prodpr eurostoxx ipr        pr        \n",
       "1 1/1/1996   94.56667 1493012 86.55 77.13     49.3      -0.4265874 0.40000000\n",
       "2 4/1/1996   93.20000 1504560 86.36 77.15     51.8      -0.2197676 0.13333333\n",
       "3 7/1/1996   94.33333 1512778 86.65 77.09     50.9       0.3352411 0.06666667\n",
       "4 10/1/1996  97.70000 1517439 86.98 77.40     54.6       0.3801191 0.13333333\n",
       "5 1/1/1997  100.36667 1522744 87.99 77.62     62.7       1.1544964 0.23333333\n",
       "6 4/1/1997  103.36667 1541912 89.67 77.86     67.9       1.8913093 0.06666667\n",
       "  sr        su        y          \n",
       "1  8.241198 -4.007445 -0.01904023\n",
       "2  4.946607 -1.455733  0.77048056\n",
       "3 -1.752723  1.208689  0.54469339\n",
       "4  7.017096  3.506695  0.30761525\n",
       "5 13.832756  2.692859  0.34899919\n",
       "6  7.967459  2.945239  1.25097564"
      ]
     },
     "metadata": {},
     "output_type": "display_data"
    }
   ],
   "source": [
    "df = readr::read_csv(here(\"data\", \"ex2_regress_gdp.csv\"))\n",
    "head(df)"
   ]
  },
  {
   "cell_type": "code",
   "execution_count": 18,
   "metadata": {},
   "outputs": [
    {
     "name": "stderr",
     "output_type": "stream",
     "text": [
      "Warning message in plot.xy(xy, type, ...):\n",
      "\"plot type 'line' will be truncated to first character\"Warning message in plot.xy(xy, type, ...):\n",
      "\"plot type 'line' will be truncated to first character\"Warning message in plot.xy(xy, type, ...):\n",
      "\"plot type 'line' will be truncated to first character\"Warning message in plot.xy(xy, type, ...):\n",
      "\"plot type 'line' will be truncated to first character\""
     ]
    },
    {
     "data": {
      "image/png": "[encoded data removed]",
      "text/plain": [
       "Plot with title \"Eurostoxx\""
      ]
     },
     "metadata": {},
     "output_type": "display_data"
    }
   ],
   "source": [
    "par(mfrow=c(2, 2))\n",
    "plot(df$y, type = 'line', main = 'GDP')\n",
    "plot(df$pr, type = 'line', main = 'Industrial production')\n",
    "plot(df$sr, type = 'line', main = 'Consumer sentiment index')\n",
    "plot(df$su, type = 'line', main = 'Eurostoxx')"
   ]
  },
  {
   "cell_type": "code",
   "execution_count": 6,
   "metadata": {},
   "outputs": [],
   "source": [
    "gdp.fit <- list()\n",
    "gdp.formula <- c('y ~ ipr + su + pr + sr', 'y ~ ipr + su + sr',\n",
    "                 'y ~ ipr + su', 'y ~ ipr + pr + sr')\n",
    "\n",
    "for (model in 1:4) {\n",
    "  gdp.fit[[model]] <- lm(gdp.formula[model], data = df)\n",
    "}"
   ]
  },
  {
   "cell_type": "code",
   "execution_count": 7,
   "metadata": {},
   "outputs": [
    {
     "data": {
      "text/plain": [
       "\n",
       "Call:\n",
       "lm(formula = gdp.formula[model], data = df)\n",
       "\n",
       "Residuals:\n",
       "    Min      1Q  Median      3Q     Max \n",
       "-0.6563 -0.1794 -0.0095  0.1790  0.7316 \n",
       "\n",
       "Coefficients:\n",
       "             Estimate Std. Error t value Pr(>|t|)    \n",
       "(Intercept)  0.331230   0.060349   5.489 7.17e-07 ***\n",
       "ipr          0.335927   0.028915  11.618  < 2e-16 ***\n",
       "su          -0.033780   0.015088  -2.239   0.0286 *  \n",
       "pr          -0.387506   0.304558  -1.272   0.2078    \n",
       "sr           0.011503   0.005275   2.181   0.0328 *  \n",
       "---\n",
       "Signif. codes:  0 '***' 0.001 '**' 0.01 '*' 0.05 '.' 0.1 ' ' 1\n",
       "\n",
       "Residual standard error: 0.2892 on 65 degrees of freedom\n",
       "Multiple R-squared:  0.8008,\tAdjusted R-squared:  0.7886 \n",
       "F-statistic: 65.34 on 4 and 65 DF,  p-value: < 2.2e-16\n"
      ]
     },
     "metadata": {},
     "output_type": "display_data"
    }
   ],
   "source": [
    "summary(gdp.fit[[1]])"
   ]
  },
  {
   "cell_type": "code",
   "execution_count": 36,
   "metadata": {},
   "outputs": [],
   "source": [
    "est_df = df[1:44,] # estimation window\n",
    "fore_df = df[45:70,] # forecast window\n",
    "\n",
    "gdp.est <- list()\n",
    "for (model in 1:4) {\n",
    "  gdp.est[[model]] <- lm(gdp.formula[model], data = est_df)\n",
    "  summary(gdp.est[[model]])\n",
    "}"
   ]
  },
  {
   "cell_type": "markdown",
   "metadata": {},
   "source": [
    "items **(b)** e **(c)**"
   ]
  },
  {
   "cell_type": "code",
   "execution_count": 9,
   "metadata": {},
   "outputs": [],
   "source": [
    "gdp.fore = list()\n",
    "gdp.rec = list()\n",
    "\n",
    "for (model in 1:4) {\n",
    "  gdp.fore[[model]] = predict(gdp.est[[model]], newdata = fore_df)\n",
    "  \n",
    "  gdp.rec[[model]] = rep(0, 26)\n",
    "  for (i in 1:26) {\n",
    "    ols.rec = lm(gdp.formula[model], data = df[1:(43 + i),])\n",
    "    gdp.rec[[model]][i] = predict(ols.rec, newdata = df[44 + i,])\n",
    "  }\n",
    "}"
   ]
  },
  {
   "cell_type": "code",
   "execution_count": 55,
   "metadata": {},
   "outputs": [
    {
     "data": {
      "image/png": "[encoded data removed]",
      "text/plain": [
       "plot without title"
      ]
     },
     "metadata": {},
     "output_type": "display_data"
    }
   ],
   "source": [
    "plot.label <- 2007:2013\n",
    "par(mfrow=c(2, 2))\n",
    "for (model in 1:4) {\n",
    "  gdp.plot = cbind(data.table(fore_df[, 11]),\n",
    "                    data.table(gdp.rec[[model]]),\n",
    "                    data.table(gdp.fore[[model]]))\n",
    "  setnames(gdp.plot, c('Y', paste0('YRFOREG', model),\n",
    "                       paste0('YFOREG', model)))\n",
    "  \n",
    "  plot(gdp.plot[[1]], type = 'n', xlab = '', ylab = '',\n",
    "       xaxt = 'n', ylim = c(-3, 2))\n",
    "  axis(1, at = c(0:6) * 4 + 2, labels = plot.label)\n",
    "  for (l in 1:3) {\n",
    "    lines(gdp.plot[[l]], lty = l)\n",
    "  }\n",
    "  legend('bottomright', legend = colnames(gdp.plot), inset = 0.05, lty = 1:3)\n",
    "}"
   ]
  },
  {
   "cell_type": "markdown",
   "metadata": {},
   "source": [
    "**(c)** confidence interval"
   ]
  },
  {
   "cell_type": "code",
   "execution_count": 56,
   "metadata": {},
   "outputs": [],
   "source": [
    "gdp.fore.ic.se = list()\n",
    "gdp.fore.ic.up = list()\n",
    "gdp.fore.ic.low = list()\n",
    "for (i in 1:length(gdp.est)){\n",
    "    gdp.fore.ic.se[[i]] = sqrt(sum(gdp.est[[1]]$residuals^2) / dim(fore_df)[1])\n",
    "    gdp.fore.ic.up[[i]] = gdp.fore[[i]] + 1.96 * gdp.fore.ic$se\n",
    "    gdp.fore.ic.low[[i]] = gdp.fore[[i]] - 1.96 * gdp.fore.ic$se\n",
    "}"
   ]
  },
  {
   "cell_type": "code",
   "execution_count": 58,
   "metadata": {},
   "outputs": [
    {
     "data": {
      "image/png": "[encoded data removed]",
      "text/plain": [
       "plot without title"
      ]
     },
     "metadata": {},
     "output_type": "display_data"
    }
   ],
   "source": [
    "par(mfrow=c(2,2))\n",
    "\n",
    "for (i in 1:length(gdp.est)){\n",
    "    dat = cbind(gdp.fore.ic.up[[i]], gdp.fore.ic.low[[i]], gdp.fore[[i]], fore_df$y)\n",
    "    colnames(dat) = names = c('up', 'lower', 'predict', 'real')    \n",
    "    \n",
    "    matplot(dat, type = c(\"b\"),pch=1,col = 1:4)\n",
    "    legend(\"topleft\", legend=names, col=1:4, pch=1)\n",
    "}\n"
   ]
  }
 ],
 "metadata": {
  "kernelspec": {
   "display_name": "R",
   "language": "R",
   "name": "ir"
  },
  "language_info": {
   "codemirror_mode": "r",
   "file_extension": ".r",
   "mimetype": "text/x-r-source",
   "name": "R",
   "pygments_lexer": "r",
   "version": "3.6.1"
  }
 },
 "nbformat": 4,
 "nbformat_minor": 4
}
