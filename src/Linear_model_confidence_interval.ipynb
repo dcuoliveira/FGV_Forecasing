{
 "cells": [
  {
   "cell_type": "markdown",
   "metadata": {},
   "source": [
    "# Exercise 1\n",
    "\n",
    "**(1)** Forecasting with linear models:\n",
    "> **(a)** Estimate four linear models unsing the OLS estimator\n",
    "\n",
    "> **(b)** Forecast n steps ahead using the estimated models\n",
    "\n",
    "> **(c)** Forecast n steps ahead (recursively) using the estimated models\n",
    "\n",
    "> **(d)** Compute confidence intervals for both **(b)** and **(c)** forecasts"
   ]
  },
  {
   "cell_type": "code",
   "execution_count": 3,
   "metadata": {},
   "outputs": [],
   "source": [
    "library(data.table)\n",
    "library(readr)\n",
    "library(here)"
   ]
  },
  {
   "cell_type": "markdown",
   "metadata": {},
   "source": [
    "## (a) Estimate four linear models unsing the OLS estimator"
   ]
  },
  {
   "cell_type": "markdown",
   "metadata": {},
   "source": [
    "The linear regression model (LRM) can be written as follows:\n",
    "\n",
    "$\n",
    "\\mathbf{y} = X\\mathbf{\\beta} + \\mathbf{\\epsilon}\n",
    "$\n",
    "\n",
    "where $\\mathbf{y}$ is a Tx1 vector of dependent variables, $X$ is a Txk matrix of independen variables, $\\mathbf{\\beta}$ is a kx1 vector of parameters, and $\\mathbf{\\epsilon}$ is a Tx1 vector of independent error terms.\n",
    "\n",
    "The LRM assumptions are:\n",
    "\n",
    "> A1. $\\mathbf{E}[\\mathbf{\\epsilon}]=0$\n",
    "\n",
    "> A2. $\\mathbf{E}[\\mathbf{\\epsilon}^{'}\\mathbf{\\epsilon}]=\\sigma^2\\mathbf{I}$\n",
    "\n",
    "> A3. $X \\perp \\!\\!\\! \\perp \\mathbf{\\epsilon}$\n",
    "\n",
    "> A4. $X^{'}X$ is non singular\n",
    "\n",
    "> A5. $X$ is weekly stationary\n",
    "\n",
    "Furthermore, the parameters $\\mathbf{\\beta}$ can be estimated using the ordinary least squares (OLS) method. This method seeks to find the vector $\\mathbf{\\beta}$ that solves the following optimization problem:\n",
    "\n",
    "$\n",
    "argmax_{\\mathbf{\\beta}} SSE(X, \\mathbf{y}; \\mathbf{\\beta}) \\quad SSE = \\mathbf{\\epsilon}^{'}\\mathbf{\\epsilon} = (\\mathbf{y} - X\\mathbf{\\beta})^{'}(\\mathbf{y} - X\\mathbf{\\beta})\n",
    "$\n",
    "\n",
    "which has the following solution:\n",
    "\n",
    "$\n",
    "\\hat{\\mathbf{\\beta}} = (X^{'}X)^{-1}X^{'}\\mathbf{y}\n",
    "$\n",
    "\n",
    "For the variance, the OLS estimator ir given by:\n",
    "\n",
    "$\n",
    "\\hat{\\mathbf{\\sigma}}^2 = \\frac{\\hat{\\mathbf{\\epsilon}}^{'}\\hat{\\mathbf{\\epsilon}}}{T-k} \\quad where \\quad \\hat{\\mathbf{\\epsilon}} = \\mathbf{y} - X\\hat{\\mathbf{\\beta}}\n",
    "$\n",
    "\n",
    "It is possible to show that, under the assumtions A1-A5, the OLS estimator is the best linear unbiased estimator and has the lowest variance in this class.\n"
   ]
  },
  {
   "cell_type": "code",
   "execution_count": 5,
   "metadata": {},
   "outputs": [
    {
     "name": "stderr",
     "output_type": "stream",
     "text": [
      "Parsed with column specification:\n",
      "cols(\n",
      "  date = col_character(),\n",
      "  ea_esi = col_double(),\n",
      "  ea_gdp = col_double(),\n",
      "  ea_ip = col_double(),\n",
      "  ea_prodpr = col_double(),\n",
      "  eurostoxx = col_double(),\n",
      "  ipr = col_double(),\n",
      "  pr = col_double(),\n",
      "  sr = col_double(),\n",
      "  su = col_double(),\n",
      "  y = col_double()\n",
      ")\n"
     ]
    },
    {
     "data": {
      "text/html": [
       "<table>\n",
       "<thead><tr><th scope=col>date</th><th scope=col>ea_esi</th><th scope=col>ea_gdp</th><th scope=col>ea_ip</th><th scope=col>ea_prodpr</th><th scope=col>eurostoxx</th><th scope=col>ipr</th><th scope=col>pr</th><th scope=col>sr</th><th scope=col>su</th><th scope=col>y</th></tr></thead>\n",
       "<tbody>\n",
       "\t<tr><td>1/1/1996   </td><td> 94.56667  </td><td>1493012    </td><td>86.55      </td><td>77.13      </td><td>49.3       </td><td>-0.4265874 </td><td>0.40000000 </td><td> 8.241198  </td><td>-4.007445  </td><td>-0.01904023</td></tr>\n",
       "\t<tr><td>4/1/1996   </td><td> 93.20000  </td><td>1504560    </td><td>86.36      </td><td>77.15      </td><td>51.8       </td><td>-0.2197676 </td><td>0.13333333 </td><td> 4.946607  </td><td>-1.455733  </td><td> 0.77048056</td></tr>\n",
       "\t<tr><td>7/1/1996   </td><td> 94.33333  </td><td>1512778    </td><td>86.65      </td><td>77.09      </td><td>50.9       </td><td> 0.3352411 </td><td>0.06666667 </td><td>-1.752723  </td><td> 1.208689  </td><td> 0.54469339</td></tr>\n",
       "\t<tr><td>10/1/1996  </td><td> 97.70000  </td><td>1517439    </td><td>86.98      </td><td>77.40      </td><td>54.6       </td><td> 0.3801191 </td><td>0.13333333 </td><td> 7.017096  </td><td> 3.506695  </td><td> 0.30761525</td></tr>\n",
       "\t<tr><td>1/1/1997   </td><td>100.36667  </td><td>1522744    </td><td>87.99      </td><td>77.62      </td><td>62.7       </td><td> 1.1544964 </td><td>0.23333333 </td><td>13.832756  </td><td> 2.692859  </td><td> 0.34899919</td></tr>\n",
       "\t<tr><td>4/1/1997   </td><td>103.36667  </td><td>1541912    </td><td>89.67      </td><td>77.86      </td><td>67.9       </td><td> 1.8913093 </td><td>0.06666667 </td><td> 7.967459  </td><td> 2.945239  </td><td> 1.25097564</td></tr>\n",
       "</tbody>\n",
       "</table>\n"
      ],
      "text/latex": [
       "\\begin{tabular}{r|lllllllllll}\n",
       " date & ea\\_esi & ea\\_gdp & ea\\_ip & ea\\_prodpr & eurostoxx & ipr & pr & sr & su & y\\\\\n",
       "\\hline\n",
       "\t 1/1/1996    &  94.56667   & 1493012     & 86.55       & 77.13       & 49.3        & -0.4265874  & 0.40000000  &  8.241198   & -4.007445   & -0.01904023\\\\\n",
       "\t 4/1/1996    &  93.20000   & 1504560     & 86.36       & 77.15       & 51.8        & -0.2197676  & 0.13333333  &  4.946607   & -1.455733   &  0.77048056\\\\\n",
       "\t 7/1/1996    &  94.33333   & 1512778     & 86.65       & 77.09       & 50.9        &  0.3352411  & 0.06666667  & -1.752723   &  1.208689   &  0.54469339\\\\\n",
       "\t 10/1/1996   &  97.70000   & 1517439     & 86.98       & 77.40       & 54.6        &  0.3801191  & 0.13333333  &  7.017096   &  3.506695   &  0.30761525\\\\\n",
       "\t 1/1/1997    & 100.36667   & 1522744     & 87.99       & 77.62       & 62.7        &  1.1544964  & 0.23333333  & 13.832756   &  2.692859   &  0.34899919\\\\\n",
       "\t 4/1/1997    & 103.36667   & 1541912     & 89.67       & 77.86       & 67.9        &  1.8913093  & 0.06666667  &  7.967459   &  2.945239   &  1.25097564\\\\\n",
       "\\end{tabular}\n"
      ],
      "text/markdown": [
       "\n",
       "| date | ea_esi | ea_gdp | ea_ip | ea_prodpr | eurostoxx | ipr | pr | sr | su | y |\n",
       "|---|---|---|---|---|---|---|---|---|---|---|\n",
       "| 1/1/1996    |  94.56667   | 1493012     | 86.55       | 77.13       | 49.3        | -0.4265874  | 0.40000000  |  8.241198   | -4.007445   | -0.01904023 |\n",
       "| 4/1/1996    |  93.20000   | 1504560     | 86.36       | 77.15       | 51.8        | -0.2197676  | 0.13333333  |  4.946607   | -1.455733   |  0.77048056 |\n",
       "| 7/1/1996    |  94.33333   | 1512778     | 86.65       | 77.09       | 50.9        |  0.3352411  | 0.06666667  | -1.752723   |  1.208689   |  0.54469339 |\n",
       "| 10/1/1996   |  97.70000   | 1517439     | 86.98       | 77.40       | 54.6        |  0.3801191  | 0.13333333  |  7.017096   |  3.506695   |  0.30761525 |\n",
       "| 1/1/1997    | 100.36667   | 1522744     | 87.99       | 77.62       | 62.7        |  1.1544964  | 0.23333333  | 13.832756   |  2.692859   |  0.34899919 |\n",
       "| 4/1/1997    | 103.36667   | 1541912     | 89.67       | 77.86       | 67.9        |  1.8913093  | 0.06666667  |  7.967459   |  2.945239   |  1.25097564 |\n",
       "\n"
      ],
      "text/plain": [
       "  date      ea_esi    ea_gdp  ea_ip ea_prodpr eurostoxx ipr        pr        \n",
       "1 1/1/1996   94.56667 1493012 86.55 77.13     49.3      -0.4265874 0.40000000\n",
       "2 4/1/1996   93.20000 1504560 86.36 77.15     51.8      -0.2197676 0.13333333\n",
       "3 7/1/1996   94.33333 1512778 86.65 77.09     50.9       0.3352411 0.06666667\n",
       "4 10/1/1996  97.70000 1517439 86.98 77.40     54.6       0.3801191 0.13333333\n",
       "5 1/1/1997  100.36667 1522744 87.99 77.62     62.7       1.1544964 0.23333333\n",
       "6 4/1/1997  103.36667 1541912 89.67 77.86     67.9       1.8913093 0.06666667\n",
       "  sr        su        y          \n",
       "1  8.241198 -4.007445 -0.01904023\n",
       "2  4.946607 -1.455733  0.77048056\n",
       "3 -1.752723  1.208689  0.54469339\n",
       "4  7.017096  3.506695  0.30761525\n",
       "5 13.832756  2.692859  0.34899919\n",
       "6  7.967459  2.945239  1.25097564"
      ]
     },
     "metadata": {},
     "output_type": "display_data"
    }
   ],
   "source": [
    "df = readr::read_csv(here(\"src\", \"data\", \"ex2_regress_gdp.csv\"))\n",
    "head(df)"
   ]
  },
  {
   "cell_type": "code",
   "execution_count": 66,
   "metadata": {},
   "outputs": [
    {
     "name": "stderr",
     "output_type": "stream",
     "text": [
      "Warning message in plot.xy(xy, type, ...):\n",
      "\"plot type 'line' will be truncated to first character\"Warning message in plot.xy(xy, type, ...):\n",
      "\"plot type 'line' will be truncated to first character\"Warning message in plot.xy(xy, type, ...):\n",
      "\"plot type 'line' will be truncated to first character\"Warning message in plot.xy(xy, type, ...):\n",
      "\"plot type 'line' will be truncated to first character\"Warning message in plot.xy(xy, type, ...):\n",
      "\"plot type 'line' will be truncated to first character\""
     ]
    },
    {
     "data": {
      "image/png": "[encoded data removed]",
      "text/plain": [
       "Plot with title \"inflation rate\""
      ]
     },
     "metadata": {},
     "output_type": "display_data"
    }
   ],
   "source": [
    "par(mfrow=c(3, 2))\n",
    "plot(df$y, type = 'line', main = 'GDP')\n",
    "plot(df$pr, type = 'line', main = 'Industrial production')\n",
    "plot(df$sr, type = 'line', main = 'Consumer sentiment index')\n",
    "plot(df$su, type = 'line', main = 'Eurostoxx')\n",
    "plot(df$ipr, type = 'line', main = 'inflation rate')"
   ]
  },
  {
   "cell_type": "markdown",
   "metadata": {},
   "source": [
    "By doing a quick check on the time series under analysis it seems that some of the LRM hypothesis may be violated. For instance, all the series seems to have a variance that is not constant over time, violating the A2 assumption. Furthermore, the GDP series, in particular, has an outlier in its history, which may undermine the standard error estimates of the OLS.\n",
    "\n",
    "Despite these facts, we estimate four specifications of the LRM as follows:\n",
    "\n",
    "$\n",
    "gdp_t = \\beta_1 ipr_t + \\beta_2 su_t + \\beta_3 pr_t + \\beta_4 sr_t + \\epsilon_t\n",
    "$\n",
    "\n",
    "$\n",
    "gdp_t = \\beta_1 ipr_t + \\beta_2 su_t + \\beta_3 sr_t + \\epsilon_t\n",
    "$\n",
    "\n",
    "$\n",
    "gdp_t = \\beta_1 ipr_t + \\beta_2 su_t + \\epsilon_t\n",
    "$\n",
    "\n",
    "$\n",
    "gdp_t = \\beta_1 ipr_t +  \\beta_2 pr_t + \\beta_3 sr_t + \\epsilon_t\n",
    "$\n",
    "\n",
    "where:\n",
    "\n",
    "> $ipr_t$ is the industrial production for the euro area at time $t$\n",
    "\n",
    "> $su_t$ is the Eurostoxx returns at $t$\n",
    "\n",
    "> $pr_t$ is the euro area inflation rate at $t$\n",
    "\n",
    "> $sr_t$ is the euro area consumer sentiment index at $t$\n",
    "\n",
    "All series are in monthly frequency.\n",
    "\n"
   ]
  },
  {
   "cell_type": "code",
   "execution_count": 8,
   "metadata": {},
   "outputs": [],
   "source": [
    "gdp.fit <- list()\n",
    "gdp.formula <- c('y ~ ipr + su + pr + sr', 'y ~ ipr + su + sr',\n",
    "                 'y ~ ipr + su', 'y ~ ipr + pr + sr')\n",
    "\n",
    "for (model in 1:4) {\n",
    "  gdp.fit[[model]] <- lm(gdp.formula[model], data = df)\n",
    "}"
   ]
  },
  {
   "cell_type": "code",
   "execution_count": 9,
   "metadata": {},
   "outputs": [],
   "source": [
    "est_df = df[1:44,] # estimation window\n",
    "fore_df = df[45:70,] # forecast window\n",
    "\n",
    "gdp.est <- list()\n",
    "for (model in 1:4) {\n",
    "  gdp.est[[model]] <- lm(gdp.formula[model], data = est_df)\n",
    "  summary(gdp.est[[model]])\n",
    "}"
   ]
  },
  {
   "cell_type": "markdown",
   "metadata": {},
   "source": [
    "The model estimation summaries are:"
   ]
  },
  {
   "cell_type": "code",
   "execution_count": 11,
   "metadata": {},
   "outputs": [
    {
     "data": {
      "text/plain": [
       "\n",
       "Call:\n",
       "lm(formula = gdp.formula[model], data = df)\n",
       "\n",
       "Residuals:\n",
       "    Min      1Q  Median      3Q     Max \n",
       "-0.6563 -0.1794 -0.0095  0.1790  0.7316 \n",
       "\n",
       "Coefficients:\n",
       "             Estimate Std. Error t value Pr(>|t|)    \n",
       "(Intercept)  0.331230   0.060349   5.489 7.17e-07 ***\n",
       "ipr          0.335927   0.028915  11.618  < 2e-16 ***\n",
       "su          -0.033780   0.015088  -2.239   0.0286 *  \n",
       "pr          -0.387506   0.304558  -1.272   0.2078    \n",
       "sr           0.011503   0.005275   2.181   0.0328 *  \n",
       "---\n",
       "Signif. codes:  0 '***' 0.001 '**' 0.01 '*' 0.05 '.' 0.1 ' ' 1\n",
       "\n",
       "Residual standard error: 0.2892 on 65 degrees of freedom\n",
       "Multiple R-squared:  0.8008,\tAdjusted R-squared:  0.7886 \n",
       "F-statistic: 65.34 on 4 and 65 DF,  p-value: < 2.2e-16\n"
      ]
     },
     "metadata": {},
     "output_type": "display_data"
    }
   ],
   "source": [
    "summary(gdp.fit[[1]])"
   ]
  },
  {
   "cell_type": "code",
   "execution_count": 12,
   "metadata": {},
   "outputs": [
    {
     "data": {
      "text/plain": [
       "\n",
       "Call:\n",
       "lm(formula = gdp.formula[model], data = df)\n",
       "\n",
       "Residuals:\n",
       "     Min       1Q   Median       3Q      Max \n",
       "-0.63397 -0.18518 -0.01858  0.19418  0.72229 \n",
       "\n",
       "Coefficients:\n",
       "             Estimate Std. Error t value Pr(>|t|)    \n",
       "(Intercept)  0.269464   0.036021   7.481 2.25e-10 ***\n",
       "ipr          0.325516   0.027863  11.683  < 2e-16 ***\n",
       "su          -0.029129   0.014707  -1.981   0.0518 .  \n",
       "sr           0.009627   0.005089   1.892   0.0629 .  \n",
       "---\n",
       "Signif. codes:  0 '***' 0.001 '**' 0.01 '*' 0.05 '.' 0.1 ' ' 1\n",
       "\n",
       "Residual standard error: 0.2905 on 66 degrees of freedom\n",
       "Multiple R-squared:  0.7959,\tAdjusted R-squared:  0.7866 \n",
       "F-statistic: 85.77 on 3 and 66 DF,  p-value: < 2.2e-16\n"
      ]
     },
     "metadata": {},
     "output_type": "display_data"
    }
   ],
   "source": [
    "summary(gdp.fit[[2]])"
   ]
  },
  {
   "cell_type": "code",
   "execution_count": 13,
   "metadata": {},
   "outputs": [
    {
     "data": {
      "text/plain": [
       "\n",
       "Call:\n",
       "lm(formula = gdp.formula[model], data = df)\n",
       "\n",
       "Residuals:\n",
       "     Min       1Q   Median       3Q      Max \n",
       "-0.55542 -0.15354 -0.03042  0.16910  0.80547 \n",
       "\n",
       "Coefficients:\n",
       "            Estimate Std. Error t value Pr(>|t|)    \n",
       "(Intercept)  0.28179    0.03610   7.806 5.39e-11 ***\n",
       "ipr          0.32280    0.02836  11.384  < 2e-16 ***\n",
       "su          -0.01402    0.01259  -1.114    0.269    \n",
       "---\n",
       "Signif. codes:  0 '***' 0.001 '**' 0.01 '*' 0.05 '.' 0.1 ' ' 1\n",
       "\n",
       "Residual standard error: 0.2961 on 67 degrees of freedom\n",
       "Multiple R-squared:  0.7848,\tAdjusted R-squared:  0.7784 \n",
       "F-statistic: 122.2 on 2 and 67 DF,  p-value: < 2.2e-16\n"
      ]
     },
     "metadata": {},
     "output_type": "display_data"
    }
   ],
   "source": [
    "summary(gdp.fit[[3]])"
   ]
  },
  {
   "cell_type": "code",
   "execution_count": 14,
   "metadata": {},
   "outputs": [
    {
     "data": {
      "text/plain": [
       "\n",
       "Call:\n",
       "lm(formula = gdp.formula[model], data = df)\n",
       "\n",
       "Residuals:\n",
       "     Min       1Q   Median       3Q      Max \n",
       "-0.69477 -0.20166 -0.00011  0.19151  0.72996 \n",
       "\n",
       "Coefficients:\n",
       "             Estimate Std. Error t value Pr(>|t|)    \n",
       "(Intercept)  0.323153   0.062045   5.208 2.04e-06 ***\n",
       "ipr          0.292646   0.022146  13.214  < 2e-16 ***\n",
       "pr          -0.222312   0.304334  -0.730    0.468    \n",
       "sr           0.004730   0.004451   1.063    0.292    \n",
       "---\n",
       "Signif. codes:  0 '***' 0.001 '**' 0.01 '*' 0.05 '.' 0.1 ' ' 1\n",
       "\n",
       "Residual standard error: 0.2978 on 66 degrees of freedom\n",
       "Multiple R-squared:  0.7855,\tAdjusted R-squared:  0.7757 \n",
       "F-statistic: 80.55 on 3 and 66 DF,  p-value: < 2.2e-16\n"
      ]
     },
     "metadata": {},
     "output_type": "display_data"
    }
   ],
   "source": [
    "summary(gdp.fit[[4]])"
   ]
  },
  {
   "cell_type": "markdown",
   "metadata": {},
   "source": [
    "One common statistics for model evaluation is the coefficient of determination or $R^2$:\n",
    "\n",
    "$\n",
    "R^2 = 1-\\frac{\\mathbf{\\epsilon}^{'}\\mathbf{\\epsilon}}{\\mathbf{y}^{'}\\mathbf{y}}\n",
    "$\n",
    "\n",
    "The $R^2$ compares the variability in the dependent variable $\\mathbf{y}$ explained by the model with the variability of $\\mathbf{\\epsilon}$, which is the unexplanied amount of variability.\n",
    "\n",
    "Despite been naive to analyse the output of a regression in terms of the $R^2$ only, we see that the first model has the highest between the tested models ($R^2$=0.8008).\n",
    "\n",
    "One clear undesirable property of the $R^2$ is that its an increasing function of the number of parameters, therefore the adjusted $R^2$ is typically a better measure.\n",
    "\n",
    "$\n",
    "\\bar{R}^2 = 1-\\frac{\\mathbf{\\epsilon}^{'}\\mathbf{\\epsilon}}{T-k}\\frac{T-1}{\\mathbf{y}^{'}\\mathbf{y}}\n",
    "$\n",
    "\n",
    "We can note that despite the first model having the highest $R^2$=0.8008, its adjusted version has $\\bar{R}^2=0.7886$ which is pretty close to the second model $\\bar{R}^2=0.7866$. Therefore, it seems that the unadjusted r-quared of the first model has been inflated by the number of variables and we should the second model instead.\n"
   ]
  },
  {
   "cell_type": "markdown",
   "metadata": {},
   "source": [
    "## (b) Forecast n steps ahead using the estimated models\n",
    "## +\n",
    "## (c) Forecast n steps ahead (recursively) using the estimated models"
   ]
  },
  {
   "cell_type": "markdown",
   "metadata": {},
   "source": [
    "The OLS regression forecast is given by:\n",
    "\n",
    "$\n",
    "\\hat{\\mathbf{y}}_{T+h} = X_{T+h}\\hat{\\mathbf{\\beta}}\n",
    "$\n",
    "\n",
    "and the forecast error is simply:\n",
    "\n",
    "$\n",
    "e_{t+h} = \\mathbf{y}_{T+h} - \\hat{\\mathbf{y}}_{T+h}\n",
    "$"
   ]
  },
  {
   "cell_type": "code",
   "execution_count": 21,
   "metadata": {},
   "outputs": [],
   "source": [
    "gdp.fore = list()\n",
    "gdp.rec = list()\n",
    "\n",
    "for (model in 1:4) {\n",
    "  gdp.fore[[model]] = predict(gdp.est[[model]], newdata = fore_df)\n",
    "  \n",
    "  gdp.rec[[model]] = rep(0, 26)\n",
    "  for (i in 1:26) {\n",
    "    ols.rec = lm(gdp.formula[model], data = df[1:(43 + i),])\n",
    "    gdp.rec[[model]][i] = predict(ols.rec, newdata = df[44 + i,])\n",
    "  }\n",
    "}"
   ]
  },
  {
   "cell_type": "code",
   "execution_count": 55,
   "metadata": {},
   "outputs": [
    {
     "data": {
      "image/png": "[encoded data removed]",
      "text/plain": [
       "plot without title"
      ]
     },
     "metadata": {},
     "output_type": "display_data"
    }
   ],
   "source": [
    "plot.label <- 2007:2013\n",
    "par(mfrow=c(2, 2))\n",
    "for (model in 1:4) {\n",
    "  gdp.plot = cbind(data.table(fore_df$y),\n",
    "                    data.table(gdp.rec[[model]]),\n",
    "                    data.table(gdp.fore[[model]]))\n",
    "  setnames(gdp.plot, c('Y', paste0('YRFOREG', model),\n",
    "                       paste0('YFOREG', model)))\n",
    "  \n",
    "  plot(gdp.plot[[1]], type = 'n', xlab = '', ylab = '',\n",
    "       xaxt = 'n', ylim = c(-3, 2))\n",
    "  axis(1, at = c(0:6) * 4 + 2, labels = plot.label)\n",
    "  for (l in 1:3) {\n",
    "    lines(gdp.plot[[l]], lty = l)\n",
    "  }\n",
    "  legend('bottomright', legend = colnames(gdp.plot), inset = 0.05, lty = 1:3)\n",
    "}"
   ]
  },
  {
   "cell_type": "code",
   "execution_count": 41,
   "metadata": {},
   "outputs": [],
   "source": [
    "error_fore = list()\n",
    "error_rec = list()\n",
    "for (model in 1:4) {\n",
    "    gdp.plot = cbind(data.table(fore_df$y),\n",
    "                    data.table(gdp.rec[[model]]),\n",
    "                    data.table(gdp.fore[[model]]))\n",
    "    error_fore[model] = sum((gdp.plot[,1]-gdp.plot[,3])^2 / dim(gdp.plot[,3])[1]\n",
    "    error_rec[model] = sum((gdp.plot[,1]-gdp.plot[,2])^2) / dim(gdp.plot[,2])[1]\n",
    "}"
   ]
  },
  {
   "cell_type": "code",
   "execution_count": 42,
   "metadata": {},
   "outputs": [
    {
     "data": {
      "text/html": [
       "<ol>\n",
       "\t<li>0.147402118389755</li>\n",
       "\t<li>0.143071947284708</li>\n",
       "\t<li>0.155978991367662</li>\n",
       "\t<li>0.172430805300101</li>\n",
       "</ol>\n"
      ],
      "text/latex": [
       "\\begin{enumerate}\n",
       "\\item 0.147402118389755\n",
       "\\item 0.143071947284708\n",
       "\\item 0.155978991367662\n",
       "\\item 0.172430805300101\n",
       "\\end{enumerate}\n"
      ],
      "text/markdown": [
       "1. 0.147402118389755\n",
       "2. 0.143071947284708\n",
       "3. 0.155978991367662\n",
       "4. 0.172430805300101\n",
       "\n",
       "\n"
      ],
      "text/plain": [
       "[[1]]\n",
       "[1] 0.1474021\n",
       "\n",
       "[[2]]\n",
       "[1] 0.1430719\n",
       "\n",
       "[[3]]\n",
       "[1] 0.155979\n",
       "\n",
       "[[4]]\n",
       "[1] 0.1724308\n"
      ]
     },
     "metadata": {},
     "output_type": "display_data"
    }
   ],
   "source": [
    "error_fore"
   ]
  },
  {
   "cell_type": "code",
   "execution_count": 47,
   "metadata": {},
   "outputs": [
    {
     "data": {
      "text/html": [
       "0.618883862342225"
      ],
      "text/latex": [
       "0.618883862342225"
      ],
      "text/markdown": [
       "0.618883862342225"
      ],
      "text/plain": [
       "[1] 0.6188839"
      ]
     },
     "metadata": {},
     "output_type": "display_data"
    }
   ],
   "source": [
    "sum(unlist(error_fore))"
   ]
  },
  {
   "cell_type": "code",
   "execution_count": 45,
   "metadata": {},
   "outputs": [
    {
     "data": {
      "text/html": [
       "<ol>\n",
       "\t<li>0.129634461246304</li>\n",
       "\t<li>0.123272500750691</li>\n",
       "\t<li>0.126629402702681</li>\n",
       "\t<li>0.139143118664336</li>\n",
       "</ol>\n"
      ],
      "text/latex": [
       "\\begin{enumerate}\n",
       "\\item 0.129634461246304\n",
       "\\item 0.123272500750691\n",
       "\\item 0.126629402702681\n",
       "\\item 0.139143118664336\n",
       "\\end{enumerate}\n"
      ],
      "text/markdown": [
       "1. 0.129634461246304\n",
       "2. 0.123272500750691\n",
       "3. 0.126629402702681\n",
       "4. 0.139143118664336\n",
       "\n",
       "\n"
      ],
      "text/plain": [
       "[[1]]\n",
       "[1] 0.1296345\n",
       "\n",
       "[[2]]\n",
       "[1] 0.1232725\n",
       "\n",
       "[[3]]\n",
       "[1] 0.1266294\n",
       "\n",
       "[[4]]\n",
       "[1] 0.1391431\n"
      ]
     },
     "metadata": {},
     "output_type": "display_data"
    }
   ],
   "source": [
    "error_rec"
   ]
  },
  {
   "cell_type": "code",
   "execution_count": 48,
   "metadata": {},
   "outputs": [
    {
     "data": {
      "text/html": [
       "0.518679483364012"
      ],
      "text/latex": [
       "0.518679483364012"
      ],
      "text/markdown": [
       "0.518679483364012"
      ],
      "text/plain": [
       "[1] 0.5186795"
      ]
     },
     "metadata": {},
     "output_type": "display_data"
    }
   ],
   "source": [
    "sum(unlist(error_rec))"
   ]
  },
  {
   "cell_type": "markdown",
   "metadata": {},
   "source": [
    "\n",
    "\n",
    "It can be seem from the above that model two has the lowest forecast error (0.14307) between the batch forecast method, and the lowest error (0.12327) between the recursive forecast method.\n",
    "\n",
    "Furthermore, it can be seem that, as expected, the recursive method has consistently beaten the batch forecast method in terms of mean squared error across all models."
   ]
  },
  {
   "cell_type": "markdown",
   "metadata": {},
   "source": [
    "**(d) Compute confidence intervals for both (b) and (c) forecasts**"
   ]
  },
  {
   "cell_type": "markdown",
   "metadata": {},
   "source": [
    "A typical parametric assumption of the LRM is:\n",
    "\n",
    "$\n",
    "\\epsilon \\sim N(0, \\sigma^2 \\mathbf{I})\n",
    "$\n",
    "\n",
    "this implies that the distribution of the OLS estimator can be written as:\n",
    "\n",
    "$\n",
    "\\sqrt{T}(\\hat{\\beta}-\\beta) \\sim N(0, \\sigma^2(\\frac{X^{'}X}{T})^{-1})\n",
    "$\n",
    "\n",
    "and the forecast errors have the following distribution:\n",
    "\n",
    "$\n",
    "\\frac{\\mathbf{y}_{T+h} - \\hat{\\mathbf{y}}_{T+h}}{\\sqrt{Var(e_{T+h})}} \\sim N(0,1) \\implies \\mathbf{y}_{T+h} \\sim N(\\hat{\\mathbf{y}}_{T+h}, Var(e_{T+h}))\n",
    "$\n",
    "\n",
    "This means that we can use the above density to construct confidence intervals for our forecasts. In particular, a $[1-\\alpha]$% forecast interval is represented by:\n",
    "\n",
    "$\n",
    "[\\hat{\\mathbf{y}}_{T+h}-c_{\\alpha/2}\\sqrt{Var(e_{T+h})} ; \\hat{\\mathbf{y}}_{T+h}+c_{\\alpha/2}\\sqrt{Var(e_{T+h})}]\n",
    "$"
   ]
  },
  {
   "cell_type": "markdown",
   "metadata": {},
   "source": [
    "Therefore, for a 95% area interval we have that:"
   ]
  },
  {
   "cell_type": "code",
   "execution_count": 64,
   "metadata": {},
   "outputs": [
    {
     "name": "stderr",
     "output_type": "stream",
     "text": [
      "Warning message in gdp.fore[[i]] + 1.96 * unlist(gdp.fore.ic.se):\n",
      "\"longer object length is not a multiple of shorter object length\"Warning message in gdp.fore[[i]] - 1.96 * unlist(gdp.fore.ic.se):\n",
      "\"longer object length is not a multiple of shorter object length\"Warning message in gdp.fore[[i]] + 1.96 * unlist(gdp.fore.ic.se):\n",
      "\"longer object length is not a multiple of shorter object length\"Warning message in gdp.fore[[i]] - 1.96 * unlist(gdp.fore.ic.se):\n",
      "\"longer object length is not a multiple of shorter object length\""
     ]
    }
   ],
   "source": [
    "gdp.fore.ic.se = list()\n",
    "gdp.fore.ic.up = list()\n",
    "gdp.fore.ic.low = list()\n",
    "for (i in 1:length(gdp.est)){\n",
    "    gdp.fore.ic.se[[i]] = sqrt(sum(gdp.est[[1]]$residuals^2) / dim(fore_df)[1])\n",
    "    gdp.fore.ic.up[[i]] = gdp.fore[[i]] + 1.96 * unlist(gdp.fore.ic.se)\n",
    "    gdp.fore.ic.low[[i]] = gdp.fore[[i]] - 1.96 * unlist(gdp.fore.ic.se)\n",
    "}"
   ]
  },
  {
   "cell_type": "code",
   "execution_count": 65,
   "metadata": {},
   "outputs": [
    {
     "data": {
      "image/png": "[encoded data removed]",
      "text/plain": [
       "plot without title"
      ]
     },
     "metadata": {},
     "output_type": "display_data"
    }
   ],
   "source": [
    "par(mfrow=c(2,2))\n",
    "\n",
    "for (i in 1:length(gdp.est)){\n",
    "    dat = cbind(gdp.fore.ic.up[[i]], gdp.fore.ic.low[[i]], gdp.fore[[i]], fore_df$y)\n",
    "    colnames(dat) = names = c('up', 'lower', 'predict', 'real')    \n",
    "    \n",
    "    matplot(dat, type = c(\"b\"),pch=1,col = 1:4)\n",
    "    legend(\"topleft\", legend=names, col=1:4, pch=1)\n",
    "}\n"
   ]
  },
  {
   "cell_type": "code",
   "execution_count": null,
   "metadata": {},
   "outputs": [],
   "source": []
  }
 ],
 "metadata": {
  "kernelspec": {
   "display_name": "R",
   "language": "R",
   "name": "ir"
  },
  "language_info": {
   "codemirror_mode": "r",
   "file_extension": ".r",
   "mimetype": "text/x-r-source",
   "name": "R",
   "pygments_lexer": "r",
   "version": "3.6.1"
  }
 },
 "nbformat": 4,
 "nbformat_minor": 4
}
