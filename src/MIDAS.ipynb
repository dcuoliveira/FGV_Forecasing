{
 "cells": [
  {
   "cell_type": "code",
   "execution_count": 2,
   "metadata": {},
   "outputs": [
    {
     "name": "stderr",
     "output_type": "stream",
     "text": [
      "Warning message:\n",
      "\"package 'midasr' was built under R version 3.6.3\"Loading required package: sandwich\n",
      "Warning message:\n",
      "\"package 'sandwich' was built under R version 3.6.3\"Loading required package: optimx\n",
      "Warning message:\n",
      "\"package 'optimx' was built under R version 3.6.3\"Loading required package: quantreg\n",
      "Warning message:\n",
      "\"package 'quantreg' was built under R version 3.6.3\"Loading required package: SparseM\n",
      "Warning message:\n",
      "\"package 'SparseM' was built under R version 3.6.2\"\n",
      "Attaching package: 'SparseM'\n",
      "\n",
      "The following object is masked from 'package:base':\n",
      "\n",
      "    backsolve\n",
      "\n",
      "Error: package or namespace load failed for 'quantreg' in loadNamespace(j <- i[[1L]], c(lib.loc, .libPaths()), versionCheck = vI[[j]]):\n",
      " namespace 'Rcpp' 1.0.1 is already loaded, but >= 1.0.3 is required\n"
     ]
    },
    {
     "ename": "ERROR",
     "evalue": "Error: package 'quantreg' could not be loaded\n",
     "output_type": "error",
     "traceback": [
      "Error: package 'quantreg' could not be loaded\nTraceback:\n",
      "1. library(midasr)",
      "2. .getRequiredPackages2(pkgInfo, quietly = quietly)",
      "3. stop(gettextf(\"package %s could not be loaded\", sQuote(pkg)), \n .     call. = FALSE, domain = NA)"
     ]
    }
   ],
   "source": [
    "library(readr)\n",
    "library(midasr)"
   ]
  },
  {
   "cell_type": "code",
   "execution_count": 6,
   "metadata": {},
   "outputs": [
    {
     "name": "stdout",
     "output_type": "stream",
     "text": [
      "package 'installr' successfully unpacked and MD5 sums checked\n",
      "\n",
      "The downloaded binary packages are in\n",
      "\tC:\\Users\\Daniel\\AppData\\Local\\Temp\\RtmpgvnyHb\\downloaded_packages\n"
     ]
    }
   ],
   "source": [
    "install.packages('installr')"
   ]
  },
  {
   "cell_type": "code",
   "execution_count": 8,
   "metadata": {},
   "outputs": [
    {
     "name": "stderr",
     "output_type": "stream",
     "text": [
      "Warning message:\n",
      "\"package 'installr' was built under R version 3.6.3\"Loading required package: stringr\n",
      "\n",
      "Welcome to installr version 0.22.0\n",
      "\n",
      "More information is available on the installr project website:\n",
      "https://github.com/talgalili/installr/\n",
      "\n",
      "Contact: <tal.galili@gmail.com>\n",
      "Suggestions and bug-reports can be submitted at: https://github.com/talgalili/installr/issues\n",
      "\n",
      "\t\t\tTo suppress this message use:\n",
      "\t\t\tsuppressPackageStartupMessages(library(installr))\n",
      "\n"
     ]
    }
   ],
   "source": [
    "library(installr)"
   ]
  },
  {
   "cell_type": "code",
   "execution_count": 9,
   "metadata": {},
   "outputs": [],
   "source": [
    "uninstall.packages('Rcpp')"
   ]
  },
  {
   "cell_type": "code",
   "execution_count": 17,
   "metadata": {},
   "outputs": [
    {
     "name": "stderr",
     "output_type": "stream",
     "text": [
      "Warning message in install.packages(\"C:/Users/Daniel/Downloads/Rcpp_1.0.5.tgz\", :\n",
      "\"installation of package 'C:/Users/Daniel/Downloads/Rcpp_1.0.5.tgz' had non-zero exit status\""
     ]
    }
   ],
   "source": [
    "install.packages('C:/Users/Daniel/Downloads/Rcpp_1.0.5.tgz', repos = NULL, type=\"source\")"
   ]
  },
  {
   "cell_type": "code",
   "execution_count": 18,
   "metadata": {},
   "outputs": [
    {
     "ename": "ERROR",
     "evalue": "Error in library(\"Rcpp\"): there is no package called 'Rcpp'\n",
     "output_type": "error",
     "traceback": [
      "Error in library(\"Rcpp\"): there is no package called 'Rcpp'\nTraceback:\n",
      "1. library(\"Rcpp\")"
     ]
    }
   ],
   "source": [
    "library('Rcpp')"
   ]
  },
  {
   "cell_type": "code",
   "execution_count": 10,
   "metadata": {},
   "outputs": [
    {
     "name": "stderr",
     "output_type": "stream",
     "text": [
      "Warning message in FUN(X[[i]], ...):\n",
      "\"DESCRIPTION file of package 'Rcpp' is missing or broken\"ERROR while rich displaying an object: Error in x[[\"Version\"]]: subscript out of bounds\n",
      "\n",
      "Traceback:\n",
      "1. FUN(X[[i]], ...)\n",
      "2. tryCatch(withCallingHandlers({\n",
      " .     if (!mime %in% names(repr::mime2repr)) \n",
      " .         stop(\"No repr_* for mimetype \", mime, \" in repr::mime2repr\")\n",
      " .     rpr <- repr::mime2repr[[mime]](obj)\n",
      " .     if (is.null(rpr)) \n",
      " .         return(NULL)\n",
      " .     prepare_content(is.raw(rpr), rpr)\n",
      " . }, error = error_handler), error = outer_handler)\n",
      "3. tryCatchList(expr, classes, parentenv, handlers)\n",
      "4. tryCatchOne(expr, names, parentenv, handlers[[1L]])\n",
      "5. doTryCatch(return(expr), name, parentenv, handler)\n",
      "6. withCallingHandlers({\n",
      " .     if (!mime %in% names(repr::mime2repr)) \n",
      " .         stop(\"No repr_* for mimetype \", mime, \" in repr::mime2repr\")\n",
      " .     rpr <- repr::mime2repr[[mime]](obj)\n",
      " .     if (is.null(rpr)) \n",
      " .         return(NULL)\n",
      " .     prepare_content(is.raw(rpr), rpr)\n",
      " . }, error = error_handler)\n",
      "7. repr::mime2repr[[mime]](obj)\n",
      "8. repr_text.default(obj)\n",
      "9. paste(capture.output(print(obj)), collapse = \"\\n\")\n",
      "10. capture.output(print(obj))\n",
      "11. evalVis(expr)\n",
      "12. withVisible(eval(expr, pf))\n",
      "13. eval(expr, pf)\n",
      "14. eval(expr, pf)\n",
      "15. print(obj)\n",
      "16. print.sessionInfo(obj)\n",
      "17. print(mkLabel(x, \"loadedOnly\"), quote = FALSE, ...)\n",
      "18. mkLabel(x, \"loadedOnly\")\n",
      "19. sapply(L[[n]], function(x) x[[\"Version\"]])\n",
      "20. lapply(X = X, FUN = FUN, ...)\n",
      "21. FUN(X[[i]], ...)\n"
     ]
    }
   ],
   "source": [
    "sessionInfo()"
   ]
  },
  {
   "cell_type": "code",
   "execution_count": null,
   "metadata": {},
   "outputs": [],
   "source": []
  }
 ],
 "metadata": {
  "kernelspec": {
   "display_name": "R",
   "language": "R",
   "name": "ir"
  },
  "language_info": {
   "codemirror_mode": "r",
   "file_extension": ".r",
   "mimetype": "text/x-r-source",
   "name": "R",
   "pygments_lexer": "r",
   "version": "3.6.1"
  }
 },
 "nbformat": 4,
 "nbformat_minor": 4
}
