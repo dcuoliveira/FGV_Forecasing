{
 "cells": [
  {
   "cell_type": "markdown",
   "metadata": {},
   "source": [
    "# Exercise - Dynamic models and model selection\n",
    "\n",
    "**(1)** Fit the following ARDL models:\n",
    "\n",
    "> **(a)** $y_t = \\alpha + \\beta_1 y_{t-1} + \\beta_2 ipr_t + \\beta_2 ipr_{t-1} + \\beta_3 su_t + \\beta_4 su_{t-1} + \\beta_5 sr_t + \\beta_6 sr_{t-1} + \\epsilon_T$\n",
    "\n",
    "> **(b)** $y_t = \\alpha + \\beta_1 y_{t-1} + \\epsilon_t$\n",
    "\n",
    "> **(c)** $y_t = \\alpha + \\beta_1 ydiff_{t-1} + \\beta_2 iprdiff_t + \\beta_3 sudiff_t + \\beta_4 srdiff_t + \\epsilon_t$\n",
    "\n",
    "> **(d)** $y_t = \\alpha + \\beta_1 ipr_{t-1} + \\beta_2 su_{t-1} + \\beta_3 sr_{t-1} + \\epsilon_t$\n",
    "\n",
    "> **(e)** $y_t = \\alpha + \\beta_1 ipr_T + \\beta_2 ipr_{t-1} + \\beta_3 su_t + \\beta_4 su_{t-1} + \\beta_5 sr_t + \\beta_6 sr_{t-1} + \\epsilon_T$\n",
    "\n",
    "> **(f)** $y_t = \\alpha + \\beta_1 y_{t-1} + \\beta_2 ipr_t + \\beta_3 su_t + \\beta_4 sr_t + \\epsilon_t$\n",
    "\n",
    "> **(g)** $y_t = \\alpha + \\beta_1 ipr_{t-1} + \\beta_2 su_{t-1} + \\beta_3 sr_{t-1} + \\epsilon_t$\n",
    "\n",
    "> **(h)** $y_t = \\alpha + \\beta_1 ipr_t + \\beta_2 su_t + \\beta_3 sr_t + \\epsilon_t$ onde $\\epsilon_t = \\rho \\epsilon_{t-1} + u_{t-1}$\n",
    "\n",
    "\n",
    "**(2)** Test the optimal ARDL model specification chosen before in terms of:\n",
    "> **(a)** AIC and BIC\n",
    "\n",
    "> **(b)** Serial autocorrelation \n",
    "\n",
    "> **(c)** Homoskedasticity\n",
    "\n",
    "**(3)** Use the optimal model to make:\n",
    "> **(a)** Static forecast \n",
    "\n",
    "> **(b)** Recursive forecast\n",
    "\n",
    "> **(c)** Evaluate the forecasts in terms of RMSE and MAE\n",
    "\n"
   ]
  },
  {
   "cell_type": "code",
   "execution_count": 144,
   "metadata": {},
   "outputs": [],
   "source": [
    "library(urca)\n",
    "library(readxl)\n",
    "library(vars)\n",
    "library(tsDyn)\n",
    "library(nlme)\n",
    "library(data.table)\n",
    "library(ggplot2)\n",
    "library(lmtest)\n",
    "library(tseries)\n",
    "library(xtable)\n",
    "library(forecast)\n",
    "library(Metrics)\n",
    "library(here)\n",
    "library(reshape2)\n",
    "library(Metrics)"
   ]
  },
  {
   "cell_type": "code",
   "execution_count": 16,
   "metadata": {},
   "outputs": [
    {
     "data": {
      "text/html": [
       "<table>\n",
       "<thead><tr><th scope=col>date</th><th scope=col>D2000s</th><th scope=col>Dfincris</th><th scope=col>ipr</th><th scope=col>pr</th><th scope=col>q_cpi_infl</th><th scope=col>q_csi_gr</th><th scope=col>q_indpro_gr</th><th scope=col>q_rgdp_gr</th><th scope=col>q_sp500_ret</th><th scope=col>sr</th><th scope=col>su</th><th scope=col>y</th><th scope=col>y1</th><th scope=col>ipr1</th><th scope=col>su1</th><th scope=col>sr1</th><th scope=col>d1ipr</th><th scope=col>d1su</th><th scope=col>d1sr</th></tr></thead>\n",
       "<tbody>\n",
       "\t<tr><td>1/1/1985    </td><td>0           </td><td>0           </td><td> 0.2794038  </td><td> 1.2218198  </td><td> 0.012218198</td><td>-0.005291005</td><td> 0.002794038</td><td>0.009843438 </td><td>0.06961191  </td><td> 6.961191   </td><td>-0.5291005  </td><td>0.9843438   </td><td>0.0000000   </td><td> 0.0000000  </td><td> 0.0000000  </td><td> 0.000000   </td><td>         NA </td><td>        NA  </td><td>       NA   </td></tr>\n",
       "\t<tr><td>4/1/1985    </td><td>0           </td><td>0           </td><td> 0.0910985  </td><td> 0.6525528  </td><td> 0.006525528</td><td>-0.002120891</td><td> 0.000910985</td><td>0.009071856 </td><td>0.04223191  </td><td> 4.223191   </td><td>-0.2120891  </td><td>0.9071856   </td><td>0.9843438   </td><td> 0.2794038  </td><td>-0.5291005  </td><td> 6.961191   </td><td>-0.18830526 </td><td> 0.3170115  </td><td>-2.738000   </td></tr>\n",
       "\t<tr><td>7/1/1985    </td><td>0           </td><td>0           </td><td>-0.1680275  </td><td> 0.5560717  </td><td> 0.005560717</td><td>-0.016163793</td><td>-0.001680275</td><td>0.015318746 </td><td>0.02042328  </td><td> 2.042328   </td><td>-1.6163793  </td><td>1.5318746   </td><td>0.9071856   </td><td> 0.0910985  </td><td>-0.2120891  </td><td> 4.223191   </td><td>-0.25912600 </td><td>-1.4042902  </td><td>-2.180863   </td></tr>\n",
       "\t<tr><td>10/1/1985   </td><td>0           </td><td>0           </td><td> 0.5959753  </td><td> 1.2840002  </td><td> 0.012840002</td><td>-0.018660812</td><td> 0.005959753</td><td>0.007445974 </td><td>0.04189470  </td><td> 4.189470   </td><td>-1.8660812  </td><td>0.7445974   </td><td>1.5318746   </td><td>-0.1680275  </td><td>-1.6163793  </td><td> 2.042328   </td><td> 0.76400285 </td><td>-0.2497019  </td><td> 2.147142   </td></tr>\n",
       "\t<tr><td>1/1/1986    </td><td>0           </td><td>0           </td><td> 0.5809237  </td><td>-0.3683023  </td><td>-0.003683023</td><td> 0.046073298</td><td> 0.005809237</td><td>0.009183453 </td><td>0.11048801  </td><td>11.048801   </td><td> 4.6073298  </td><td>0.9183453   </td><td>0.7445974   </td><td> 0.5959753  </td><td>-1.8660812  </td><td> 4.189470   </td><td>-0.01505166 </td><td> 6.4734111  </td><td> 6.859331   </td></tr>\n",
       "\t<tr><td>4/1/1986    </td><td>0           </td><td>0           </td><td>-0.5914638  </td><td> 0.2728748  </td><td> 0.002728748</td><td> 0.013429752</td><td>-0.005914638</td><td>0.004569657 </td><td>0.09111486  </td><td> 9.111486   </td><td> 1.3429752  </td><td>0.4569657   </td><td>0.9183453   </td><td> 0.5809237  </td><td> 4.6073298  </td><td>11.048801   </td><td>-1.17238744 </td><td>-3.2643546  </td><td>-1.937315   </td></tr>\n",
       "</tbody>\n",
       "</table>\n"
      ],
      "text/latex": [
       "\\begin{tabular}{r|llllllllllllllllllll}\n",
       " date & D2000s & Dfincris & ipr & pr & q\\_cpi\\_infl & q\\_csi\\_gr & q\\_indpro\\_gr & q\\_rgdp\\_gr & q\\_sp500\\_ret & sr & su & y & y1 & ipr1 & su1 & sr1 & d1ipr & d1su & d1sr\\\\\n",
       "\\hline\n",
       "\t 1/1/1985     & 0            & 0            &  0.2794038   &  1.2218198   &  0.012218198 & -0.005291005 &  0.002794038 & 0.009843438  & 0.06961191   &  6.961191    & -0.5291005   & 0.9843438    & 0.0000000    &  0.0000000   &  0.0000000   &  0.000000    &          NA  &         NA   &        NA   \\\\\n",
       "\t 4/1/1985     & 0            & 0            &  0.0910985   &  0.6525528   &  0.006525528 & -0.002120891 &  0.000910985 & 0.009071856  & 0.04223191   &  4.223191    & -0.2120891   & 0.9071856    & 0.9843438    &  0.2794038   & -0.5291005   &  6.961191    & -0.18830526  &  0.3170115   & -2.738000   \\\\\n",
       "\t 7/1/1985     & 0            & 0            & -0.1680275   &  0.5560717   &  0.005560717 & -0.016163793 & -0.001680275 & 0.015318746  & 0.02042328   &  2.042328    & -1.6163793   & 1.5318746    & 0.9071856    &  0.0910985   & -0.2120891   &  4.223191    & -0.25912600  & -1.4042902   & -2.180863   \\\\\n",
       "\t 10/1/1985    & 0            & 0            &  0.5959753   &  1.2840002   &  0.012840002 & -0.018660812 &  0.005959753 & 0.007445974  & 0.04189470   &  4.189470    & -1.8660812   & 0.7445974    & 1.5318746    & -0.1680275   & -1.6163793   &  2.042328    &  0.76400285  & -0.2497019   &  2.147142   \\\\\n",
       "\t 1/1/1986     & 0            & 0            &  0.5809237   & -0.3683023   & -0.003683023 &  0.046073298 &  0.005809237 & 0.009183453  & 0.11048801   & 11.048801    &  4.6073298   & 0.9183453    & 0.7445974    &  0.5959753   & -1.8660812   &  4.189470    & -0.01505166  &  6.4734111   &  6.859331   \\\\\n",
       "\t 4/1/1986     & 0            & 0            & -0.5914638   &  0.2728748   &  0.002728748 &  0.013429752 & -0.005914638 & 0.004569657  & 0.09111486   &  9.111486    &  1.3429752   & 0.4569657    & 0.9183453    &  0.5809237   &  4.6073298   & 11.048801    & -1.17238744  & -3.2643546   & -1.937315   \\\\\n",
       "\\end{tabular}\n"
      ],
      "text/markdown": [
       "\n",
       "| date | D2000s | Dfincris | ipr | pr | q_cpi_infl | q_csi_gr | q_indpro_gr | q_rgdp_gr | q_sp500_ret | sr | su | y | y1 | ipr1 | su1 | sr1 | d1ipr | d1su | d1sr |\n",
       "|---|---|---|---|---|---|---|---|---|---|---|---|---|---|---|---|---|---|---|---|\n",
       "| 1/1/1985     | 0            | 0            |  0.2794038   |  1.2218198   |  0.012218198 | -0.005291005 |  0.002794038 | 0.009843438  | 0.06961191   |  6.961191    | -0.5291005   | 0.9843438    | 0.0000000    |  0.0000000   |  0.0000000   |  0.000000    |          NA  |         NA   |        NA    |\n",
       "| 4/1/1985     | 0            | 0            |  0.0910985   |  0.6525528   |  0.006525528 | -0.002120891 |  0.000910985 | 0.009071856  | 0.04223191   |  4.223191    | -0.2120891   | 0.9071856    | 0.9843438    |  0.2794038   | -0.5291005   |  6.961191    | -0.18830526  |  0.3170115   | -2.738000    |\n",
       "| 7/1/1985     | 0            | 0            | -0.1680275   |  0.5560717   |  0.005560717 | -0.016163793 | -0.001680275 | 0.015318746  | 0.02042328   |  2.042328    | -1.6163793   | 1.5318746    | 0.9071856    |  0.0910985   | -0.2120891   |  4.223191    | -0.25912600  | -1.4042902   | -2.180863    |\n",
       "| 10/1/1985    | 0            | 0            |  0.5959753   |  1.2840002   |  0.012840002 | -0.018660812 |  0.005959753 | 0.007445974  | 0.04189470   |  4.189470    | -1.8660812   | 0.7445974    | 1.5318746    | -0.1680275   | -1.6163793   |  2.042328    |  0.76400285  | -0.2497019   |  2.147142    |\n",
       "| 1/1/1986     | 0            | 0            |  0.5809237   | -0.3683023   | -0.003683023 |  0.046073298 |  0.005809237 | 0.009183453  | 0.11048801   | 11.048801    |  4.6073298   | 0.9183453    | 0.7445974    |  0.5959753   | -1.8660812   |  4.189470    | -0.01505166  |  6.4734111   |  6.859331    |\n",
       "| 4/1/1986     | 0            | 0            | -0.5914638   |  0.2728748   |  0.002728748 |  0.013429752 | -0.005914638 | 0.004569657  | 0.09111486   |  9.111486    |  1.3429752   | 0.4569657    | 0.9183453    |  0.5809237   |  4.6073298   | 11.048801    | -1.17238744  | -3.2643546   | -1.937315    |\n",
       "\n"
      ],
      "text/plain": [
       "  date      D2000s Dfincris ipr        pr         q_cpi_infl   q_csi_gr    \n",
       "1 1/1/1985  0      0         0.2794038  1.2218198  0.012218198 -0.005291005\n",
       "2 4/1/1985  0      0         0.0910985  0.6525528  0.006525528 -0.002120891\n",
       "3 7/1/1985  0      0        -0.1680275  0.5560717  0.005560717 -0.016163793\n",
       "4 10/1/1985 0      0         0.5959753  1.2840002  0.012840002 -0.018660812\n",
       "5 1/1/1986  0      0         0.5809237 -0.3683023 -0.003683023  0.046073298\n",
       "6 4/1/1986  0      0        -0.5914638  0.2728748  0.002728748  0.013429752\n",
       "  q_indpro_gr  q_rgdp_gr   q_sp500_ret sr        su         y         y1       \n",
       "1  0.002794038 0.009843438 0.06961191   6.961191 -0.5291005 0.9843438 0.0000000\n",
       "2  0.000910985 0.009071856 0.04223191   4.223191 -0.2120891 0.9071856 0.9843438\n",
       "3 -0.001680275 0.015318746 0.02042328   2.042328 -1.6163793 1.5318746 0.9071856\n",
       "4  0.005959753 0.007445974 0.04189470   4.189470 -1.8660812 0.7445974 1.5318746\n",
       "5  0.005809237 0.009183453 0.11048801  11.048801  4.6073298 0.9183453 0.7445974\n",
       "6 -0.005914638 0.004569657 0.09111486   9.111486  1.3429752 0.4569657 0.9183453\n",
       "  ipr1       su1        sr1       d1ipr       d1su       d1sr     \n",
       "1  0.0000000  0.0000000  0.000000          NA         NA        NA\n",
       "2  0.2794038 -0.5291005  6.961191 -0.18830526  0.3170115 -2.738000\n",
       "3  0.0910985 -0.2120891  4.223191 -0.25912600 -1.4042902 -2.180863\n",
       "4 -0.1680275 -1.6163793  2.042328  0.76400285 -0.2497019  2.147142\n",
       "5  0.5959753 -1.8660812  4.189470 -0.01505166  6.4734111  6.859331\n",
       "6  0.5809237  4.6073298 11.048801 -1.17238744 -3.2643546 -1.937315"
      ]
     },
     "metadata": {},
     "output_type": "display_data"
    }
   ],
   "source": [
    "us_gdp = fread(here('src', 'data', 'ex2_dynamic_gdp_us.csv'))\n",
    "us_gdp$d1ipr=c(NA,diff(us_gdp$ipr,differences=1)[1:length(us_gdp$ipr)-1])\n",
    "us_gdp$d1su=c(NA,diff(us_gdp$su,differences=1)[1:length(us_gdp$su)-1])\n",
    "us_gdp$d1sr=c(NA,diff(us_gdp$sr,differences=1)[1:length(us_gdp$sr)-1])\n",
    "head(us_gdp)"
   ]
  },
  {
   "cell_type": "code",
   "execution_count": 46,
   "metadata": {},
   "outputs": [
    {
     "data": {
      "text/html": [
       "<ol class=list-inline>\n",
       "\t<li>114</li>\n",
       "\t<li>20</li>\n",
       "</ol>\n"
      ],
      "text/latex": [
       "\\begin{enumerate*}\n",
       "\\item 114\n",
       "\\item 20\n",
       "\\end{enumerate*}\n"
      ],
      "text/markdown": [
       "1. 114\n",
       "2. 20\n",
       "\n",
       "\n"
      ],
      "text/plain": [
       "[1] 114  20"
      ]
     },
     "metadata": {},
     "output_type": "display_data"
    }
   ],
   "source": [
    "dim(us_gdp)"
   ]
  },
  {
   "cell_type": "markdown",
   "metadata": {},
   "source": [
    "### **(1)** Fit the following ARDL models:"
   ]
  },
  {
   "cell_type": "code",
   "execution_count": 10,
   "metadata": {},
   "outputs": [],
   "source": [
    "model_list = list()\n",
    "aic_bic_list = list()"
   ]
  },
  {
   "cell_type": "code",
   "execution_count": 11,
   "metadata": {},
   "outputs": [],
   "source": [
    "l = list()\n",
    "model_list$ardl1111 = lm(y ~ y1 + ipr + ipr1 + su + su1 + sr + sr1, us_gdp[2:70] )\n",
    "\n",
    "l$AIC = AIC(model_list$ardl1111)/model_list$ardl1111$df.residual\n",
    "l$BIC = BIC(model_list$ardl1111)/model_list$ardl1111$df.residual\n",
    "\n",
    "aic_bic_list[['arfl1111']] = l"
   ]
  },
  {
   "cell_type": "code",
   "execution_count": 13,
   "metadata": {},
   "outputs": [],
   "source": [
    "l = list()\n",
    "model_list$ar1 = lm(y ~ y1 , us_gdp[2:70] )\n",
    "\n",
    "l$AIC = AIC(model_list$ar1)/model_list$ar1$df.residual\n",
    "l$BIC = BIC(model_list$ar1)/model_list$ar1$df.residual\n",
    "\n",
    "aic_bic_list[['ar1']] = l"
   ]
  },
  {
   "cell_type": "code",
   "execution_count": 18,
   "metadata": {},
   "outputs": [],
   "source": [
    "l = list()\n",
    "model_list$diffmodel = lm(y ~ offset(1*y1)+ d1ipr + d1su + d1sr, data = us_gdp[2:70])\n",
    "\n",
    "l$AIC = AIC(model_list$diffmodel)/model_list$diffmodel$df.residual\n",
    "l$BIC = BIC(model_list$diffmodel)/model_list$diffmodel$df.residual\n",
    "\n",
    "aic_bic_list[['diffmodel']] = l"
   ]
  },
  {
   "cell_type": "code",
   "execution_count": 19,
   "metadata": {},
   "outputs": [],
   "source": [
    "l = list()\n",
    "model_list$leadingindcmodels = lm(y ~ ipr1 + su1 + sr1, data = us_gdp[2:70])\n",
    "\n",
    "l$AIC = AIC(model_list$leadingindcmodels)/model_list$leadingindcmodels$df.residual\n",
    "l$BIC = BIC(model_list$leadingindcmodels)/model_list$leadingindcmodels$df.residual\n",
    "\n",
    "aic_bic_list[['leadingindcmodels']] = l"
   ]
  },
  {
   "cell_type": "code",
   "execution_count": 20,
   "metadata": {},
   "outputs": [],
   "source": [
    "l = list()\n",
    "model_list$distlagsmodel = lm(y ~ ipr + ipr1 + su + su1 + sr + sr1, data = us_gdp[2:70])\n",
    "\n",
    "l$AIC = AIC(model_list$distlagsmodel)/model_list$distlagsmodel$df.residual\n",
    "l$BIC = BIC(model_list$distlagsmodel)/model_list$distlagsmodel$df.residual\n",
    "\n",
    "aic_bic_list[['distlagsmodel']] = l"
   ]
  },
  {
   "cell_type": "code",
   "execution_count": 21,
   "metadata": {},
   "outputs": [],
   "source": [
    "l = list()\n",
    "model_list$partialadjmodel = lm(y ~ y1 + ipr + su + sr, data = us_gdp[2:70])\n",
    "\n",
    "l$AIC = AIC(model_list$partialadjmodel)/model_list$partialadjmodel$df.residual\n",
    "l$BIC = BIC(model_list$partialadjmodel)/model_list$partialadjmodel$df.residual\n",
    "\n",
    "aic_bic_list[['partialadjmodel']] = l"
   ]
  },
  {
   "cell_type": "code",
   "execution_count": 22,
   "metadata": {},
   "outputs": [],
   "source": [
    "l = list()\n",
    "model_list$deadstartmodel = lm(y ~ y1 + ipr1+su1+sr1, data = us_gdp[2:70])\n",
    "\n",
    "l$AIC = AIC(model_list$deadstartmodel)/model_list$deadstartmodel$df.residual\n",
    "l$BIC = BIC(model_list$deadstartmodel)/model_list$deadstartmodel$df.residual\n",
    "\n",
    "aic_bic_list[['deadstartmodel']] = l"
   ]
  },
  {
   "cell_type": "code",
   "execution_count": 23,
   "metadata": {},
   "outputs": [],
   "source": [
    "l = list()\n",
    "model_list$staticar1errormodel = gls(y ~ ipr+ su + sr, correlation =corARMA(p=1,q=0), data = us_gdp[2:70])\n",
    "\n",
    "\n",
    "l$AIC = AIC(model_list$staticar1errormodel)/model_list$staticar1errormodel$dims$N\n",
    "l$BIC = BIC(model_list$staticar1errormodel)/model_list$staticar1errormodel$dims$N\n",
    "\n",
    "aic_bic_list[['staticar1errormodel']] = l"
   ]
  },
  {
   "cell_type": "markdown",
   "metadata": {},
   "source": [
    "### **(2)** Test the optimal ARDL model specification chosen before in terms of:\n",
    "#### **(a)** AIC and BIC"
   ]
  },
  {
   "cell_type": "code",
   "execution_count": 25,
   "metadata": {},
   "outputs": [
    {
     "data": {
      "text/html": [
       "<table>\n",
       "<thead><tr><th></th><th scope=col>arfl1111</th><th scope=col>ar1</th><th scope=col>diffmodel</th><th scope=col>leadingindcmodels</th><th scope=col>distlagsmodel</th><th scope=col>partialadjmodel</th><th scope=col>deadstartmodel</th><th scope=col>staticar1errormodel</th></tr></thead>\n",
       "<tbody>\n",
       "\t<tr><th scope=row>AIC</th><td>1.321763</td><td>1.595614</td><td>1.91836 </td><td>1.548655</td><td>1.269619</td><td>1.202951</td><td>1.602026</td><td>1.475424</td></tr>\n",
       "\t<tr><th scope=row>BIC</th><td>1.651385</td><td>1.695648</td><td>2.090214</td><td>1.720509</td><td>1.557891</td><td>1.412398</td><td>1.811473</td><td>1.664501</td></tr>\n",
       "</tbody>\n",
       "</table>\n"
      ],
      "text/latex": [
       "\\begin{tabular}{r|llllllll}\n",
       "  & arfl1111 & ar1 & diffmodel & leadingindcmodels & distlagsmodel & partialadjmodel & deadstartmodel & staticar1errormodel\\\\\n",
       "\\hline\n",
       "\tAIC & 1.321763 & 1.595614 & 1.91836  & 1.548655 & 1.269619 & 1.202951 & 1.602026 & 1.475424\\\\\n",
       "\tBIC & 1.651385 & 1.695648 & 2.090214 & 1.720509 & 1.557891 & 1.412398 & 1.811473 & 1.664501\\\\\n",
       "\\end{tabular}\n"
      ],
      "text/markdown": [
       "\n",
       "| <!--/--> | arfl1111 | ar1 | diffmodel | leadingindcmodels | distlagsmodel | partialadjmodel | deadstartmodel | staticar1errormodel |\n",
       "|---|---|---|---|---|---|---|---|---|\n",
       "| AIC | 1.321763 | 1.595614 | 1.91836  | 1.548655 | 1.269619 | 1.202951 | 1.602026 | 1.475424 |\n",
       "| BIC | 1.651385 | 1.695648 | 2.090214 | 1.720509 | 1.557891 | 1.412398 | 1.811473 | 1.664501 |\n",
       "\n"
      ],
      "text/plain": [
       "    arfl1111 ar1      diffmodel leadingindcmodels distlagsmodel partialadjmodel\n",
       "AIC 1.321763 1.595614 1.91836   1.548655          1.269619      1.202951       \n",
       "BIC 1.651385 1.695648 2.090214  1.720509          1.557891      1.412398       \n",
       "    deadstartmodel staticar1errormodel\n",
       "AIC 1.602026       1.475424           \n",
       "BIC 1.811473       1.664501           "
      ]
     },
     "metadata": {},
     "output_type": "display_data"
    }
   ],
   "source": [
    "do.call('cbind', aic_bic_list)"
   ]
  },
  {
   "cell_type": "markdown",
   "metadata": {},
   "source": [
    "Its possible to note that both in terms of AIC and BIC, the \"partialadjmodel\" is the best fit between the available models."
   ]
  },
  {
   "cell_type": "code",
   "execution_count": 31,
   "metadata": {},
   "outputs": [
    {
     "data": {
      "text/html": [
       "0.118134812976101"
      ],
      "text/latex": [
       "0.118134812976101"
      ],
      "text/markdown": [
       "0.118134812976101"
      ],
      "text/plain": [
       "[1] 0.1181348"
      ]
     },
     "metadata": {},
     "output_type": "display_data"
    }
   ],
   "source": [
    "name = 'ardl1111'\n",
    "modd = model_list[[name]]\n",
    "test = bgtest(modd)\n",
    "test$p.value"
   ]
  },
  {
   "cell_type": "markdown",
   "metadata": {},
   "source": [
    "#### **(b)** Serial autocorrelation \n",
    "\n",
    "##### Breusch-Godfrey test"
   ]
  },
  {
   "cell_type": "code",
   "execution_count": 38,
   "metadata": {},
   "outputs": [],
   "source": [
    "bg_pval_list = list()\n",
    "for (name in names(model_list)){\n",
    "    if (name != 'staticar1errormodel'){\n",
    "        modd = model_list[[name]]\n",
    "        test = bgtest(modd)\n",
    "        bg_pval_list[[name]] = test$p.value\n",
    "    }\n",
    "}"
   ]
  },
  {
   "cell_type": "code",
   "execution_count": 39,
   "metadata": {},
   "outputs": [
    {
     "data": {
      "text/html": [
       "<table>\n",
       "<thead><tr><th scope=col>ardl1111</th><th scope=col>ar1</th><th scope=col>diffmodel</th><th scope=col>leadingindcmodels</th><th scope=col>distlagsmodel</th><th scope=col>partialadjmodel</th><th scope=col>deadstartmodel</th></tr></thead>\n",
       "<tbody>\n",
       "\t<tr><td>0.1181348  </td><td>0.004092259</td><td>0.001621425</td><td>0.8473626  </td><td>0.9756159  </td><td>0.05682203 </td><td>0.09822227 </td></tr>\n",
       "</tbody>\n",
       "</table>\n"
      ],
      "text/latex": [
       "\\begin{tabular}{lllllll}\n",
       " ardl1111 & ar1 & diffmodel & leadingindcmodels & distlagsmodel & partialadjmodel & deadstartmodel\\\\\n",
       "\\hline\n",
       "\t 0.1181348   & 0.004092259 & 0.001621425 & 0.8473626   & 0.9756159   & 0.05682203  & 0.09822227 \\\\\n",
       "\\end{tabular}\n"
      ],
      "text/markdown": [
       "\n",
       "| ardl1111 | ar1 | diffmodel | leadingindcmodels | distlagsmodel | partialadjmodel | deadstartmodel |\n",
       "|---|---|---|---|---|---|---|\n",
       "| 0.1181348   | 0.004092259 | 0.001621425 | 0.8473626   | 0.9756159   | 0.05682203  | 0.09822227  |\n",
       "\n"
      ],
      "text/plain": [
       "     ardl1111  ar1         diffmodel   leadingindcmodels distlagsmodel\n",
       "[1,] 0.1181348 0.004092259 0.001621425 0.8473626         0.9756159    \n",
       "     partialadjmodel deadstartmodel\n",
       "[1,] 0.05682203      0.09822227    "
      ]
     },
     "metadata": {},
     "output_type": "display_data"
    }
   ],
   "source": [
    "do.call('cbind', bg_pval_list)"
   ]
  },
  {
   "cell_type": "code",
   "execution_count": null,
   "metadata": {},
   "outputs": [],
   "source": []
  },
  {
   "cell_type": "markdown",
   "metadata": {},
   "source": [
    "#### **(c)** Homoskedasticity\n",
    "##### Breusch-Pagan-Godfrey test"
   ]
  },
  {
   "cell_type": "code",
   "execution_count": 40,
   "metadata": {},
   "outputs": [],
   "source": [
    "bp_pval_list = list()\n",
    "for (name in names(model_list)){\n",
    "    if (name != 'staticar1errormodel'){\n",
    "        modd = model_list[[name]]\n",
    "        test = bptest(modd)\n",
    "        bp_pval_list[[name]] = test$p.value\n",
    "    }\n",
    "}"
   ]
  },
  {
   "cell_type": "code",
   "execution_count": 41,
   "metadata": {},
   "outputs": [
    {
     "data": {
      "text/html": [
       "<table>\n",
       "<thead><tr><th scope=col>ardl1111</th><th scope=col>ar1</th><th scope=col>diffmodel</th><th scope=col>leadingindcmodels</th><th scope=col>distlagsmodel</th><th scope=col>partialadjmodel</th><th scope=col>deadstartmodel</th></tr></thead>\n",
       "<tbody>\n",
       "\t<tr><td>0.1181348  </td><td>0.004092259</td><td>0.001621425</td><td>0.8473626  </td><td>0.9756159  </td><td>0.05682203 </td><td>0.09822227 </td></tr>\n",
       "</tbody>\n",
       "</table>\n"
      ],
      "text/latex": [
       "\\begin{tabular}{lllllll}\n",
       " ardl1111 & ar1 & diffmodel & leadingindcmodels & distlagsmodel & partialadjmodel & deadstartmodel\\\\\n",
       "\\hline\n",
       "\t 0.1181348   & 0.004092259 & 0.001621425 & 0.8473626   & 0.9756159   & 0.05682203  & 0.09822227 \\\\\n",
       "\\end{tabular}\n"
      ],
      "text/markdown": [
       "\n",
       "| ardl1111 | ar1 | diffmodel | leadingindcmodels | distlagsmodel | partialadjmodel | deadstartmodel |\n",
       "|---|---|---|---|---|---|---|\n",
       "| 0.1181348   | 0.004092259 | 0.001621425 | 0.8473626   | 0.9756159   | 0.05682203  | 0.09822227  |\n",
       "\n"
      ],
      "text/plain": [
       "     ardl1111  ar1         diffmodel   leadingindcmodels distlagsmodel\n",
       "[1,] 0.1181348 0.004092259 0.001621425 0.8473626         0.9756159    \n",
       "     partialadjmodel deadstartmodel\n",
       "[1,] 0.05682203      0.09822227    "
      ]
     },
     "metadata": {},
     "output_type": "display_data"
    }
   ],
   "source": [
    "do.call('cbind', bg_pval_list)"
   ]
  },
  {
   "cell_type": "code",
   "execution_count": null,
   "metadata": {},
   "outputs": [],
   "source": []
  },
  {
   "cell_type": "markdown",
   "metadata": {},
   "source": [
    "### **(3)** Use the optimal model to make:\n",
    "#### **(a)** Static forecast "
   ]
  },
  {
   "cell_type": "code",
   "execution_count": 91,
   "metadata": {},
   "outputs": [],
   "source": [
    "yhat_list = list()\n",
    "yse_list = list()\n",
    "ylow_list = list()\n",
    "yup_list = list()"
   ]
  },
  {
   "cell_type": "code",
   "execution_count": 92,
   "metadata": {},
   "outputs": [],
   "source": [
    "yhat_static_list = list()\n",
    "yse_static_list = list()\n",
    "ylow_static_list = list()\n",
    "yup_static_list = list()\n",
    "for (name in names(model_list)){    \n",
    "    modd = model_list[[name]]\n",
    "    yhat = predict(modd, newdata = us_gdp[71:114])\n",
    "    yse = sqrt(sum(modd$residuals^2) / 194)\n",
    "    yup = yhat + 1.96 * yse\n",
    "    ylow = yhat - 1.96 * yse\n",
    "    \n",
    "    yhat_static_list[[name]] = yhat\n",
    "    yse_static_list[[name]] = yse\n",
    "    ylow_static_list[[name]] = ylow\n",
    "    yup_static_list[[name]] = yup\n",
    "}\n",
    "yhat_list$static = yhat_static_list\n",
    "yse_list$static = yse_static_list\n",
    "ylow_list$static = ylow_static_list\n",
    "yup_list$static = yup_static_list"
   ]
  },
  {
   "cell_type": "markdown",
   "metadata": {},
   "source": [
    "#### **(b)** Recursive forecast"
   ]
  },
  {
   "cell_type": "code",
   "execution_count": 96,
   "metadata": {},
   "outputs": [],
   "source": [
    "yhat_rec_list = list()\n",
    "yse_rec_list = list()\n",
    "ylow_rec_list = list()\n",
    "yup_rec_list = list()\n",
    "\n",
    "for (name in names(model_list)){\n",
    "    yrec = rep(0, 43)\n",
    "    yrec_se = rep(0, 43)\n",
    "    yrec_up = rep(0, 43)\n",
    "    yrec_low = rep(0, 43)\n",
    "    j=0\n",
    "    for(i in 70:113) {\n",
    "        if (name == 'ardl1111'){\n",
    "            modd = lm(y ~ y1 + ipr + ipr1 + su + su1 + sr + sr1, us_gdp[1:i] )\n",
    "        }\n",
    "        else if (name == 'ar1'){\n",
    "            modd = lm(y ~ y1 , us_gdp[2:70] )\n",
    "        }\n",
    "        else if (name == 'diffmodel'){\n",
    "            modd = lm(y ~ offset(1*y1)+ d1ipr + d1su + d1sr, data = us_gdp[1:i])\n",
    "        } \n",
    "        else if (name == 'leadingindcmodels'){\n",
    "            modd = lm(y ~ ipr1 + su1 + sr1, data = us_gdp[1:i])\n",
    "        }\n",
    "        else if (name == 'distlagsmodel'){\n",
    "            modd = lm(y ~ ipr + ipr1 + su + su1 + sr + sr1, data = us_gdp[1:i])\n",
    "        }\n",
    "        else if (name == 'partialadjmodel'){\n",
    "            modd = lm(y ~ y1 + ipr + su + sr, data = us_gdp[1:i])\n",
    "        }\n",
    "        else if (name == 'deadstartmodel'){\n",
    "            modd = lm(y ~ y1 + ipr1+su1+sr1, data = us_gdp[1:i])\n",
    "        }else{\n",
    "            modd = gls(y ~ ipr+ su + sr, correlation =corARMA(p=1,q=0), data = us_gdp[1:i])\n",
    "        }\n",
    "        \n",
    "        yrec[j] = predict(modd, newdata = us_gdp[(i+1)])\n",
    "        yrec_se[j] = sqrt(sum(modd$residuals^2 / 194))\n",
    "        yrec_up[j] = yrec[j] + 1.96 * yrec_se[j]\n",
    "        yrec_low[j] = yrec[j] - 1.96 * yrec_se[j]\n",
    "        j = j + 1\n",
    "    }\n",
    "    yhat_rec_list[[name]] = yrec\n",
    "    yse_rec_list[[name]] = yrec_se\n",
    "    ylow_rec_list[[name]] = yrec_up\n",
    "    yup_rec_list[[name]] = yrec_low\n",
    "}\n",
    "\n",
    "yhat_list$rec = yhat_rec_list\n",
    "yse_list$rec = yse_rec_list\n",
    "ylow_list$rec = ylow_rec_list\n",
    "yup_list$rec = yup_rec_list"
   ]
  },
  {
   "cell_type": "code",
   "execution_count": 137,
   "metadata": {},
   "outputs": [
    {
     "data": {
      "text/html": [
       "<table>\n",
       "<thead><tr><th scope=col>x</th><th scope=col>y1</th><th scope=col>ardl1111</th><th scope=col>ar1</th><th scope=col>diffmodel</th><th scope=col>leadingindcmodels</th><th scope=col>distlagsmodel</th><th scope=col>partialadjmodel</th><th scope=col>deadstartmodel</th><th scope=col>staticar1errormodel</th></tr></thead>\n",
       "<tbody>\n",
       "\t<tr><td>0          </td><td>0.48447144 </td><td>0.5897923  </td><td>0.7315114  </td><td> 0.25212932</td><td>0.7103918  </td><td>0.5719030  </td><td>0.7368504  </td><td>0.6791389  </td><td>0.7222742  </td></tr>\n",
       "\t<tr><td>1          </td><td>0.06361455 </td><td>0.3192970  </td><td>0.7170172  </td><td> 0.09250233</td><td>0.2126697  </td><td>0.3102094  </td><td>0.5154279  </td><td>0.1972244  </td><td>0.5037747  </td></tr>\n",
       "\t<tr><td>2          </td><td>0.51532599 </td><td>0.8061940  </td><td>0.6220452  </td><td> 0.31914860</td><td>0.5650146  </td><td>0.7917984  </td><td>0.8174129  </td><td>0.5409783  </td><td>0.7325381  </td></tr>\n",
       "\t<tr><td>3          </td><td>0.91939767 </td><td>0.2383447  </td><td>0.7239799  </td><td>-0.06443482</td><td>0.5967455  </td><td>0.2242588  </td><td>0.3658247  </td><td>0.5840431  </td><td>0.3841138  </td></tr>\n",
       "\t<tr><td>4          </td><td>1.64718905 </td><td>0.8961957  </td><td>0.8151641  </td><td> 1.40730977</td><td>0.8638199  </td><td>0.9160632  </td><td>0.7466897  </td><td>0.8923029  </td><td>0.7610559  </td></tr>\n",
       "\t<tr><td>5          </td><td>1.15571256 </td><td>0.8545080  </td><td>0.9793999  </td><td> 1.71880223</td><td>0.8688958  </td><td>0.8848699  </td><td>0.7515870  </td><td>0.9154697  </td><td>0.8511154  </td></tr>\n",
       "</tbody>\n",
       "</table>\n"
      ],
      "text/latex": [
       "\\begin{tabular}{r|llllllllll}\n",
       " x & y1 & ardl1111 & ar1 & diffmodel & leadingindcmodels & distlagsmodel & partialadjmodel & deadstartmodel & staticar1errormodel\\\\\n",
       "\\hline\n",
       "\t 0           & 0.48447144  & 0.5897923   & 0.7315114   &  0.25212932 & 0.7103918   & 0.5719030   & 0.7368504   & 0.6791389   & 0.7222742  \\\\\n",
       "\t 1           & 0.06361455  & 0.3192970   & 0.7170172   &  0.09250233 & 0.2126697   & 0.3102094   & 0.5154279   & 0.1972244   & 0.5037747  \\\\\n",
       "\t 2           & 0.51532599  & 0.8061940   & 0.6220452   &  0.31914860 & 0.5650146   & 0.7917984   & 0.8174129   & 0.5409783   & 0.7325381  \\\\\n",
       "\t 3           & 0.91939767  & 0.2383447   & 0.7239799   & -0.06443482 & 0.5967455   & 0.2242588   & 0.3658247   & 0.5840431   & 0.3841138  \\\\\n",
       "\t 4           & 1.64718905  & 0.8961957   & 0.8151641   &  1.40730977 & 0.8638199   & 0.9160632   & 0.7466897   & 0.8923029   & 0.7610559  \\\\\n",
       "\t 5           & 1.15571256  & 0.8545080   & 0.9793999   &  1.71880223 & 0.8688958   & 0.8848699   & 0.7515870   & 0.9154697   & 0.8511154  \\\\\n",
       "\\end{tabular}\n"
      ],
      "text/markdown": [
       "\n",
       "| x | y1 | ardl1111 | ar1 | diffmodel | leadingindcmodels | distlagsmodel | partialadjmodel | deadstartmodel | staticar1errormodel |\n",
       "|---|---|---|---|---|---|---|---|---|---|\n",
       "| 0           | 0.48447144  | 0.5897923   | 0.7315114   |  0.25212932 | 0.7103918   | 0.5719030   | 0.7368504   | 0.6791389   | 0.7222742   |\n",
       "| 1           | 0.06361455  | 0.3192970   | 0.7170172   |  0.09250233 | 0.2126697   | 0.3102094   | 0.5154279   | 0.1972244   | 0.5037747   |\n",
       "| 2           | 0.51532599  | 0.8061940   | 0.6220452   |  0.31914860 | 0.5650146   | 0.7917984   | 0.8174129   | 0.5409783   | 0.7325381   |\n",
       "| 3           | 0.91939767  | 0.2383447   | 0.7239799   | -0.06443482 | 0.5967455   | 0.2242588   | 0.3658247   | 0.5840431   | 0.3841138   |\n",
       "| 4           | 1.64718905  | 0.8961957   | 0.8151641   |  1.40730977 | 0.8638199   | 0.9160632   | 0.7466897   | 0.8923029   | 0.7610559   |\n",
       "| 5           | 1.15571256  | 0.8545080   | 0.9793999   |  1.71880223 | 0.8688958   | 0.8848699   | 0.7515870   | 0.9154697   | 0.8511154   |\n",
       "\n"
      ],
      "text/plain": [
       "  x y1         ardl1111  ar1       diffmodel   leadingindcmodels distlagsmodel\n",
       "1 0 0.48447144 0.5897923 0.7315114  0.25212932 0.7103918         0.5719030    \n",
       "2 1 0.06361455 0.3192970 0.7170172  0.09250233 0.2126697         0.3102094    \n",
       "3 2 0.51532599 0.8061940 0.6220452  0.31914860 0.5650146         0.7917984    \n",
       "4 3 0.91939767 0.2383447 0.7239799 -0.06443482 0.5967455         0.2242588    \n",
       "5 4 1.64718905 0.8961957 0.8151641  1.40730977 0.8638199         0.9160632    \n",
       "6 5 1.15571256 0.8545080 0.9793999  1.71880223 0.8688958         0.8848699    \n",
       "  partialadjmodel deadstartmodel staticar1errormodel\n",
       "1 0.7368504       0.6791389      0.7222742          \n",
       "2 0.5154279       0.1972244      0.5037747          \n",
       "3 0.8174129       0.5409783      0.7325381          \n",
       "4 0.3658247       0.5840431      0.3841138          \n",
       "5 0.7466897       0.8923029      0.7610559          \n",
       "6 0.7515870       0.9154697      0.8511154          "
      ]
     },
     "metadata": {},
     "output_type": "display_data"
    }
   ],
   "source": [
    "df_pred_static = as.data.frame(cbind(x=seq(0,43), y1=as.numeric(us_gdp$y[71:114]), apply(as.data.frame(do.call('cbind', yhat_list$static)), 2, function(x) as.numeric(x))))\n",
    "head(df_pred_static)"
   ]
  },
  {
   "cell_type": "code",
   "execution_count": 140,
   "metadata": {},
   "outputs": [
    {
     "data": {
      "image/png": "[encoded data removed]",
      "text/plain": [
       "plot without title"
      ]
     },
     "metadata": {},
     "output_type": "display_data"
    }
   ],
   "source": [
    "df_pred_static_melt = melt(df_pred_static, id = 'x')\n",
    "ggplot(data=df_pred_static_melt, aes(x=x, y=value, colour=variable)) + geom_line(size = 0.5)"
   ]
  },
  {
   "cell_type": "code",
   "execution_count": 141,
   "metadata": {},
   "outputs": [
    {
     "name": "stderr",
     "output_type": "stream",
     "text": [
      "Warning message in cbind(x = seq(0, 43), y1 = us_gdp$y[71:114], do.call(\"cbind\", :\n",
      "\"number of rows of result is not a multiple of vector length (arg 1)\""
     ]
    },
    {
     "data": {
      "text/html": [
       "<table>\n",
       "<thead><tr><th scope=col>x</th><th scope=col>y1</th><th scope=col>ardl1111</th><th scope=col>ar1</th><th scope=col>diffmodel</th><th scope=col>leadingindcmodels</th><th scope=col>distlagsmodel</th><th scope=col>partialadjmodel</th><th scope=col>deadstartmodel</th><th scope=col>staticar1errormodel</th></tr></thead>\n",
       "<tbody>\n",
       "\t<tr><td>0          </td><td>0.48447144 </td><td>0.3321146  </td><td>0.7170172  </td><td> 0.08336486</td><td>0.2038786  </td><td>0.3229628  </td><td>0.5106257  </td><td>0.1945532  </td><td>0.5003537  </td></tr>\n",
       "\t<tr><td>1          </td><td>0.06361455 </td><td>0.7999185  </td><td>0.6220452  </td><td> 0.31906484</td><td>0.5646590  </td><td>0.7837419  </td><td>0.8020542  </td><td>0.5451764  </td><td>0.7141356  </td></tr>\n",
       "\t<tr><td>2          </td><td>0.51532599 </td><td>0.2489382  </td><td>0.7239799  </td><td>-0.06507569</td><td>0.5870324  </td><td>0.2347526  </td><td>0.3782265  </td><td>0.5780550  </td><td>0.3897277  </td></tr>\n",
       "\t<tr><td>3          </td><td>0.91939767 </td><td>0.8893342  </td><td>0.8151641  </td><td> 1.34182094</td><td>0.8788996  </td><td>0.9203402  </td><td>0.7601058  </td><td>0.9016265  </td><td>0.7762022  </td></tr>\n",
       "\t<tr><td>4          </td><td>1.64718905 </td><td>0.9023181  </td><td>0.9793999  </td><td> 1.74383349</td><td>0.8890739  </td><td>0.9222463  </td><td>0.7938771  </td><td>0.9528981  </td><td>0.8806913  </td></tr>\n",
       "\t<tr><td>5          </td><td>1.15571256 </td><td>0.8643829  </td><td>0.8684917  </td><td> 1.08746441</td><td>0.9295203  </td><td>0.8655400  </td><td>0.8302863  </td><td>0.9539046  </td><td>0.8555888  </td></tr>\n",
       "</tbody>\n",
       "</table>\n"
      ],
      "text/latex": [
       "\\begin{tabular}{r|llllllllll}\n",
       " x & y1 & ardl1111 & ar1 & diffmodel & leadingindcmodels & distlagsmodel & partialadjmodel & deadstartmodel & staticar1errormodel\\\\\n",
       "\\hline\n",
       "\t 0           & 0.48447144  & 0.3321146   & 0.7170172   &  0.08336486 & 0.2038786   & 0.3229628   & 0.5106257   & 0.1945532   & 0.5003537  \\\\\n",
       "\t 1           & 0.06361455  & 0.7999185   & 0.6220452   &  0.31906484 & 0.5646590   & 0.7837419   & 0.8020542   & 0.5451764   & 0.7141356  \\\\\n",
       "\t 2           & 0.51532599  & 0.2489382   & 0.7239799   & -0.06507569 & 0.5870324   & 0.2347526   & 0.3782265   & 0.5780550   & 0.3897277  \\\\\n",
       "\t 3           & 0.91939767  & 0.8893342   & 0.8151641   &  1.34182094 & 0.8788996   & 0.9203402   & 0.7601058   & 0.9016265   & 0.7762022  \\\\\n",
       "\t 4           & 1.64718905  & 0.9023181   & 0.9793999   &  1.74383349 & 0.8890739   & 0.9222463   & 0.7938771   & 0.9528981   & 0.8806913  \\\\\n",
       "\t 5           & 1.15571256  & 0.8643829   & 0.8684917   &  1.08746441 & 0.9295203   & 0.8655400   & 0.8302863   & 0.9539046   & 0.8555888  \\\\\n",
       "\\end{tabular}\n"
      ],
      "text/markdown": [
       "\n",
       "| x | y1 | ardl1111 | ar1 | diffmodel | leadingindcmodels | distlagsmodel | partialadjmodel | deadstartmodel | staticar1errormodel |\n",
       "|---|---|---|---|---|---|---|---|---|---|\n",
       "| 0           | 0.48447144  | 0.3321146   | 0.7170172   |  0.08336486 | 0.2038786   | 0.3229628   | 0.5106257   | 0.1945532   | 0.5003537   |\n",
       "| 1           | 0.06361455  | 0.7999185   | 0.6220452   |  0.31906484 | 0.5646590   | 0.7837419   | 0.8020542   | 0.5451764   | 0.7141356   |\n",
       "| 2           | 0.51532599  | 0.2489382   | 0.7239799   | -0.06507569 | 0.5870324   | 0.2347526   | 0.3782265   | 0.5780550   | 0.3897277   |\n",
       "| 3           | 0.91939767  | 0.8893342   | 0.8151641   |  1.34182094 | 0.8788996   | 0.9203402   | 0.7601058   | 0.9016265   | 0.7762022   |\n",
       "| 4           | 1.64718905  | 0.9023181   | 0.9793999   |  1.74383349 | 0.8890739   | 0.9222463   | 0.7938771   | 0.9528981   | 0.8806913   |\n",
       "| 5           | 1.15571256  | 0.8643829   | 0.8684917   |  1.08746441 | 0.9295203   | 0.8655400   | 0.8302863   | 0.9539046   | 0.8555888   |\n",
       "\n"
      ],
      "text/plain": [
       "  x y1         ardl1111  ar1       diffmodel   leadingindcmodels distlagsmodel\n",
       "1 0 0.48447144 0.3321146 0.7170172  0.08336486 0.2038786         0.3229628    \n",
       "2 1 0.06361455 0.7999185 0.6220452  0.31906484 0.5646590         0.7837419    \n",
       "3 2 0.51532599 0.2489382 0.7239799 -0.06507569 0.5870324         0.2347526    \n",
       "4 3 0.91939767 0.8893342 0.8151641  1.34182094 0.8788996         0.9203402    \n",
       "5 4 1.64718905 0.9023181 0.9793999  1.74383349 0.8890739         0.9222463    \n",
       "6 5 1.15571256 0.8643829 0.8684917  1.08746441 0.9295203         0.8655400    \n",
       "  partialadjmodel deadstartmodel staticar1errormodel\n",
       "1 0.5106257       0.1945532      0.5003537          \n",
       "2 0.8020542       0.5451764      0.7141356          \n",
       "3 0.3782265       0.5780550      0.3897277          \n",
       "4 0.7601058       0.9016265      0.7762022          \n",
       "5 0.7938771       0.9528981      0.8806913          \n",
       "6 0.8302863       0.9539046      0.8555888          "
      ]
     },
     "metadata": {},
     "output_type": "display_data"
    }
   ],
   "source": [
    "df_pred_rec = as.data.frame(cbind(x=seq(0,43), y1=us_gdp$y[71:114], do.call('cbind', yhat_list$rec)))\n",
    "head(df_pred_rec)"
   ]
  },
  {
   "cell_type": "code",
   "execution_count": 143,
   "metadata": {},
   "outputs": [
    {
     "data": {
      "image/png": "[encoded data removed]",
      "text/plain": [
       "plot without title"
      ]
     },
     "metadata": {},
     "output_type": "display_data"
    }
   ],
   "source": [
    "df_pred_rec_melt = melt(df_pred_rec, id = \"x\")\n",
    "ggplot(data=df_pred_rec_melt, aes(x=x, y=value, colour=variable)) + geom_line(size = 0.5)"
   ]
  },
  {
   "cell_type": "markdown",
   "metadata": {},
   "source": [
    "#### **(c)** Evaluate the forecasts in terms of RMSE and MAE"
   ]
  },
  {
   "cell_type": "code",
   "execution_count": 148,
   "metadata": {},
   "outputs": [],
   "source": [
    "static_list = list()\n",
    "\n",
    "mae_list = list()\n",
    "rmse_list = list()\n",
    "for (col in colnames(df_pred_static)){\n",
    "    if ((col != 'x') & (col != 'y1')){\n",
    "        mae_list[[col]] = mae(actual = df_pred_static$y1, predicted = df_pred_static[[col]])\n",
    "        rmse_list[[col]] = rmse(actual = df_pred_static$y1, predicted = df_pred_static[[col]])\n",
    "        \n",
    "        static_list$mae = mae_list\n",
    "        static_list$rmse = rmse_list\n",
    "    }\n",
    "}"
   ]
  },
  {
   "cell_type": "code",
   "execution_count": 149,
   "metadata": {},
   "outputs": [
    {
     "data": {
      "text/html": [
       "<table>\n",
       "<thead><tr><th></th><th scope=col>mae</th><th scope=col>rmse</th></tr></thead>\n",
       "<tbody>\n",
       "\t<tr><th scope=row>ardl1111</th><td>0.3772668</td><td>0.507392 </td></tr>\n",
       "\t<tr><th scope=row>ar1</th><td>0.4459767</td><td>0.6611237</td></tr>\n",
       "\t<tr><th scope=row>diffmodel</th><td>0.583082 </td><td>0.7060951</td></tr>\n",
       "\t<tr><th scope=row>leadingindcmodels</th><td>0.4241683</td><td>0.5961608</td></tr>\n",
       "\t<tr><th scope=row>distlagsmodel</th><td>0.3784693</td><td>0.5070067</td></tr>\n",
       "\t<tr><th scope=row>partialadjmodel</th><td>0.3816766</td><td>0.4982016</td></tr>\n",
       "\t<tr><th scope=row>deadstartmodel</th><td>0.4166691</td><td>0.5930113</td></tr>\n",
       "\t<tr><th scope=row>staticar1errormodel</th><td>0.3712139</td><td>0.4867612</td></tr>\n",
       "</tbody>\n",
       "</table>\n"
      ],
      "text/latex": [
       "\\begin{tabular}{r|ll}\n",
       "  & mae & rmse\\\\\n",
       "\\hline\n",
       "\tardl1111 & 0.3772668 & 0.507392 \\\\\n",
       "\tar1 & 0.4459767 & 0.6611237\\\\\n",
       "\tdiffmodel & 0.583082  & 0.7060951\\\\\n",
       "\tleadingindcmodels & 0.4241683 & 0.5961608\\\\\n",
       "\tdistlagsmodel & 0.3784693 & 0.5070067\\\\\n",
       "\tpartialadjmodel & 0.3816766 & 0.4982016\\\\\n",
       "\tdeadstartmodel & 0.4166691 & 0.5930113\\\\\n",
       "\tstaticar1errormodel & 0.3712139 & 0.4867612\\\\\n",
       "\\end{tabular}\n"
      ],
      "text/markdown": [
       "\n",
       "| <!--/--> | mae | rmse |\n",
       "|---|---|---|\n",
       "| ardl1111 | 0.3772668 | 0.507392  |\n",
       "| ar1 | 0.4459767 | 0.6611237 |\n",
       "| diffmodel | 0.583082  | 0.7060951 |\n",
       "| leadingindcmodels | 0.4241683 | 0.5961608 |\n",
       "| distlagsmodel | 0.3784693 | 0.5070067 |\n",
       "| partialadjmodel | 0.3816766 | 0.4982016 |\n",
       "| deadstartmodel | 0.4166691 | 0.5930113 |\n",
       "| staticar1errormodel | 0.3712139 | 0.4867612 |\n",
       "\n"
      ],
      "text/plain": [
       "                    mae       rmse     \n",
       "ardl1111            0.3772668 0.507392 \n",
       "ar1                 0.4459767 0.6611237\n",
       "diffmodel           0.583082  0.7060951\n",
       "leadingindcmodels   0.4241683 0.5961608\n",
       "distlagsmodel       0.3784693 0.5070067\n",
       "partialadjmodel     0.3816766 0.4982016\n",
       "deadstartmodel      0.4166691 0.5930113\n",
       "staticar1errormodel 0.3712139 0.4867612"
      ]
     },
     "metadata": {},
     "output_type": "display_data"
    }
   ],
   "source": [
    "do.call('cbind', static_list)"
   ]
  },
  {
   "cell_type": "code",
   "execution_count": 150,
   "metadata": {},
   "outputs": [],
   "source": [
    "rec_list = list()\n",
    "\n",
    "mae_list = list()\n",
    "rmse_list = list()\n",
    "for (col in colnames(df_pred_rec)){\n",
    "    if ((col != 'x') & (col != 'y1')){\n",
    "        mae_list[[col]] = mae(actual = df_pred_rec$y1, predicted = df_pred_rec[[col]])\n",
    "        rmse_list[[col]] = rmse(actual = df_pred_rec$y1, predicted = df_pred_rec[[col]])\n",
    "        \n",
    "        rec_list$mae = mae_list\n",
    "        rec_list$rmse = rmse_list\n",
    "    }\n",
    "}"
   ]
  },
  {
   "cell_type": "code",
   "execution_count": 151,
   "metadata": {},
   "outputs": [
    {
     "data": {
      "text/html": [
       "<table>\n",
       "<thead><tr><th></th><th scope=col>mae</th><th scope=col>rmse</th></tr></thead>\n",
       "<tbody>\n",
       "\t<tr><th scope=row>ardl1111</th><td>0.4092899</td><td>0.5547137</td></tr>\n",
       "\t<tr><th scope=row>ar1</th><td>0.380351</td><td>0.586759</td></tr>\n",
       "\t<tr><th scope=row>diffmodel</th><td>0.2492419</td><td>0.3820539</td></tr>\n",
       "\t<tr><th scope=row>leadingindcmodels</th><td>0.3394559</td><td>0.441702 </td></tr>\n",
       "\t<tr><th scope=row>distlagsmodel</th><td>0.3976713</td><td>0.5422389</td></tr>\n",
       "\t<tr><th scope=row>partialadjmodel</th><td>0.4190225</td><td>0.5628456</td></tr>\n",
       "\t<tr><th scope=row>deadstartmodel</th><td>0.320907 </td><td>0.4186711</td></tr>\n",
       "\t<tr><th scope=row>staticar1errormodel</th><td>0.3889198</td><td>0.5203233</td></tr>\n",
       "</tbody>\n",
       "</table>\n"
      ],
      "text/latex": [
       "\\begin{tabular}{r|ll}\n",
       "  & mae & rmse\\\\\n",
       "\\hline\n",
       "\tardl1111 & 0.4092899 & 0.5547137\\\\\n",
       "\tar1 & 0.380351 & 0.586759\\\\\n",
       "\tdiffmodel & 0.2492419 & 0.3820539\\\\\n",
       "\tleadingindcmodels & 0.3394559 & 0.441702 \\\\\n",
       "\tdistlagsmodel & 0.3976713 & 0.5422389\\\\\n",
       "\tpartialadjmodel & 0.4190225 & 0.5628456\\\\\n",
       "\tdeadstartmodel & 0.320907  & 0.4186711\\\\\n",
       "\tstaticar1errormodel & 0.3889198 & 0.5203233\\\\\n",
       "\\end{tabular}\n"
      ],
      "text/markdown": [
       "\n",
       "| <!--/--> | mae | rmse |\n",
       "|---|---|---|\n",
       "| ardl1111 | 0.4092899 | 0.5547137 |\n",
       "| ar1 | 0.380351 | 0.586759 |\n",
       "| diffmodel | 0.2492419 | 0.3820539 |\n",
       "| leadingindcmodels | 0.3394559 | 0.441702  |\n",
       "| distlagsmodel | 0.3976713 | 0.5422389 |\n",
       "| partialadjmodel | 0.4190225 | 0.5628456 |\n",
       "| deadstartmodel | 0.320907  | 0.4186711 |\n",
       "| staticar1errormodel | 0.3889198 | 0.5203233 |\n",
       "\n"
      ],
      "text/plain": [
       "                    mae       rmse     \n",
       "ardl1111            0.4092899 0.5547137\n",
       "ar1                 0.380351  0.586759 \n",
       "diffmodel           0.2492419 0.3820539\n",
       "leadingindcmodels   0.3394559 0.441702 \n",
       "distlagsmodel       0.3976713 0.5422389\n",
       "partialadjmodel     0.4190225 0.5628456\n",
       "deadstartmodel      0.320907  0.4186711\n",
       "staticar1errormodel 0.3889198 0.5203233"
      ]
     },
     "metadata": {},
     "output_type": "display_data"
    }
   ],
   "source": [
    "do.call('cbind', rec_list)"
   ]
  },
  {
   "cell_type": "markdown",
   "metadata": {},
   "source": [
    "For the static predictions, its possible to see that, in both terms of the MAE an RMSE, the three lowest values are for the \"ardl1111model\", \"distlagsmodel\", and \"staticar1errormodel\". The overall winner for the static pred in both metrics is the \"staticar1errormodel\".\n",
    "\n",
    "For the recursive prediction, its possible to see that, in both terms of MAE an RMSe, the three lowest values are for the \"diffmodel\", \"deadstartmodel\", and \"leadingindcmodels\". The overall winer for the static pred is the \"diffmodel\"."
   ]
  },
  {
   "cell_type": "code",
   "execution_count": null,
   "metadata": {},
   "outputs": [],
   "source": []
  }
 ],
 "metadata": {
  "kernelspec": {
   "display_name": "R",
   "language": "R",
   "name": "ir"
  },
  "language_info": {
   "codemirror_mode": "r",
   "file_extension": ".r",
   "mimetype": "text/x-r-source",
   "name": "R",
   "pygments_lexer": "r",
   "version": "3.6.1"
  }
 },
 "nbformat": 4,
 "nbformat_minor": 4
}
