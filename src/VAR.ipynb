{
 "cells": [
  {
   "cell_type": "markdown",
   "metadata": {},
   "source": [
    "# Exercise\n",
    "\n",
    "**(1)** Find the best Lag order for your VAR specification:\n",
    "> **(a)** Information criteria: AIC, HQ, SC, FPE\n",
    "\n",
    "**(2)** Specify an overparametrized VAR model\n",
    "\n",
    "**(3)** Perform diagnostic tests for both VAR models\n",
    "> **(a)** Residual normality test\n",
    "\n",
    "> **(b)** Heteroscedasticity test\n",
    "\n",
    "> **(c)** Serial correlation\n",
    "\n",
    "**(4)** Perform static and dynamic forecast for both VAR models:\n",
    "> **(a)** Compare than in terms of RMSE and MAE\n",
    "\n",
    "> **(b)** Estimate the forecast confidence intervals\n",
    "\n",
    "**(5)** Estimate the impulse response function (IRF) for the optimal VAR model"
   ]
  },
  {
   "cell_type": "code",
   "execution_count": 25,
   "metadata": {},
   "outputs": [
    {
     "name": "stderr",
     "output_type": "stream",
     "text": [
      "Warning message:\n",
      "\"package 'vars' was built under R version 3.6.3\"Loading required package: MASS\n",
      "\n",
      "Attaching package: 'MASS'\n",
      "\n",
      "The following object is masked from 'package:dplyr':\n",
      "\n",
      "    select\n",
      "\n",
      "Loading required package: strucchange\n",
      "Warning message:\n",
      "\"package 'strucchange' was built under R version 3.6.3\"Loading required package: zoo\n",
      "\n",
      "Attaching package: 'zoo'\n",
      "\n",
      "The following objects are masked from 'package:base':\n",
      "\n",
      "    as.Date, as.Date.numeric\n",
      "\n",
      "Loading required package: sandwich\n",
      "Warning message:\n",
      "\"package 'sandwich' was built under R version 3.6.3\"Loading required package: urca\n",
      "Warning message:\n",
      "\"package 'urca' was built under R version 3.6.3\"Loading required package: lmtest\n",
      "Warning message:\n",
      "\"package 'lmtest' was built under R version 3.6.3\""
     ]
    }
   ],
   "source": [
    "library('data.table')\n",
    "library('dplyr')\n",
    "library('here')\n",
    "library('ggplot2')\n",
    "library('reshape')\n",
    "library('vars')"
   ]
  },
  {
   "cell_type": "code",
   "execution_count": 221,
   "metadata": {},
   "outputs": [
    {
     "data": {
      "text/html": [
       "<table>\n",
       "<thead><tr><th scope=col>date</th><th scope=col>d_1988q1</th><th scope=col>d_1993q1</th><th scope=col>d_2000q1</th><th scope=col>g_fr</th><th scope=col>g_ger</th><th scope=col>g_it</th><th scope=col>g_us</th></tr></thead>\n",
       "<tbody>\n",
       "\t<tr><td>1986-01-01</td><td>0         </td><td>0         </td><td>0         </td><td>2.01      </td><td>2.35      </td><td>3.45      </td><td>4.19      </td></tr>\n",
       "\t<tr><td>1986-04-01</td><td>0         </td><td>0         </td><td>0         </td><td>2.39      </td><td>2.51      </td><td>2.77      </td><td>3.73      </td></tr>\n",
       "\t<tr><td>1986-07-01</td><td>0         </td><td>0         </td><td>0         </td><td>2.36      </td><td>1.92      </td><td>2.97      </td><td>3.12      </td></tr>\n",
       "\t<tr><td>1986-10-01</td><td>0         </td><td>0         </td><td>0         </td><td>2.06      </td><td>2.33      </td><td>2.70      </td><td>2.84      </td></tr>\n",
       "\t<tr><td>1987-01-01</td><td>0         </td><td>0         </td><td>0         </td><td>1.97      </td><td>0.31      </td><td>2.49      </td><td>2.42      </td></tr>\n",
       "\t<tr><td>1987-04-01</td><td>0         </td><td>0         </td><td>0         </td><td>1.94      </td><td>1.41      </td><td>3.37      </td><td>3.10      </td></tr>\n",
       "</tbody>\n",
       "</table>\n"
      ],
      "text/latex": [
       "\\begin{tabular}{r|llllllll}\n",
       " date & d\\_1988q1 & d\\_1993q1 & d\\_2000q1 & g\\_fr & g\\_ger & g\\_it & g\\_us\\\\\n",
       "\\hline\n",
       "\t 1986-01-01 & 0          & 0          & 0          & 2.01       & 2.35       & 3.45       & 4.19      \\\\\n",
       "\t 1986-04-01 & 0          & 0          & 0          & 2.39       & 2.51       & 2.77       & 3.73      \\\\\n",
       "\t 1986-07-01 & 0          & 0          & 0          & 2.36       & 1.92       & 2.97       & 3.12      \\\\\n",
       "\t 1986-10-01 & 0          & 0          & 0          & 2.06       & 2.33       & 2.70       & 2.84      \\\\\n",
       "\t 1987-01-01 & 0          & 0          & 0          & 1.97       & 0.31       & 2.49       & 2.42      \\\\\n",
       "\t 1987-04-01 & 0          & 0          & 0          & 1.94       & 1.41       & 3.37       & 3.10      \\\\\n",
       "\\end{tabular}\n"
      ],
      "text/markdown": [
       "\n",
       "| date | d_1988q1 | d_1993q1 | d_2000q1 | g_fr | g_ger | g_it | g_us |\n",
       "|---|---|---|---|---|---|---|---|\n",
       "| 1986-01-01 | 0          | 0          | 0          | 2.01       | 2.35       | 3.45       | 4.19       |\n",
       "| 1986-04-01 | 0          | 0          | 0          | 2.39       | 2.51       | 2.77       | 3.73       |\n",
       "| 1986-07-01 | 0          | 0          | 0          | 2.36       | 1.92       | 2.97       | 3.12       |\n",
       "| 1986-10-01 | 0          | 0          | 0          | 2.06       | 2.33       | 2.70       | 2.84       |\n",
       "| 1987-01-01 | 0          | 0          | 0          | 1.97       | 0.31       | 2.49       | 2.42       |\n",
       "| 1987-04-01 | 0          | 0          | 0          | 1.94       | 1.41       | 3.37       | 3.10       |\n",
       "\n"
      ],
      "text/plain": [
       "  date       d_1988q1 d_1993q1 d_2000q1 g_fr g_ger g_it g_us\n",
       "1 1986-01-01 0        0        0        2.01 2.35  3.45 4.19\n",
       "2 1986-04-01 0        0        0        2.39 2.51  2.77 3.73\n",
       "3 1986-07-01 0        0        0        2.36 1.92  2.97 3.12\n",
       "4 1986-10-01 0        0        0        2.06 2.33  2.70 2.84\n",
       "5 1987-01-01 0        0        0        1.97 0.31  2.49 2.42\n",
       "6 1987-04-01 0        0        0        1.94 1.41  3.37 3.10"
      ]
     },
     "metadata": {},
     "output_type": "display_data"
    }
   ],
   "source": [
    "df = fread(here('src', 'data', 'eu_growth_ch6_sec10.csv'))\n",
    "df = df_orig = df %>% mutate(date=as.Date(date))\n",
    "head(df)"
   ]
  },
  {
   "cell_type": "code",
   "execution_count": 21,
   "metadata": {},
   "outputs": [
    {
     "data": {
      "text/html": [
       "<table>\n",
       "<thead><tr><th scope=col>date</th><th scope=col>variable</th><th scope=col>value</th></tr></thead>\n",
       "<tbody>\n",
       "\t<tr><td>1986-01-01</td><td>g_fr      </td><td>2.01      </td></tr>\n",
       "\t<tr><td>1986-04-01</td><td>g_fr      </td><td>2.39      </td></tr>\n",
       "\t<tr><td>1986-07-01</td><td>g_fr      </td><td>2.36      </td></tr>\n",
       "\t<tr><td>1986-10-01</td><td>g_fr      </td><td>2.06      </td></tr>\n",
       "\t<tr><td>1987-01-01</td><td>g_fr      </td><td>1.97      </td></tr>\n",
       "\t<tr><td>1987-04-01</td><td>g_fr      </td><td>1.94      </td></tr>\n",
       "</tbody>\n",
       "</table>\n"
      ],
      "text/latex": [
       "\\begin{tabular}{r|lll}\n",
       " date & variable & value\\\\\n",
       "\\hline\n",
       "\t 1986-01-01 & g\\_fr     & 2.01      \\\\\n",
       "\t 1986-04-01 & g\\_fr     & 2.39      \\\\\n",
       "\t 1986-07-01 & g\\_fr     & 2.36      \\\\\n",
       "\t 1986-10-01 & g\\_fr     & 2.06      \\\\\n",
       "\t 1987-01-01 & g\\_fr     & 1.97      \\\\\n",
       "\t 1987-04-01 & g\\_fr     & 1.94      \\\\\n",
       "\\end{tabular}\n"
      ],
      "text/markdown": [
       "\n",
       "| date | variable | value |\n",
       "|---|---|---|\n",
       "| 1986-01-01 | g_fr       | 2.01       |\n",
       "| 1986-04-01 | g_fr       | 2.39       |\n",
       "| 1986-07-01 | g_fr       | 2.36       |\n",
       "| 1986-10-01 | g_fr       | 2.06       |\n",
       "| 1987-01-01 | g_fr       | 1.97       |\n",
       "| 1987-04-01 | g_fr       | 1.94       |\n",
       "\n"
      ],
      "text/plain": [
       "  date       variable value\n",
       "1 1986-01-01 g_fr     2.01 \n",
       "2 1986-04-01 g_fr     2.39 \n",
       "3 1986-07-01 g_fr     2.36 \n",
       "4 1986-10-01 g_fr     2.06 \n",
       "5 1987-01-01 g_fr     1.97 \n",
       "6 1987-04-01 g_fr     1.94 "
      ]
     },
     "metadata": {},
     "output_type": "display_data"
    }
   ],
   "source": [
    "df_melted = reshape::melt(df, id.vars = c('date'), measure.vars = c('g_fr', 'g_ger', 'g_it', 'g_us'))\n",
    "head(df_melted)"
   ]
  },
  {
   "cell_type": "code",
   "execution_count": 23,
   "metadata": {},
   "outputs": [
    {
     "data": {
      "image/png": "[encoded data removed]",
      "text/plain": [
       "plot without title"
      ]
     },
     "metadata": {},
     "output_type": "display_data"
    }
   ],
   "source": [
    "ggplot(df_melted, aes(x=date, y=value, colour=variable, group=variable)) + geom_line()"
   ]
  },
  {
   "cell_type": "markdown",
   "metadata": {},
   "source": [
    "## **(1)** Find the best Lag order for your VAR specification:\n",
    "\n",
    "The reduced form VAR(p) model is given by:\n",
    "\n",
    "$\n",
    "y_t = \\mu + \\Phi_1 y_{t-1} + ... + \\Phi_p y_{t-p} + \\epsilon_t, \\quad \\epsilon_t \\sim WN(0, \\Sigma)\\\\\n",
    "$\n",
    "\n",
    "where $y_t = [y_{1t} ... y_{nt}]^{'}$ is the vector of endogenous variables, and $\\Phi_p$ is an $m x m$ matrix.\n",
    "\n",
    "Its typically assumed that $y_t$ is a weakly stationary process, that is:\n",
    "\n",
    "$\n",
    "\\mathbf{E}[y_t] = c\\\\\n",
    "Var(y_T) = V_0 < \\infty\\\\\n",
    "Cov(y_t, y_{t-j}) = V_j\n",
    "$\n",
    "\n",
    "Furthermore, weakly stationarity is verified when all the roots $z$ of $det(\\mathbf{I} - \\Phi_1 z- ... - \\Phi_p z^p) = 0$ are larger then one in absolute value.\n",
    "\n",
    "\n"
   ]
  },
  {
   "cell_type": "markdown",
   "metadata": {},
   "source": [
    "### **(a)** Information criteria: AIC\n",
    "\n",
    "The multivariate version of the AIC is given by:\n",
    "\n",
    "$\n",
    "AIC(j) = \\ln|\\Sigma_j| + \\frac{1}{T}jm^2\n",
    "$\n",
    "\n",
    "As in the univariate case, the procedure to select the best $j$ VAR order that is optimal in the information criteria is to compute the AIC, for example, for a range $j=1,..,p_{max}$ and choose $j$ that minimizes the AIC."
   ]
  },
  {
   "cell_type": "code",
   "execution_count": 26,
   "metadata": {},
   "outputs": [
    {
     "data": {
      "text/html": [
       "<dl>\n",
       "\t<dt>$selection</dt>\n",
       "\t\t<dd><dl class=dl-horizontal>\n",
       "\t<dt>AIC(n)</dt>\n",
       "\t\t<dd>5</dd>\n",
       "\t<dt>HQ(n)</dt>\n",
       "\t\t<dd>2</dd>\n",
       "\t<dt>SC(n)</dt>\n",
       "\t\t<dd>2</dd>\n",
       "\t<dt>FPE(n)</dt>\n",
       "\t\t<dd>5</dd>\n",
       "</dl>\n",
       "</dd>\n",
       "\t<dt>$criteria</dt>\n",
       "\t\t<dd><table>\n",
       "<thead><tr><th></th><th scope=col>1</th><th scope=col>2</th><th scope=col>3</th><th scope=col>4</th><th scope=col>5</th></tr></thead>\n",
       "<tbody>\n",
       "\t<tr><th scope=row>AIC(n)</th><td>-2.38472547</td><td>-2.82719607</td><td>-2.81319737</td><td>-2.90576027</td><td>-3.0979675 </td></tr>\n",
       "\t<tr><th scope=row>HQ(n)</th><td>-2.17751082</td><td>-2.45420970</td><td>-2.27443927</td><td>-2.20123045</td><td>-2.2276660 </td></tr>\n",
       "\t<tr><th scope=row>SC(n)</th><td>-1.87312761</td><td>-1.90631992</td><td>-1.48304293</td><td>-1.16632754</td><td>-0.9492565 </td></tr>\n",
       "\t<tr><th scope=row>FPE(n)</th><td> 0.09214241</td><td> 0.05928441</td><td> 0.06033855</td><td> 0.05537811</td><td> 0.0461995 </td></tr>\n",
       "</tbody>\n",
       "</table>\n",
       "</dd>\n",
       "</dl>\n"
      ],
      "text/latex": [
       "\\begin{description}\n",
       "\\item[\\$selection] \\begin{description*}\n",
       "\\item[AIC(n)] 5\n",
       "\\item[HQ(n)] 2\n",
       "\\item[SC(n)] 2\n",
       "\\item[FPE(n)] 5\n",
       "\\end{description*}\n",
       "\n",
       "\\item[\\$criteria] \\begin{tabular}{r|lllll}\n",
       "  & 1 & 2 & 3 & 4 & 5\\\\\n",
       "\\hline\n",
       "\tAIC(n) & -2.38472547 & -2.82719607 & -2.81319737 & -2.90576027 & -3.0979675 \\\\\n",
       "\tHQ(n) & -2.17751082 & -2.45420970 & -2.27443927 & -2.20123045 & -2.2276660 \\\\\n",
       "\tSC(n) & -1.87312761 & -1.90631992 & -1.48304293 & -1.16632754 & -0.9492565 \\\\\n",
       "\tFPE(n) &  0.09214241 &  0.05928441 &  0.06033855 &  0.05537811 &  0.0461995 \\\\\n",
       "\\end{tabular}\n",
       "\n",
       "\\end{description}\n"
      ],
      "text/markdown": [
       "$selection\n",
       ":   AIC(n)\n",
       ":   5HQ(n)\n",
       ":   2SC(n)\n",
       ":   2FPE(n)\n",
       ":   5\n",
       "\n",
       "\n",
       "$criteria\n",
       ":   \n",
       "| <!--/--> | 1 | 2 | 3 | 4 | 5 |\n",
       "|---|---|---|---|---|---|\n",
       "| AIC(n) | -2.38472547 | -2.82719607 | -2.81319737 | -2.90576027 | -3.0979675  |\n",
       "| HQ(n) | -2.17751082 | -2.45420970 | -2.27443927 | -2.20123045 | -2.2276660  |\n",
       "| SC(n) | -1.87312761 | -1.90631992 | -1.48304293 | -1.16632754 | -0.9492565  |\n",
       "| FPE(n) |  0.09214241 |  0.05928441 |  0.06033855 |  0.05537811 |  0.0461995  |\n",
       "\n",
       "\n",
       "\n",
       "\n"
      ],
      "text/plain": [
       "$selection\n",
       "AIC(n)  HQ(n)  SC(n) FPE(n) \n",
       "     5      2      2      5 \n",
       "\n",
       "$criteria\n",
       "                 1           2           3           4          5\n",
       "AIC(n) -2.38472547 -2.82719607 -2.81319737 -2.90576027 -3.0979675\n",
       "HQ(n)  -2.17751082 -2.45420970 -2.27443927 -2.20123045 -2.2276660\n",
       "SC(n)  -1.87312761 -1.90631992 -1.48304293 -1.16632754 -0.9492565\n",
       "FPE(n)  0.09214241  0.05928441  0.06033855  0.05537811  0.0461995\n"
      ]
     },
     "metadata": {},
     "output_type": "display_data"
    }
   ],
   "source": [
    "var_df = df[, c('g_fr', 'g_ger', 'g_it', 'g_us')]\n",
    "VARselect(var_df, lag.max = 5)"
   ]
  },
  {
   "cell_type": "markdown",
   "metadata": {},
   "source": [
    "According to the AIC the lag $j$ that minimizes it is equal to 5 lags."
   ]
  },
  {
   "cell_type": "code",
   "execution_count": 27,
   "metadata": {},
   "outputs": [
    {
     "data": {
      "text/plain": [
       "\n",
       "VAR Estimation Results:\n",
       "========================= \n",
       "Endogenous variables: g_fr, g_ger, g_it, g_us \n",
       "Deterministic variables: const \n",
       "Sample size: 103 \n",
       "Log Likelihood: -341.057 \n",
       "Roots of the characteristic polynomial:\n",
       "0.9356 0.9098 0.9098 0.8997 0.8997 0.8871 0.8871 0.8573 0.8573 0.8208 0.8208 0.7389 0.7389 0.7039 0.7039 0.6549 0.6549 0.6096 0.6096 0.6093\n",
       "Call:\n",
       "VAR(y = var_df, p = 5)\n",
       "\n",
       "\n",
       "Estimation results for equation g_fr: \n",
       "===================================== \n",
       "g_fr = g_fr.l1 + g_ger.l1 + g_it.l1 + g_us.l1 + g_fr.l2 + g_ger.l2 + g_it.l2 + g_us.l2 + g_fr.l3 + g_ger.l3 + g_it.l3 + g_us.l3 + g_fr.l4 + g_ger.l4 + g_it.l4 + g_us.l4 + g_fr.l5 + g_ger.l5 + g_it.l5 + g_us.l5 + const \n",
       "\n",
       "          Estimate Std. Error t value Pr(>|t|)    \n",
       "g_fr.l1   1.113124   0.137568   8.091  4.6e-12 ***\n",
       "g_ger.l1 -0.146229   0.061864  -2.364 0.020457 *  \n",
       "g_it.l1   0.177273   0.078042   2.272 0.025737 *  \n",
       "g_us.l1   0.327561   0.086041   3.807 0.000270 ***\n",
       "g_fr.l2   0.007994   0.170430   0.047 0.962703    \n",
       "g_ger.l2  0.125115   0.079970   1.565 0.121547    \n",
       "g_it.l2  -0.150247   0.088861  -1.691 0.094671 .  \n",
       "g_us.l2  -0.377831   0.124872  -3.026 0.003312 ** \n",
       "g_fr.l3  -0.123952   0.167047  -0.742 0.460197    \n",
       "g_ger.l3  0.022050   0.081090   0.272 0.786365    \n",
       "g_it.l3  -0.089790   0.088971  -1.009 0.315841    \n",
       "g_us.l3  -0.022690   0.129515  -0.175 0.861362    \n",
       "g_fr.l4  -0.560638   0.164598  -3.406 0.001023 ** \n",
       "g_ger.l4  0.016551   0.080621   0.205 0.837848    \n",
       "g_it.l4   0.175130   0.091192   1.920 0.058277 .  \n",
       "g_us.l4   0.147378   0.130808   1.127 0.263166    \n",
       "g_fr.l5   0.459193   0.127148   3.611 0.000523 ***\n",
       "g_ger.l5 -0.110473   0.065265  -1.693 0.094312 .  \n",
       "g_it.l5  -0.097238   0.082541  -1.178 0.242183    \n",
       "g_us.l5   0.025145   0.092768   0.271 0.787036    \n",
       "const     0.072650   0.123570   0.588 0.558196    \n",
       "---\n",
       "Signif. codes:  0 '***' 0.001 '**' 0.01 '*' 0.05 '.' 0.1 ' ' 1\n",
       "\n",
       "\n",
       "Residual standard error: 0.4817 on 82 degrees of freedom\n",
       "Multiple R-Squared: 0.9361,\tAdjusted R-squared: 0.9205 \n",
       "F-statistic: 60.06 on 20 and 82 DF,  p-value: < 2.2e-16 \n",
       "\n",
       "\n",
       "Estimation results for equation g_ger: \n",
       "====================================== \n",
       "g_ger = g_fr.l1 + g_ger.l1 + g_it.l1 + g_us.l1 + g_fr.l2 + g_ger.l2 + g_it.l2 + g_us.l2 + g_fr.l3 + g_ger.l3 + g_it.l3 + g_us.l3 + g_fr.l4 + g_ger.l4 + g_it.l4 + g_us.l4 + g_fr.l5 + g_ger.l5 + g_it.l5 + g_us.l5 + const \n",
       "\n",
       "          Estimate Std. Error t value Pr(>|t|)    \n",
       "g_fr.l1   0.560847   0.278992   2.010   0.0477 *  \n",
       "g_ger.l1  0.690788   0.125461   5.506 4.11e-07 ***\n",
       "g_it.l1   0.193042   0.158272   1.220   0.2261    \n",
       "g_us.l1   0.239369   0.174495   1.372   0.1739    \n",
       "g_fr.l2  -0.171422   0.345638  -0.496   0.6213    \n",
       "g_ger.l2  0.195813   0.162182   1.207   0.2308    \n",
       "g_it.l2  -0.302338   0.180213  -1.678   0.0972 .  \n",
       "g_us.l2  -0.222881   0.253245  -0.880   0.3814    \n",
       "g_fr.l3  -0.136014   0.338777  -0.401   0.6891    \n",
       "g_ger.l3 -0.033474   0.164453  -0.204   0.8392    \n",
       "g_it.l3   0.035291   0.180435   0.196   0.8454    \n",
       "g_us.l3  -0.024658   0.262661  -0.094   0.9254    \n",
       "g_fr.l4  -0.336730   0.333810  -1.009   0.3161    \n",
       "g_ger.l4 -0.210362   0.163502  -1.287   0.2019    \n",
       "g_it.l4   0.091969   0.184941   0.497   0.6203    \n",
       "g_us.l4  -0.156656   0.265283  -0.591   0.5565    \n",
       "g_fr.l5   0.501642   0.257859   1.945   0.0552 .  \n",
       "g_ger.l5  0.008039   0.132360   0.061   0.9517    \n",
       "g_it.l5  -0.078062   0.167397  -0.466   0.6422    \n",
       "g_us.l5   0.116511   0.188137   0.619   0.5374    \n",
       "const     0.056900   0.250604   0.227   0.8210    \n",
       "---\n",
       "Signif. codes:  0 '***' 0.001 '**' 0.01 '*' 0.05 '.' 0.1 ' ' 1\n",
       "\n",
       "\n",
       "Residual standard error: 0.9769 on 82 degrees of freedom\n",
       "Multiple R-Squared: 0.8442,\tAdjusted R-squared: 0.8062 \n",
       "F-statistic: 22.22 on 20 and 82 DF,  p-value: < 2.2e-16 \n",
       "\n",
       "\n",
       "Estimation results for equation g_it: \n",
       "===================================== \n",
       "g_it = g_fr.l1 + g_ger.l1 + g_it.l1 + g_us.l1 + g_fr.l2 + g_ger.l2 + g_it.l2 + g_us.l2 + g_fr.l3 + g_ger.l3 + g_it.l3 + g_us.l3 + g_fr.l4 + g_ger.l4 + g_it.l4 + g_us.l4 + g_fr.l5 + g_ger.l5 + g_it.l5 + g_us.l5 + const \n",
       "\n",
       "          Estimate Std. Error t value Pr(>|t|)    \n",
       "g_fr.l1   0.532052   0.213858   2.488 0.014877 *  \n",
       "g_ger.l1 -0.076713   0.096171  -0.798 0.427363    \n",
       "g_it.l1   0.840818   0.121321   6.930 8.75e-10 ***\n",
       "g_us.l1   0.304451   0.133756   2.276 0.025444 *  \n",
       "g_fr.l2  -0.245667   0.264944  -0.927 0.356523    \n",
       "g_ger.l2  0.204485   0.124319   1.645 0.103829    \n",
       "g_it.l2  -0.105999   0.138140  -0.767 0.445088    \n",
       "g_us.l2  -0.364566   0.194121  -1.878 0.063931 .  \n",
       "g_fr.l3  -0.180749   0.259685  -0.696 0.488377    \n",
       "g_ger.l3 -0.064121   0.126059  -0.509 0.612360    \n",
       "g_it.l3   0.221273   0.138310   1.600 0.113482    \n",
       "g_us.l3  -0.044812   0.201339  -0.223 0.824424    \n",
       "g_fr.l4  -0.296304   0.255877  -1.158 0.250228    \n",
       "g_ger.l4  0.007754   0.125330   0.062 0.950817    \n",
       "g_it.l4  -0.499832   0.141764  -3.526 0.000694 ***\n",
       "g_us.l4   0.134083   0.203349   0.659 0.511503    \n",
       "g_fr.l5   0.284615   0.197659   1.440 0.153694    \n",
       "g_ger.l5 -0.181845   0.101459  -1.792 0.076772 .  \n",
       "g_it.l5   0.396522   0.128316   3.090 0.002732 ** \n",
       "g_us.l5   0.069177   0.144214   0.480 0.632729    \n",
       "const    -0.105923   0.192097  -0.551 0.582858    \n",
       "---\n",
       "Signif. codes:  0 '***' 0.001 '**' 0.01 '*' 0.05 '.' 0.1 ' ' 1\n",
       "\n",
       "\n",
       "Residual standard error: 0.7488 on 82 degrees of freedom\n",
       "Multiple R-Squared: 0.9026,\tAdjusted R-squared: 0.8788 \n",
       "F-statistic: 37.99 on 20 and 82 DF,  p-value: < 2.2e-16 \n",
       "\n",
       "\n",
       "Estimation results for equation g_us: \n",
       "===================================== \n",
       "g_us = g_fr.l1 + g_ger.l1 + g_it.l1 + g_us.l1 + g_fr.l2 + g_ger.l2 + g_it.l2 + g_us.l2 + g_fr.l3 + g_ger.l3 + g_it.l3 + g_us.l3 + g_fr.l4 + g_ger.l4 + g_it.l4 + g_us.l4 + g_fr.l5 + g_ger.l5 + g_it.l5 + g_us.l5 + const \n",
       "\n",
       "         Estimate Std. Error t value Pr(>|t|)    \n",
       "g_fr.l1   0.26412    0.18504   1.427  0.15728    \n",
       "g_ger.l1 -0.19439    0.08321  -2.336  0.02193 *  \n",
       "g_it.l1   0.15420    0.10497   1.469  0.14569    \n",
       "g_us.l1   1.10457    0.11573   9.544 5.97e-15 ***\n",
       "g_fr.l2  -0.03530    0.22924  -0.154  0.87799    \n",
       "g_ger.l2  0.07887    0.10757   0.733  0.46551    \n",
       "g_it.l2  -0.13904    0.11953  -1.163  0.24809    \n",
       "g_us.l2  -0.10025    0.16796  -0.597  0.55224    \n",
       "g_fr.l3  -0.06259    0.22469  -0.279  0.78127    \n",
       "g_ger.l3 -0.02659    0.10907  -0.244  0.80801    \n",
       "g_it.l3  -0.11605    0.11967  -0.970  0.33506    \n",
       "g_us.l3  -0.20057    0.17421  -1.151  0.25295    \n",
       "g_fr.l4  -0.24874    0.22140  -1.123  0.26451    \n",
       "g_ger.l4  0.08934    0.10844   0.824  0.41243    \n",
       "g_it.l4   0.23258    0.12266   1.896  0.06147 .  \n",
       "g_us.l4  -0.14333    0.17595  -0.815  0.41764    \n",
       "g_fr.l5   0.04180    0.17103   0.244  0.80752    \n",
       "g_ger.l5 -0.09826    0.08779  -1.119  0.26630    \n",
       "g_it.l5   0.03324    0.11103   0.299  0.76540    \n",
       "g_us.l5   0.18350    0.12478   1.471  0.14524    \n",
       "const     0.51944    0.16621   3.125  0.00246 ** \n",
       "---\n",
       "Signif. codes:  0 '***' 0.001 '**' 0.01 '*' 0.05 '.' 0.1 ' ' 1\n",
       "\n",
       "\n",
       "Residual standard error: 0.6479 on 82 degrees of freedom\n",
       "Multiple R-Squared: 0.904,\tAdjusted R-squared: 0.8806 \n",
       "F-statistic:  38.6 on 20 and 82 DF,  p-value: < 2.2e-16 \n",
       "\n",
       "\n",
       "\n",
       "Covariance matrix of residuals:\n",
       "        g_fr  g_ger    g_it    g_us\n",
       "g_fr  0.2320 0.2359 0.20889 0.10206\n",
       "g_ger 0.2359 0.9543 0.31179 0.12561\n",
       "g_it  0.2089 0.3118 0.56072 0.05479\n",
       "g_us  0.1021 0.1256 0.05479 0.41979\n",
       "\n",
       "Correlation matrix of residuals:\n",
       "        g_fr  g_ger   g_it   g_us\n",
       "g_fr  1.0000 0.5013 0.5791 0.3270\n",
       "g_ger 0.5013 1.0000 0.4262 0.1985\n",
       "g_it  0.5791 0.4262 1.0000 0.1129\n",
       "g_us  0.3270 0.1985 0.1129 1.0000\n",
       "\n"
      ]
     },
     "metadata": {},
     "output_type": "display_data"
    }
   ],
   "source": [
    "opt_VAR = VAR(var_df, p = 5)\n",
    "summary(opt_VAR)"
   ]
  },
  {
   "cell_type": "markdown",
   "metadata": {},
   "source": [
    "## **(2)** Specify an overparametrized VAR model"
   ]
  },
  {
   "cell_type": "code",
   "execution_count": 28,
   "metadata": {},
   "outputs": [],
   "source": [
    "over_VAR = VAR(var_df, p = 10)"
   ]
  },
  {
   "cell_type": "markdown",
   "metadata": {},
   "source": [
    "## **(3)** Perform diagnostic tests for both VAR models\n",
    "### **(a)** Residual normality test"
   ]
  },
  {
   "cell_type": "code",
   "execution_count": 33,
   "metadata": {},
   "outputs": [
    {
     "data": {
      "text/plain": [
       "$JB\n",
       "\n",
       "\tJB-Test (multivariate)\n",
       "\n",
       "data:  Residuals of VAR object opt_VAR\n",
       "Chi-squared = 37.417, df = 8, p-value = 9.643e-06\n",
       "\n",
       "\n",
       "$Skewness\n",
       "\n",
       "\tSkewness only (multivariate)\n",
       "\n",
       "data:  Residuals of VAR object opt_VAR\n",
       "Chi-squared = 6.4588, df = 4, p-value = 0.1674\n",
       "\n",
       "\n",
       "$Kurtosis\n",
       "\n",
       "\tKurtosis only (multivariate)\n",
       "\n",
       "data:  Residuals of VAR object opt_VAR\n",
       "Chi-squared = 30.958, df = 4, p-value = 3.122e-06\n",
       "\n"
      ]
     },
     "metadata": {},
     "output_type": "display_data"
    }
   ],
   "source": [
    "nt1 = normality.test(opt_VAR)\n",
    "nt1$jb.mul"
   ]
  },
  {
   "cell_type": "code",
   "execution_count": 35,
   "metadata": {},
   "outputs": [
    {
     "data": {
      "text/plain": [
       "$JB\n",
       "\n",
       "\tJB-Test (multivariate)\n",
       "\n",
       "data:  Residuals of VAR object over_VAR\n",
       "Chi-squared = 5.7507, df = 8, p-value = 0.6751\n",
       "\n",
       "\n",
       "$Skewness\n",
       "\n",
       "\tSkewness only (multivariate)\n",
       "\n",
       "data:  Residuals of VAR object over_VAR\n",
       "Chi-squared = 2.9852, df = 4, p-value = 0.5603\n",
       "\n",
       "\n",
       "$Kurtosis\n",
       "\n",
       "\tKurtosis only (multivariate)\n",
       "\n",
       "data:  Residuals of VAR object over_VAR\n",
       "Chi-squared = 2.7655, df = 4, p-value = 0.5978\n",
       "\n"
      ]
     },
     "metadata": {},
     "output_type": "display_data"
    }
   ],
   "source": [
    "nt2 = normality.test(over_VAR)\n",
    "nt2$jb.mul"
   ]
  },
  {
   "cell_type": "markdown",
   "metadata": {},
   "source": [
    "As can be seem, the residuals of the VAR(10) does not reject the null hypothesis of normality whereas the VAR(5) does. "
   ]
  },
  {
   "cell_type": "raw",
   "metadata": {},
   "source": []
  },
  {
   "cell_type": "markdown",
   "metadata": {},
   "source": [
    "### **(b)** Heteroscedasticity test\n",
    "\n",
    "In order to test for heteroscedasticity of the residuals, we perform the ARCH test as follows:"
   ]
  },
  {
   "cell_type": "code",
   "execution_count": 38,
   "metadata": {},
   "outputs": [
    {
     "data": {
      "text/plain": [
       "\n",
       "\tARCH (multivariate)\n",
       "\n",
       "data:  Residuals of VAR object opt_VAR\n",
       "Chi-squared = 520.17, df = 500, p-value = 0.2577\n"
      ]
     },
     "metadata": {},
     "output_type": "display_data"
    }
   ],
   "source": [
    "arch1 = arch.test(opt_VAR)\n",
    "arch1$arch.mul"
   ]
  },
  {
   "cell_type": "code",
   "execution_count": 39,
   "metadata": {},
   "outputs": [
    {
     "data": {
      "text/plain": [
       "\n",
       "\tARCH (multivariate)\n",
       "\n",
       "data:  Residuals of VAR object over_VAR\n",
       "Chi-squared = 533.74, df = 500, p-value = 0.1435\n"
      ]
     },
     "metadata": {},
     "output_type": "display_data"
    }
   ],
   "source": [
    "arch2 = arch.test(over_VAR)\n",
    "arch2$arch.mul"
   ]
  },
  {
   "cell_type": "markdown",
   "metadata": {},
   "source": [
    "For both of the models we do not reject the homoscedasticity hypothesis."
   ]
  },
  {
   "cell_type": "markdown",
   "metadata": {},
   "source": [
    "###  **(c)** Serial correlation"
   ]
  },
  {
   "cell_type": "code",
   "execution_count": 48,
   "metadata": {},
   "outputs": [
    {
     "name": "stderr",
     "output_type": "stream",
     "text": [
      "Warning message in pchisq(STATISTIC, df = PARAMETER):\n",
      "\"NaNs produced\"Warning message in pchisq(STATISTIC, df = PARAMETER):\n",
      "\"NaNs produced\""
     ]
    },
    {
     "data": {
      "text/plain": [
       "\n",
       "\tPortmanteau Test (asymptotic)\n",
       "\n",
       "data:  Residuals of VAR object opt_VAR\n",
       "Chi-squared = 7.625, df = -48, p-value = NA\n"
      ]
     },
     "metadata": {},
     "output_type": "display_data"
    }
   ],
   "source": [
    "s1 = serial.test(opt_VAR, lags.pt = 2)\n",
    "s1$serial"
   ]
  },
  {
   "cell_type": "code",
   "execution_count": 43,
   "metadata": {},
   "outputs": [
    {
     "name": "stderr",
     "output_type": "stream",
     "text": [
      "Warning message in pchisq(STATISTIC, df = PARAMETER):\n",
      "\"NaNs produced\"Warning message in pchisq(STATISTIC, df = PARAMETER):\n",
      "\"NaNs produced\""
     ]
    },
    {
     "data": {
      "text/plain": [
       "\n",
       "\tPortmanteau Test (asymptotic)\n",
       "\n",
       "data:  Residuals of VAR object over_VAR\n",
       "Chi-squared = 10.609, df = -128, p-value = NA\n"
      ]
     },
     "metadata": {},
     "output_type": "display_data"
    }
   ],
   "source": [
    "s2 = serial.test(over_VAR, lags.pt = 2)\n",
    "s2$serial"
   ]
  },
  {
   "cell_type": "markdown",
   "metadata": {},
   "source": [
    "## **(4)** Perform for both VAR models:\n",
    "### **(a)** Compare than in terms of RMSE and MAE"
   ]
  },
  {
   "cell_type": "code",
   "execution_count": 169,
   "metadata": {},
   "outputs": [],
   "source": [
    "var_sample_df = var_df[1:88,]\n",
    "var_forecast_df = var_df[89:dim(var_df)[1],]"
   ]
  },
  {
   "cell_type": "code",
   "execution_count": 180,
   "metadata": {},
   "outputs": [],
   "source": [
    "opt_var_insample = VAR(var_sample_df, p = 5)\n",
    "over_var_insample = VAR(var_sample_df, p = 10)"
   ]
  },
  {
   "cell_type": "code",
   "execution_count": 181,
   "metadata": {},
   "outputs": [],
   "source": [
    "opt_var_static_oos_pred = predict(opt_var_insample, n.ahead = (dim(var_df)[1]-89))\n",
    "over_var_static_oos_pred = predict(over_var_insample, n.ahead = (dim(var_df)[1]-89))"
   ]
  },
  {
   "cell_type": "code",
   "execution_count": 195,
   "metadata": {},
   "outputs": [],
   "source": [
    "create_forecast_df = function(ls){\n",
    "    list_out = list()\n",
    "    for (name in names(ls)){\n",
    "        list_out[[name]] = as.data.frame(ls[[name]])$fcst\n",
    "    }\n",
    "    df_out = do.call('cbind', list_out) %>% as.data.frame()\n",
    "    \n",
    "    return(df_out)\n",
    "}"
   ]
  },
  {
   "cell_type": "code",
   "execution_count": 196,
   "metadata": {},
   "outputs": [],
   "source": [
    "opt_var_static_oos_pred_df = create_forecast_df(opt_var_static_oos_pred$fcst)\n",
    "over_var_static_oos_pred_df = create_forecast_df(over_var_static_oos_pred$fcst)"
   ]
  },
  {
   "cell_type": "code",
   "execution_count": 197,
   "metadata": {},
   "outputs": [],
   "source": [
    "pred_list = list()\n",
    "error_list = list()"
   ]
  },
  {
   "cell_type": "code",
   "execution_count": 198,
   "metadata": {},
   "outputs": [],
   "source": [
    "mae_mse_error = function(df, real){\n",
    "    list_mae = list()\n",
    "    list_mse = list()\n",
    "    for (name in colnames(df)){\n",
    "        list_mae[[name]] = mean(abs(y[,name] - df[,name]))\n",
    "        list_mse[[name]] = mean((y[,name] - df[,name])^2)\n",
    "    }\n",
    "    return(list(mae=list_mae, mse=list_mse))\n",
    "}"
   ]
  },
  {
   "cell_type": "code",
   "execution_count": 199,
   "metadata": {},
   "outputs": [],
   "source": [
    "pred_list1 = list()\n",
    "pred_list1[['opt']] = opt_var_static_oos_pred_df\n",
    "pred_list1[['over']] = over_var_static_oos_pred_df"
   ]
  },
  {
   "cell_type": "code",
   "execution_count": 200,
   "metadata": {},
   "outputs": [
    {
     "name": "stderr",
     "output_type": "stream",
     "text": [
      "Warning message in y[, name] - df[, name]:\n",
      "\"longer object length is not a multiple of shorter object length\"Warning message in y[, name] - df[, name]:\n",
      "\"longer object length is not a multiple of shorter object length\"Warning message in y[, name] - df[, name]:\n",
      "\"longer object length is not a multiple of shorter object length\"Warning message in y[, name] - df[, name]:\n",
      "\"longer object length is not a multiple of shorter object length\"Warning message in y[, name] - df[, name]:\n",
      "\"longer object length is not a multiple of shorter object length\"Warning message in y[, name] - df[, name]:\n",
      "\"longer object length is not a multiple of shorter object length\"Warning message in y[, name] - df[, name]:\n",
      "\"longer object length is not a multiple of shorter object length\"Warning message in y[, name] - df[, name]:\n",
      "\"longer object length is not a multiple of shorter object length\"Warning message in y[, name] - df[, name]:\n",
      "\"longer object length is not a multiple of shorter object length\"Warning message in y[, name] - df[, name]:\n",
      "\"longer object length is not a multiple of shorter object length\"Warning message in y[, name] - df[, name]:\n",
      "\"longer object length is not a multiple of shorter object length\"Warning message in y[, name] - df[, name]:\n",
      "\"longer object length is not a multiple of shorter object length\"Warning message in y[, name] - df[, name]:\n",
      "\"longer object length is not a multiple of shorter object length\"Warning message in y[, name] - df[, name]:\n",
      "\"longer object length is not a multiple of shorter object length\"Warning message in y[, name] - df[, name]:\n",
      "\"longer object length is not a multiple of shorter object length\"Warning message in y[, name] - df[, name]:\n",
      "\"longer object length is not a multiple of shorter object length\""
     ]
    }
   ],
   "source": [
    "error_list1 = list()\n",
    "error_list1[['opt']] = mae_mse_error(pred_list1[['opt']], var_forecast_df)\n",
    "error_list1[['over']] = mae_mse_error(pred_list1[['over']], var_forecast_df)\n",
    "\n",
    "pred_list[['static']] = pred_list1\n",
    "error_list[['static']] = error_list1"
   ]
  },
  {
   "cell_type": "code",
   "execution_count": 203,
   "metadata": {},
   "outputs": [
    {
     "data": {
      "text/html": [
       "<table>\n",
       "<thead><tr><th></th><th scope=col>mae</th><th scope=col>mse</th></tr></thead>\n",
       "<tbody>\n",
       "\t<tr><th scope=row>g_fr</th><td>1.75957 </td><td>5.876318</td></tr>\n",
       "\t<tr><th scope=row>g_ger</th><td>2.682934</td><td>12.57426</td></tr>\n",
       "\t<tr><th scope=row>g_it</th><td>2.653588</td><td>12.77957</td></tr>\n",
       "\t<tr><th scope=row>g_us</th><td>2.308495</td><td>9.760789</td></tr>\n",
       "</tbody>\n",
       "</table>\n"
      ],
      "text/latex": [
       "\\begin{tabular}{r|ll}\n",
       "  & mae & mse\\\\\n",
       "\\hline\n",
       "\tg\\_fr & 1.75957  & 5.876318\\\\\n",
       "\tg\\_ger & 2.682934 & 12.57426\\\\\n",
       "\tg\\_it & 2.653588 & 12.77957\\\\\n",
       "\tg\\_us & 2.308495 & 9.760789\\\\\n",
       "\\end{tabular}\n"
      ],
      "text/markdown": [
       "\n",
       "| <!--/--> | mae | mse |\n",
       "|---|---|---|\n",
       "| g_fr | 1.75957  | 5.876318 |\n",
       "| g_ger | 2.682934 | 12.57426 |\n",
       "| g_it | 2.653588 | 12.77957 |\n",
       "| g_us | 2.308495 | 9.760789 |\n",
       "\n"
      ],
      "text/plain": [
       "      mae      mse     \n",
       "g_fr  1.75957  5.876318\n",
       "g_ger 2.682934 12.57426\n",
       "g_it  2.653588 12.77957\n",
       "g_us  2.308495 9.760789"
      ]
     },
     "metadata": {},
     "output_type": "display_data"
    }
   ],
   "source": [
    "do.call('cbind', error_list$static$opt)"
   ]
  },
  {
   "cell_type": "code",
   "execution_count": 204,
   "metadata": {},
   "outputs": [
    {
     "data": {
      "text/html": [
       "<table>\n",
       "<thead><tr><th></th><th scope=col>mae</th><th scope=col>mse</th></tr></thead>\n",
       "<tbody>\n",
       "\t<tr><th scope=row>g_fr</th><td>1.662224</td><td>5.11503 </td></tr>\n",
       "\t<tr><th scope=row>g_ger</th><td>2.879412</td><td>13.75992</td></tr>\n",
       "\t<tr><th scope=row>g_it</th><td>2.577013</td><td>11.96193</td></tr>\n",
       "\t<tr><th scope=row>g_us</th><td>2.745778</td><td>13.77236</td></tr>\n",
       "</tbody>\n",
       "</table>\n"
      ],
      "text/latex": [
       "\\begin{tabular}{r|ll}\n",
       "  & mae & mse\\\\\n",
       "\\hline\n",
       "\tg\\_fr & 1.662224 & 5.11503 \\\\\n",
       "\tg\\_ger & 2.879412 & 13.75992\\\\\n",
       "\tg\\_it & 2.577013 & 11.96193\\\\\n",
       "\tg\\_us & 2.745778 & 13.77236\\\\\n",
       "\\end{tabular}\n"
      ],
      "text/markdown": [
       "\n",
       "| <!--/--> | mae | mse |\n",
       "|---|---|---|\n",
       "| g_fr | 1.662224 | 5.11503  |\n",
       "| g_ger | 2.879412 | 13.75992 |\n",
       "| g_it | 2.577013 | 11.96193 |\n",
       "| g_us | 2.745778 | 13.77236 |\n",
       "\n"
      ],
      "text/plain": [
       "      mae      mse     \n",
       "g_fr  1.662224 5.11503 \n",
       "g_ger 2.879412 13.75992\n",
       "g_it  2.577013 11.96193\n",
       "g_us  2.745778 13.77236"
      ]
     },
     "metadata": {},
     "output_type": "display_data"
    }
   ],
   "source": [
    "do.call('cbind', error_list$static$over)"
   ]
  },
  {
   "cell_type": "markdown",
   "metadata": {},
   "source": [
    "Interestingly, the error metrics provide us mixed results. For instance, the MAE and MSE for the g_ger, and g_us were lower for the VAR(5) model, whereas for the g_fr, and g_it the VAR(10) performed best."
   ]
  },
  {
   "cell_type": "markdown",
   "metadata": {},
   "source": [
    "### **(b)** Estimate the forecast confidence intervals\n",
    "\n"
   ]
  },
  {
   "cell_type": "code",
   "execution_count": 248,
   "metadata": {},
   "outputs": [
    {
     "data": {
      "image/png": "[encoded data removed]",
      "text/plain": [
       "plot without title"
      ]
     },
     "metadata": {},
     "output_type": "display_data"
    }
   ],
   "source": [
    "endog_name = 'g_fr'\n",
    "\n",
    "melt_ci_df = opt_var_static_oos_pred$fcst[[name]] %>% as.data.frame() %>% dplyr::select(fcst, lower, upper) %>% mutate(date=as.Date(df_orig[90:dim(df_orig)[1], 'date']))\n",
    "melt_ci_df = melt(melt_ci_df, id.vars = c('date'), measure.vars = c('fcst', 'lower', 'upper'))\n",
    "\n",
    "ggplot(melt_ci_df, aes(x=date, y=value, color=variable, group=variable)) + geom_line()"
   ]
  },
  {
   "cell_type": "code",
   "execution_count": null,
   "metadata": {},
   "outputs": [],
   "source": []
  }
 ],
 "metadata": {
  "kernelspec": {
   "display_name": "R",
   "language": "R",
   "name": "ir"
  },
  "language_info": {
   "codemirror_mode": "r",
   "file_extension": ".r",
   "mimetype": "text/x-r-source",
   "name": "R",
   "pygments_lexer": "r",
   "version": "3.6.1"
  }
 },
 "nbformat": 4,
 "nbformat_minor": 4
}
